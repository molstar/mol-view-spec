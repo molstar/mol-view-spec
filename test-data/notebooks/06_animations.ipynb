{
 "cells": [
  {
   "cell_type": "code",
   "execution_count": 1,
   "id": "66587411",
   "metadata": {},
   "outputs": [],
   "source": [
    "# !pip install molviewspec"
   ]
  },
  {
   "cell_type": "code",
   "execution_count": 1,
   "id": "f5f51956",
   "metadata": {},
   "outputs": [],
   "source": [
    "import molviewspec as mvs"
   ]
  },
  {
   "cell_type": "code",
   "execution_count": 2,
   "id": "aa47b0ae",
   "metadata": {},
   "outputs": [],
   "source": [
    "builder = mvs.create_builder()\n",
    "structure = (\n",
    "    builder.download(url=f\"https://files.wwpdb.org/download/1cbs.cif\")\n",
    "        .parse(format=\"mmcif\")\n",
    "        .model_structure()\n",
    ")\n",
    "\n",
    "structure.component().representation()\n",
    "\n",
    "structure.component(selector=\"ligand\").representation(type=\"ball_and_stick\").color(ref=\"color\", color=\"blue\")\n",
    "\n",
    "anim = builder.animation()\n",
    "\n",
    "anim.interpolate(\n",
    "    kind=\"color\",\n",
    "    target_ref=\"color\",\n",
    "    duration_ms=1000,\n",
    "    property=\"color\",\n",
    "    palette={\n",
    "        \"kind\": \"continuous\",\n",
    "        \"colors\": [\"blue\", \"red\"]\n",
    "    }\n",
    ")\n",
    "\n",
    "mvsj = mvs.MVSJ(\n",
    "    data=mvs.States(\n",
    "        snapshots=[\n",
    "            builder.get_snapshot()\n",
    "        ],\n",
    "        metadata=mvs.GlobalMetadata(description=\"Animation Test\")\n",
    "    )\n",
    ")\n",
    "\n",
    "# uncomment to save to a local file\n",
    "# mvsj.dump(\"./local/path/to/1cbs.mvsj\")\n",
    "\n",
    "# uncomment to show in default Mol* viewer\n",
    "# mvsj\n",
    "\n",
    "# uncomment to store HTML in a local file\n",
    "# html = mvs.molstar_html(mvsj, ui=\"stories\")  # or mvsj.molstar_html(ui=\"stories\")\n",
    "# with open(\"path/to/1cbs.html\", \"w\") as f:\n",
    "#     f.write(html)\n",
    "\n",
    "# uncomment to show in Mol* Stories viewer\n",
    "# mvs.molstar_notebook(mvsj, ui=\"stories\", width=\"100%\", height=550)"
   ]
  }
 ],
 "metadata": {
  "kernelspec": {
   "display_name": "mol-view-spec-dev",
   "language": "python",
   "name": "python3"
  },
  "language_info": {
   "codemirror_mode": {
    "name": "ipython",
    "version": 3
   },
   "file_extension": ".py",
   "mimetype": "text/x-python",
   "name": "python",
   "nbconvert_exporter": "python",
   "pygments_lexer": "ipython3",
   "version": "3.11.11"
  }
 },
 "nbformat": 4,
 "nbformat_minor": 5
}
