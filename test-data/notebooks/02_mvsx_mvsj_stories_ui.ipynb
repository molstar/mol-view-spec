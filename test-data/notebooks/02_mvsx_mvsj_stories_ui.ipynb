{
 "cells": [
  {
   "cell_type": "code",
   "execution_count": 1,
   "id": "66587411",
   "metadata": {},
   "outputs": [],
   "source": [
    "# !pip install molviewspec"
   ]
  },
  {
   "cell_type": "code",
   "execution_count": 10,
   "id": "f5f51956",
   "metadata": {},
   "outputs": [],
   "source": [
    "import molviewspec as mvs"
   ]
  },
  {
   "cell_type": "code",
   "execution_count": 11,
   "id": "f9dd67fe",
   "metadata": {},
   "outputs": [],
   "source": [
    "builder = mvs.create_builder()\n",
    "\n",
    "assets = {\n",
    "    \"1cbs.cif\": \"https://files.wwpdb.org/download/1cbs.cif\",\n",
    "    # To use a local file:\n",
    "    # \"1cbs.cif\": \"./local/path/to/1cbs.cif\",\n",
    "}\n",
    "\n",
    "(\n",
    "    builder.download(url=\"1cbs.cif\")\n",
    "        .parse(format=\"mmcif\")\n",
    "        .model_structure()\n",
    "        .component()\n",
    "        .representation()\n",
    "        .color(color=\"blue\")\n",
    ")\n",
    "\n",
    "mvsx = mvs.MVSX(\n",
    "    data=builder.get_state(),\n",
    "    assets=assets\n",
    ")\n",
    "\n",
    "# uncomment to save to a local file\n",
    "# mvsx.dump(\"./local/path/to/1cbs.mvsx\")\n",
    "\n",
    "# uncomment to view using Mol* Stories app\n",
    "# mvs.molstar_notebook(mvsx, ui=\"stories\")  # or mvsx.molstar_notebook(ui=\"stories\")\n",
    "\n",
    "# uncomment to show default view in Mol* viewer\n",
    "# mvsx"
   ]
  },
  {
   "cell_type": "code",
   "execution_count": null,
   "id": "aa47b0ae",
   "metadata": {},
   "outputs": [
    {
     "data": {
      "text/plain": [
       "'<!DOCTYPE html>\\n<html lang=\"en\">\\n    <head>\\n        <script src=\"https://cdn.jsdelivr.net/npm/molstar@latest/build/viewer/molstar.js\"></script>\\n        <link rel=\"stylesheet\" type=\"text/css\" href=\"https://cdn.jsdelivr.net/npm/molstar@latest/build/viewer/molstar.css\" />\\n    </head>\\n    <body>\\n        <div id=\"viewer1\"></div>\\n        <script>\\n            var mvsData = \"{\\\\\"kind\\\\\":\\\\\"multiple\\\\\",\\\\\"metadata\\\\\":{\\\\\"description\\\\\":\\\\\"PDB Slideshow\\\\\",\\\\\"timestamp\\\\\":\\\\\"2025-05-21T14:50:22.612759+00:00\\\\\",\\\\\"version\\\\\":\\\\\"1.5\\\\\"},\\\\\"snapshots\\\\\":[{\\\\\"root\\\\\":{\\\\\"kind\\\\\":\\\\\"root\\\\\",\\\\\"children\\\\\":[{\\\\\"kind\\\\\":\\\\\"download\\\\\",\\\\\"params\\\\\":{\\\\\"url\\\\\":\\\\\"https://files.wwpdb.org/download/1cbs.cif\\\\\"},\\\\\"children\\\\\":[{\\\\\"kind\\\\\":\\\\\"parse\\\\\",\\\\\"params\\\\\":{\\\\\"format\\\\\":\\\\\"mmcif\\\\\"},\\\\\"children\\\\\":[{\\\\\"kind\\\\\":\\\\\"structure\\\\\",\\\\\"params\\\\\":{\\\\\"type\\\\\":\\\\\"model\\\\\"},\\\\\"children\\\\\":[{\\\\\"kind\\\\\":\\\\\"component\\\\\",\\\\\"params\\\\\":{\\\\\"selector\\\\\":\\\\\"all\\\\\"},\\\\\"children\\\\\":[{\\\\\"kind\\\\\":\\\\\"representation\\\\\",\\\\\"params\\\\\":{\\\\\"type\\\\\":\\\\\"cartoon\\\\\"},\\\\\"children\\\\\":[{\\\\\"kind\\\\\":\\\\\"color\\\\\",\\\\\"params\\\\\":{\\\\\"color\\\\\":\\\\\"blue\\\\\"}}]}]}]}]}]}]},\\\\\"metadata\\\\\":{\\\\\"title\\\\\":\\\\\"1cbs\\\\\",\\\\\"description\\\\\":\\\\\"Simple view of PDB ID 1cbs\\\\\",\\\\\"key\\\\\":\\\\\"d52fb391-f592-4e59-a2e4-058d091add05\\\\\",\\\\\"linger_duration_ms\\\\\":1000}},{\\\\\"root\\\\\":{\\\\\"kind\\\\\":\\\\\"root\\\\\",\\\\\"children\\\\\":[{\\\\\"kind\\\\\":\\\\\"download\\\\\",\\\\\"params\\\\\":{\\\\\"url\\\\\":\\\\\"https://files.wwpdb.org/download/1tqn.cif\\\\\"},\\\\\"children\\\\\":[{\\\\\"kind\\\\\":\\\\\"parse\\\\\",\\\\\"params\\\\\":{\\\\\"format\\\\\":\\\\\"mmcif\\\\\"},\\\\\"children\\\\\":[{\\\\\"kind\\\\\":\\\\\"structure\\\\\",\\\\\"params\\\\\":{\\\\\"type\\\\\":\\\\\"model\\\\\"},\\\\\"children\\\\\":[{\\\\\"kind\\\\\":\\\\\"component\\\\\",\\\\\"params\\\\\":{\\\\\"selector\\\\\":\\\\\"all\\\\\"},\\\\\"children\\\\\":[{\\\\\"kind\\\\\":\\\\\"representation\\\\\",\\\\\"params\\\\\":{\\\\\"type\\\\\":\\\\\"cartoon\\\\\"},\\\\\"children\\\\\":[{\\\\\"kind\\\\\":\\\\\"color\\\\\",\\\\\"params\\\\\":{\\\\\"color\\\\\":\\\\\"red\\\\\"}}]}]}]}]}]}]},\\\\\"metadata\\\\\":{\\\\\"title\\\\\":\\\\\"1tqn\\\\\",\\\\\"description\\\\\":\\\\\"Simple view of PDB ID 1tqn\\\\\",\\\\\"key\\\\\":\\\\\"a8a0ff2b-d210-4a67-904d-0d85a103427d\\\\\",\\\\\"linger_duration_ms\\\\\":1000}}]}\";\\n            molstar.Viewer\\n                .create(\\'viewer1\\', { layoutIsExpanded: false, layoutShowControls: false })\\n                .then(viewer => viewer.loadMvsData(mvsData, \\'mvsj\\'));\\n        </script>\\n    </body>\\n</html>\\n'"
      ]
     },
     "execution_count": 12,
     "metadata": {},
     "output_type": "execute_result"
    }
   ],
   "source": [
    "def load_pdb_snapshot(id: str, color: str) -> mvs.State:\n",
    "    builder = mvs.create_builder()\n",
    "    (\n",
    "        builder.download(url=f\"https://files.wwpdb.org/download/{id}.cif\")\n",
    "            .parse(format=\"mmcif\")\n",
    "            .model_structure()\n",
    "            .component()\n",
    "            .representation()\n",
    "            .color(color=color)\n",
    "    )\n",
    "    return builder.get_snapshot(title=id, description=f\"Simple view of PDB ID {id}\")\n",
    "\n",
    "mvsj = mvs.MVSJ(\n",
    "    data=mvs.States(\n",
    "        snapshots=[\n",
    "            load_pdb_snapshot(\"1cbs\", \"blue\"),\n",
    "            load_pdb_snapshot(\"1tqn\", \"red\"),\n",
    "        ],\n",
    "        metadata=mvs.GlobalMetadata(description=\"PDB Slideshow\")\n",
    "    )\n",
    ")\n",
    "\n",
    "# uncomment to save to a local file\n",
    "# mvsj.dump(\"./local/path/to/1cbs.mvsj\")\n",
    "\n",
    "# uncomment to show in default Mol* viewer\n",
    "# mvsj\n",
    "\n",
    "# uncomment to store HTML in a local file\n",
    "# html = mvs.molstar_html(mvsj, ui=\"stories\")  # or mvsj.molstar_html(ui=\"stories\")\n",
    "# with open(\"path/to/1cbs.html\", \"w\") as f:\n",
    "#     f.write(html)\n",
    "\n",
    "# uncomment to show in Mol* Stories viewer\n",
    "# mvs.molstar_notebook(mvsj, ui=\"stories\")"
   ]
  },
  {
   "cell_type": "code",
   "execution_count": null,
   "id": "42e7e11e",
   "metadata": {},
   "outputs": [],
   "source": []
  }
 ],
 "metadata": {
  "kernelspec": {
   "display_name": "mol-view-spec-dev",
   "language": "python",
   "name": "python3"
  },
  "language_info": {
   "codemirror_mode": {
    "name": "ipython",
    "version": 3
   },
   "file_extension": ".py",
   "mimetype": "text/x-python",
   "name": "python",
   "nbconvert_exporter": "python",
   "pygments_lexer": "ipython3",
   "version": "3.11.11"
  }
 },
 "nbformat": 4,
 "nbformat_minor": 5
}
