{
 "cells": [
  {
   "cell_type": "code",
   "execution_count": 1,
   "id": "66587411",
   "metadata": {},
   "outputs": [],
   "source": [
    "import molviewspec as mvs"
   ]
  },
  {
   "cell_type": "code",
   "execution_count": 4,
   "id": "f9dd67fe",
   "metadata": {},
   "outputs": [],
   "source": [
    "builder = mvs.create_builder()\n",
    "\n",
    "assets = {\n",
    "    \"1cbs.cif\": \"https://files.wwpdb.org/download/1cbs.cif\",\n",
    "    # \"1cbs.cif\": \"./local/path/to/1cbs.cif\",  # Uncomment to use a local file\n",
    "}\n",
    "\n",
    "(\n",
    "    builder.download(url=assets[\"1cbs.cif\"])\n",
    "        .parse(format=\"mmcif\")\n",
    "        .model_structure()\n",
    "        .component()\n",
    "        .representation()\n",
    "        .color(color=\"blue\")\n",
    ")\n",
    "\n",
    "mvsx = mvs.MVSX(\n",
    "    data=builder.get_state(serialize=False),\n",
    "    assets=assets\n",
    ")\n",
    "\n",
    "# uncomment to save to a local file\n",
    "# mvsx.dump(\"./local/path/to/1cbs.mvsx\")\n",
    "\n",
    "# uncomment to show in Mol* viewer\n",
    "# mvsx "
   ]
  },
  {
   "cell_type": "code",
   "execution_count": 7,
   "id": "aa47b0ae",
   "metadata": {},
   "outputs": [
    {
     "data": {
      "text/html": [
       "<div id=\"molstar_f91ebc73-7fd1-4f21-8f96-8a3427ce4674\"></div>"
      ],
      "text/plain": [
       "<IPython.core.display.HTML object>"
      ]
     },
     "metadata": {},
     "output_type": "display_data"
    },
    {
     "data": {
      "application/javascript": "\n    setTimeout(function(){\n        var wrapper = document.getElementById(\"molstar_f91ebc73-7fd1-4f21-8f96-8a3427ce4674\")\n        if (wrapper === null) {\n            throw new Error(\"Wrapper element #molstar_f91ebc73-7fd1-4f21-8f96-8a3427ce4674 not found anymore\")\n        }\n        var blob = new Blob([\"<!DOCTYPE html>\\n<html lang=\\\"en\\\">\\n<head>\\n    <title>Molecular Stories</title>\\n    <style>\\n        * {\\n            margin: 0;\\n            padding: 0;\\n            box-sizing: border-box;\\n        }\\n\\n        #viewer {\\n            position: absolute;\\n            left: 0;\\n            top: 0;\\n            right: 34%;\\n            bottom: 0;\\n        }\\n\\n        #controls {\\n            position: absolute;\\n            left: 66%;\\n            top: 0;\\n            right: 0;\\n            bottom: 0;\\n            padding: 16px;\\n            padding-bottom: 20px;\\n            border: 1px solid #ccc;\\n            border-left: none;\\n            background: #F6F5F3;\\n            z-index: -2;\\n            display: flex; \\n            flex-direction: column;\\n            gap: 16px;\\n        }\\n\\n        #links {\\n            position: absolute;\\n            bottom: 4px;\\n            right: 8px;\\n            font-family: \\\"Raleway\\\", \\\"HelveticaNeue\\\", \\\"Helvetica Neue\\\", Helvetica, Arial, sans-serif;\\n            font-size: 0.6rem;\\n            z-index: -1;\\n            color: #666;\\n        }\\n\\n        #links a {\\n            color: #666;\\n            text-decoration: none;\\n        }\\n\\n        @media (orientation:portrait) {\\n            #viewer {\\n                position: absolute;\\n                left: 0;\\n                top: 0;\\n                right: 0;\\n                bottom: 40%;\\n            }\\n\\n            #controls {\\n                position: absolute;\\n                left: 0;\\n                top: 60%;\\n                right: 0;\\n                bottom: 0;  \\n                border-top: none;  \\n            }\\n\\n            .markdown-explanation {\\n                font-size: 0.9rem !important;    \\n            }\\n\\n            .markdown-explanation h3 {\\n                font-size: 1.5rem !important;\\n            }\\n\\n            .msp-viewport-controls-buttons {\\n                display: none;\\n            }\\n        }\\n    </style>\\n    <!-- Replace \\\"latest\\\" by the specific version you want to use, e.g. \\\"4.0.0\\\" -->\\n    <script src=\\\"https://molstar.org/demos/mvs-stories/index.js\\\"></\" + \"script\" + \">\\n    <!-- Replace \\\"latest\\\" by the specific version you want to use, e.g. \\\"4.0.0\\\" -->\\n    <link rel=\\\"stylesheet\\\" type=\\\"text/css\\\" href=\\\"https://molstar.org/demos/mvs-stories/molstar.css\\\" />\\n</head>\\n<body>\\n    <div id=\\\"viewer\\\">\\n        <mc-viewer name=\\\"v1\\\" />\\n    </div>\\n    <div id=\\\"controls\\\">\\n        <div class=\\\"markdown-explanation\\\" style=\\\"flex-grow: 1;\\\">\\n            <mc-snapshot-markdown viewer-name=\\\"v1\\\" />\\n        </div>\\n    </div>\\n\\n    <script>\\n        var mvsData = \\\"{\\\\n  \\\\\\\"kind\\\\\\\": \\\\\\\"multiple\\\\\\\",\\\\n  \\\\\\\"metadata\\\\\\\": {\\\\n    \\\\\\\"description\\\\\\\": \\\\\\\"PDB Slideshow\\\\\\\",\\\\n    \\\\\\\"timestamp\\\\\\\": \\\\\\\"2025-05-20T09:45:35.914148+00:00\\\\\\\",\\\\n    \\\\\\\"version\\\\\\\": \\\\\\\"1.5\\\\\\\"\\\\n  },\\\\n  \\\\\\\"snapshots\\\\\\\": [\\\\n    {\\\\n      \\\\\\\"root\\\\\\\": {\\\\n        \\\\\\\"kind\\\\\\\": \\\\\\\"root\\\\\\\",\\\\n        \\\\\\\"children\\\\\\\": [\\\\n          {\\\\n            \\\\\\\"kind\\\\\\\": \\\\\\\"download\\\\\\\",\\\\n            \\\\\\\"params\\\\\\\": {\\\\n              \\\\\\\"url\\\\\\\": \\\\\\\"https://files.wwpdb.org/download/1cbs.cif\\\\\\\"\\\\n            },\\\\n            \\\\\\\"children\\\\\\\": [\\\\n              {\\\\n                \\\\\\\"kind\\\\\\\": \\\\\\\"parse\\\\\\\",\\\\n                \\\\\\\"params\\\\\\\": {\\\\n                  \\\\\\\"format\\\\\\\": \\\\\\\"mmcif\\\\\\\"\\\\n                },\\\\n                \\\\\\\"children\\\\\\\": [\\\\n                  {\\\\n                    \\\\\\\"kind\\\\\\\": \\\\\\\"structure\\\\\\\",\\\\n                    \\\\\\\"params\\\\\\\": {\\\\n                      \\\\\\\"type\\\\\\\": \\\\\\\"model\\\\\\\"\\\\n                    },\\\\n                    \\\\\\\"children\\\\\\\": [\\\\n                      {\\\\n                        \\\\\\\"kind\\\\\\\": \\\\\\\"component\\\\\\\",\\\\n                        \\\\\\\"params\\\\\\\": {\\\\n                          \\\\\\\"selector\\\\\\\": \\\\\\\"all\\\\\\\"\\\\n                        },\\\\n                        \\\\\\\"children\\\\\\\": [\\\\n                          {\\\\n                            \\\\\\\"kind\\\\\\\": \\\\\\\"representation\\\\\\\",\\\\n                            \\\\\\\"params\\\\\\\": {\\\\n                              \\\\\\\"type\\\\\\\": \\\\\\\"cartoon\\\\\\\"\\\\n                            },\\\\n                            \\\\\\\"children\\\\\\\": [\\\\n                              {\\\\n                                \\\\\\\"kind\\\\\\\": \\\\\\\"color\\\\\\\",\\\\n                                \\\\\\\"params\\\\\\\": {\\\\n                                  \\\\\\\"color\\\\\\\": \\\\\\\"blue\\\\\\\"\\\\n                                }\\\\n                              }\\\\n                            ]\\\\n                          }\\\\n                        ]\\\\n                      }\\\\n                    ]\\\\n                  }\\\\n                ]\\\\n              }\\\\n            ]\\\\n          }\\\\n        ]\\\\n      },\\\\n      \\\\\\\"metadata\\\\\\\": {\\\\n        \\\\\\\"title\\\\\\\": \\\\\\\"1cbs\\\\\\\",\\\\n        \\\\\\\"description\\\\\\\": \\\\\\\"Simple view of PDB ID 1cbs\\\\\\\",\\\\n        \\\\\\\"key\\\\\\\": \\\\\\\"9e8af342-6f94-48ac-aa17-57c6d8469eab\\\\\\\",\\\\n        \\\\\\\"linger_duration_ms\\\\\\\": 1000\\\\n      }\\\\n    },\\\\n    {\\\\n      \\\\\\\"root\\\\\\\": {\\\\n        \\\\\\\"kind\\\\\\\": \\\\\\\"root\\\\\\\",\\\\n        \\\\\\\"children\\\\\\\": [\\\\n          {\\\\n            \\\\\\\"kind\\\\\\\": \\\\\\\"download\\\\\\\",\\\\n            \\\\\\\"params\\\\\\\": {\\\\n              \\\\\\\"url\\\\\\\": \\\\\\\"https://files.wwpdb.org/download/1tqn.cif\\\\\\\"\\\\n            },\\\\n            \\\\\\\"children\\\\\\\": [\\\\n              {\\\\n                \\\\\\\"kind\\\\\\\": \\\\\\\"parse\\\\\\\",\\\\n                \\\\\\\"params\\\\\\\": {\\\\n                  \\\\\\\"format\\\\\\\": \\\\\\\"mmcif\\\\\\\"\\\\n                },\\\\n                \\\\\\\"children\\\\\\\": [\\\\n                  {\\\\n                    \\\\\\\"kind\\\\\\\": \\\\\\\"structure\\\\\\\",\\\\n                    \\\\\\\"params\\\\\\\": {\\\\n                      \\\\\\\"type\\\\\\\": \\\\\\\"model\\\\\\\"\\\\n                    },\\\\n                    \\\\\\\"children\\\\\\\": [\\\\n                      {\\\\n                        \\\\\\\"kind\\\\\\\": \\\\\\\"component\\\\\\\",\\\\n                        \\\\\\\"params\\\\\\\": {\\\\n                          \\\\\\\"selector\\\\\\\": \\\\\\\"all\\\\\\\"\\\\n                        },\\\\n                        \\\\\\\"children\\\\\\\": [\\\\n                          {\\\\n                            \\\\\\\"kind\\\\\\\": \\\\\\\"representation\\\\\\\",\\\\n                            \\\\\\\"params\\\\\\\": {\\\\n                              \\\\\\\"type\\\\\\\": \\\\\\\"cartoon\\\\\\\"\\\\n                            },\\\\n                            \\\\\\\"children\\\\\\\": [\\\\n                              {\\\\n                                \\\\\\\"kind\\\\\\\": \\\\\\\"color\\\\\\\",\\\\n                                \\\\\\\"params\\\\\\\": {\\\\n                                  \\\\\\\"color\\\\\\\": \\\\\\\"red\\\\\\\"\\\\n                                }\\\\n                              }\\\\n                            ]\\\\n                          }\\\\n                        ]\\\\n                      }\\\\n                    ]\\\\n                  }\\\\n                ]\\\\n              }\\\\n            ]\\\\n          }\\\\n        ]\\\\n      },\\\\n      \\\\\\\"metadata\\\\\\\": {\\\\n        \\\\\\\"title\\\\\\\": \\\\\\\"1tqn\\\\\\\",\\\\n        \\\\\\\"description\\\\\\\": \\\\\\\"Simple view of PDB ID 1tqn\\\\\\\",\\\\n        \\\\\\\"key\\\\\\\": \\\\\\\"d7affd62-af28-4e8e-9d26-f56c8880402a\\\\\\\",\\\\n        \\\\\\\"linger_duration_ms\\\\\\\": 1000\\\\n      }\\\\n    }\\\\n  ]\\\\n}\\\";\\n        setTimeout(() => {\\n            window.mc.getContext().dispatch({\\n                kind: 'load-mvs',\\n                format: 'mvsj',\\n                data: JSON.parse(mvsData),\\n            });\\n        }, 0);\\n    </\" + \"script\" + \">\\n</body>\\n</html>\\n\"], { type: 'text/html' });\n        var url = URL.createObjectURL(blob);\n\n        // Create the iframe\n        var iframe = document.createElement('iframe');\n        iframe.src = url;\n        iframe.style = \"border: 0; width: 950px; height: 600px\"\n        iframe.allow = \"fullscreen\";\n        iframe.allowFullscreen = true;\n        wrapper.appendChild(iframe);\n\n        // Create the download link\n        var link = document.createElement('a');\n        link.href = url;\n        link.download = \"molstar_download.html\";\n        link.innerText = \"Download HTML\";\n        link.style.display = \"block\";\n        link.style.marginTop = \"10px\";\n        wrapper.appendChild(link);\n    }, 100);\n    ",
      "text/plain": [
       "<IPython.core.display.Javascript object>"
      ]
     },
     "metadata": {},
     "output_type": "display_data"
    }
   ],
   "source": [
    "def load_pdb_snapshot(id: str, color: str) -> mvs.State:\n",
    "    builder = mvs.create_builder()\n",
    "    (\n",
    "        builder.download(url=f\"https://files.wwpdb.org/download/{id}.cif\")\n",
    "            .parse(format=\"mmcif\")\n",
    "            .model_structure()\n",
    "            .component()\n",
    "            .representation()\n",
    "            .color(color=color)\n",
    "    )\n",
    "    return builder.get_snapshot(title=id, description=f\"Simple view of PDB ID {id}\")\n",
    "\n",
    "mvsj = mvs.MVSJ(\n",
    "    data=mvs.States(\n",
    "        snapshots=[\n",
    "            load_pdb_snapshot(\"1cbs\", \"blue\"),\n",
    "            load_pdb_snapshot(\"1tqn\", \"red\"),\n",
    "        ],\n",
    "        metadata=mvs.GlobalMetadata(description=\"PDB Slideshow\")\n",
    "    )\n",
    ")\n",
    "\n",
    "# uncomment to save to a local file\n",
    "# mvsj.dump(\"./local/path/to/1cbs.mvsj\")\n",
    "\n",
    "# uncomment to show in default Mol* viewer\n",
    "# mvsj\n",
    "\n",
    "# uncomment to show in Mol* Stories viewer\n",
    "mvs.molstar_widgets.molstar_notebook(mvsj, ui=\"stories\")"
   ]
  },
  {
   "cell_type": "code",
   "execution_count": null,
   "id": "42e7e11e",
   "metadata": {},
   "outputs": [],
   "source": []
  }
 ],
 "metadata": {
  "kernelspec": {
   "display_name": "mol-view-spec-dev",
   "language": "python",
   "name": "python3"
  },
  "language_info": {
   "codemirror_mode": {
    "name": "ipython",
    "version": 3
   },
   "file_extension": ".py",
   "mimetype": "text/x-python",
   "name": "python",
   "nbconvert_exporter": "python",
   "pygments_lexer": "ipython3",
   "version": "3.11.11"
  }
 },
 "nbformat": 4,
 "nbformat_minor": 5
}
