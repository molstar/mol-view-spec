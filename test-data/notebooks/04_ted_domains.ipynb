{
 "cells": [
  {
   "cell_type": "markdown",
   "metadata": {},
   "source": [
    "# TED Domain Data Visualization Tutorial\n",
    "\n",
    "This notebook demonstrates how to:\n",
    "1. Fetch domain data from the TED API\n",
    "2. Extract domain chopping information\n",
    "3. Visualize the domains using molviewspec (mvs)\n",
    "\n",
    "## Setup\n",
    "First, let's import the required libraries"
   ]
  },
  {
   "cell_type": "code",
   "execution_count": 1,
   "metadata": {},
   "outputs": [],
   "source": [
    "import requests\n",
    "import molviewspec as mvs"
   ]
  },
  {
   "cell_type": "markdown",
   "metadata": {},
   "source": [
    "## Step 1: Fetch TED Domain Data\n",
    "\n",
    "We'll fetch domain data for UniProt ID Q8N9T8 from the TED API"
   ]
  },
  {
   "cell_type": "code",
   "execution_count": 2,
   "metadata": {},
   "outputs": [
    {
     "name": "stdout",
     "output_type": "stream",
     "text": [
      "Successfully fetched TED domain data!\n",
      "Number of domains found: 7\n",
      "Example domain data: {'ted_id': 'AF-Q99683-F1-model_v4_TED01', 'uniprot_acc': 'Q99683', 'md5_domain': '90ad7137b9f9ff5aac717d6e107d76e9', 'consensus_level': 'high', 'chopping': '93-271', 'nres_domain': 179, 'num_segments': 1, 'plddt': 76.8004, 'num_helix_strand_turn': 28, 'num_helix': 9, 'num_strand': 6, 'num_helix_strand': 15, 'num_turn': 11, 'proteome_id': 9606, 'cath_label': '3.40.50,3.40.50', 'cath_assignment_level': 'T', 'cath_assignment_method': 'foldseek,foldclass', 'packing_density': 11.518, 'norm_rg': 0.287, 'tax_common_name': 'Human', 'tax_scientific_name': 'Homo_sapiens', 'tax_lineage': 'cellular_organisms,Eukaryota,Opisthokonta,Metazoa,Eumetazoa,Bilateria,Deuterostomia,Chordata,Craniata,Vertebrata,Gnathostomata,Teleostomi,Euteleostomi,Sarcopterygii,Dipnotetrapodomorpha,Tetrapoda,Amniota,Mammalia,Theria,Eutheria,Boreoeutheria,Euarchontoglires,Primates,Haplorrhini,Simiiformes,Catarrhini,Hominoidea,Hominidae,Homininae,Homo', 'interactions': []}\n"
     ]
    }
   ],
   "source": [
    "# Define the UniProt ID\n",
    "protein_id = \"Q99683\"\n",
    "\n",
    "# Define the TED Metadata API URL\n",
    "ted_url = f\"https://ted.cathdb.info/api/v1/uniprot/summary/{protein_id}\"\n",
    "\n",
    "# Fetch the data\n",
    "response = requests.get(ted_url)\n",
    "ted_data = response.json()\n",
    "\n",
    "print(\"Successfully fetched TED domain data!\")\n",
    "print(f\"Number of domains found: {len(ted_data['data'])}\")\n",
    "print(f\"Example domain data: {ted_data['data'][0]}\")"
   ]
  },
  {
   "cell_type": "markdown",
   "metadata": {},
   "source": [
    "## Step 2: Extract Domain Chopping Information\n",
    "\n",
    "Let's extract and display the chopping information for each domain"
   ]
  },
  {
   "cell_type": "code",
   "execution_count": 3,
   "metadata": {},
   "outputs": [
    {
     "name": "stdout",
     "output_type": "stream",
     "text": [
      "Single domain Chopping Information:\n",
      "\n",
      "Domain ID: AF-Q99683-F1-model_v4_TED01\n",
      "Chopping: 93-271\n",
      "Consensus Level: high\n",
      "pLDDT Score: 76.80\n"
     ]
    }
   ],
   "source": [
    "# Extract chopping information\n",
    "domain_choppings = []\n",
    "for domain in ted_data['data']:\n",
    "    domain_info = {\n",
    "        'ted_id': domain['ted_id'],\n",
    "        'chopping': domain['chopping'],\n",
    "        'consensus_level': domain['consensus_level'],\n",
    "        'plddt': domain['plddt'],\n",
    "        'packing_density': domain['packing_density'],\n",
    "        'norm_rg': domain['norm_rg'],\n",
    "        'nres_domain': domain['nres_domain'],\n",
    "        'cath_label': domain['cath_label'],\n",
    "        'tax_scientific_name': domain['tax_scientific_name']\n",
    "    }\n",
    "    domain_choppings.append(domain_info)\n",
    "\n",
    "# Display the information for the first domain\n",
    "print(\"Single domain Chopping Information:\")\n",
    "domain = domain_choppings[0]\n",
    "print(f\"\\nDomain ID: {domain['ted_id']}\")\n",
    "print(f\"Chopping: {domain['chopping']}\")\n",
    "print(f\"Consensus Level: {domain['consensus_level']}\")\n",
    "print(f\"pLDDT Score: {domain['plddt']:.2f}\")"
   ]
  },
  {
   "cell_type": "markdown",
   "metadata": {},
   "source": [
    "## Step 3: Visualize the protein\n",
    "\n",
    "For this step we need to:\n",
    "1) Set up visualization for the protein chain\n",
    "2) Iterate over the domains to color and label only the residues within domain boundaries"
   ]
  },
  {
   "cell_type": "code",
   "execution_count": 4,
   "metadata": {},
   "outputs": [
    {
     "data": {
      "text/html": [
       "<div id=\"molstar_ef27a9a4-2107-40db-bed2-fdda2f278e33\"></div>"
      ],
      "text/plain": [
       "<IPython.core.display.HTML object>"
      ]
     },
     "metadata": {},
     "output_type": "display_data"
    },
    {
     "data": {
      "application/javascript": "\n    setTimeout(function(){\n        var wrapper = document.getElementById(\"molstar_ef27a9a4-2107-40db-bed2-fdda2f278e33\")\n        if (wrapper === null) {\n            throw new Error(\"Wrapper element #molstar_ef27a9a4-2107-40db-bed2-fdda2f278e33 not found anymore\")\n        }\n        var blob = new Blob([\"<!DOCTYPE html>\\n<html lang=\\\"en\\\">\\n    <head>\\n        <script src=\\\"https://cdn.jsdelivr.net/npm/molstar@latest/build/viewer/molstar.js\\\"></\" + \"script\" + \">\\n        <link rel=\\\"stylesheet\\\" type=\\\"text/css\\\" href=\\\"https://cdn.jsdelivr.net/npm/molstar@latest/build/viewer/molstar.css\\\" />\\n    </head>\\n    <body>\\n        <div id=\\\"viewer1\\\"></div>\\n        <script>\\n            var mvsData = \\\"{\\\\n  \\\\\\\"kind\\\\\\\": \\\\\\\"single\\\\\\\",\\\\n  \\\\\\\"root\\\\\\\": {\\\\n    \\\\\\\"kind\\\\\\\": \\\\\\\"root\\\\\\\",\\\\n    \\\\\\\"children\\\\\\\": [\\\\n      {\\\\n        \\\\\\\"kind\\\\\\\": \\\\\\\"download\\\\\\\",\\\\n        \\\\\\\"params\\\\\\\": {\\\\n          \\\\\\\"url\\\\\\\": \\\\\\\"https://alphafold.ebi.ac.uk/files/AF-Q99683-F1-model_v4.cif\\\\\\\"\\\\n        },\\\\n        \\\\\\\"children\\\\\\\": [\\\\n          {\\\\n            \\\\\\\"kind\\\\\\\": \\\\\\\"parse\\\\\\\",\\\\n            \\\\\\\"params\\\\\\\": {\\\\n              \\\\\\\"format\\\\\\\": \\\\\\\"mmcif\\\\\\\"\\\\n            },\\\\n            \\\\\\\"children\\\\\\\": [\\\\n              {\\\\n                \\\\\\\"kind\\\\\\\": \\\\\\\"structure\\\\\\\",\\\\n                \\\\\\\"params\\\\\\\": {\\\\n                  \\\\\\\"type\\\\\\\": \\\\\\\"model\\\\\\\"\\\\n                },\\\\n                \\\\\\\"children\\\\\\\": [\\\\n                  {\\\\n                    \\\\\\\"kind\\\\\\\": \\\\\\\"component\\\\\\\",\\\\n                    \\\\\\\"params\\\\\\\": {\\\\n                      \\\\\\\"selector\\\\\\\": \\\\\\\"all\\\\\\\"\\\\n                    },\\\\n                    \\\\\\\"children\\\\\\\": [\\\\n                      {\\\\n                        \\\\\\\"kind\\\\\\\": \\\\\\\"representation\\\\\\\",\\\\n                        \\\\\\\"params\\\\\\\": {\\\\n                          \\\\\\\"type\\\\\\\": \\\\\\\"cartoon\\\\\\\"\\\\n                        },\\\\n                        \\\\\\\"children\\\\\\\": [\\\\n                          {\\\\n                            \\\\\\\"kind\\\\\\\": \\\\\\\"color\\\\\\\",\\\\n                            \\\\\\\"params\\\\\\\": {\\\\n                              \\\\\\\"color\\\\\\\": \\\\\\\"grey\\\\\\\"\\\\n                            }\\\\n                          },\\\\n                          {\\\\n                            \\\\\\\"kind\\\\\\\": \\\\\\\"color\\\\\\\",\\\\n                            \\\\\\\"params\\\\\\\": {\\\\n                              \\\\\\\"selector\\\\\\\": {\\\\n                                \\\\\\\"beg_label_seq_id\\\\\\\": 93,\\\\n                                \\\\\\\"end_label_seq_id\\\\\\\": 271\\\\n                              },\\\\n                              \\\\\\\"color\\\\\\\": \\\\\\\"#4e79a7\\\\\\\"\\\\n                            }\\\\n                          },\\\\n                          {\\\\n                            \\\\\\\"kind\\\\\\\": \\\\\\\"color\\\\\\\",\\\\n                            \\\\\\\"params\\\\\\\": {\\\\n                              \\\\\\\"selector\\\\\\\": {\\\\n                                \\\\\\\"beg_label_seq_id\\\\\\\": 304,\\\\n                                \\\\\\\"end_label_seq_id\\\\\\\": 384\\\\n                              },\\\\n                              \\\\\\\"color\\\\\\\": \\\\\\\"#f28e2c\\\\\\\"\\\\n                            }\\\\n                          },\\\\n                          {\\\\n                            \\\\\\\"kind\\\\\\\": \\\\\\\"color\\\\\\\",\\\\n                            \\\\\\\"params\\\\\\\": {\\\\n                              \\\\\\\"selector\\\\\\\": {\\\\n                                \\\\\\\"beg_label_seq_id\\\\\\\": 559,\\\\n                                \\\\\\\"end_label_seq_id\\\\\\\": 656\\\\n                              },\\\\n                              \\\\\\\"color\\\\\\\": \\\\\\\"#e15759\\\\\\\"\\\\n                            }\\\\n                          },\\\\n                          {\\\\n                            \\\\\\\"kind\\\\\\\": \\\\\\\"color\\\\\\\",\\\\n                            \\\\\\\"params\\\\\\\": {\\\\n                              \\\\\\\"selector\\\\\\\": {\\\\n                                \\\\\\\"beg_label_seq_id\\\\\\\": 672,\\\\n                                \\\\\\\"end_label_seq_id\\\\\\\": 757\\\\n                              },\\\\n                              \\\\\\\"color\\\\\\\": \\\\\\\"#76b7b2\\\\\\\"\\\\n                            }\\\\n                          },\\\\n                          {\\\\n                            \\\\\\\"kind\\\\\\\": \\\\\\\"color\\\\\\\",\\\\n                            \\\\\\\"params\\\\\\\": {\\\\n                              \\\\\\\"selector\\\\\\\": {\\\\n                                \\\\\\\"beg_label_seq_id\\\\\\\": 758,\\\\n                                \\\\\\\"end_label_seq_id\\\\\\\": 941\\\\n                              },\\\\n                              \\\\\\\"color\\\\\\\": \\\\\\\"#59a14f\\\\\\\"\\\\n                            }\\\\n                          },\\\\n                          {\\\\n                            \\\\\\\"kind\\\\\\\": \\\\\\\"color\\\\\\\",\\\\n                            \\\\\\\"params\\\\\\\": {\\\\n                              \\\\\\\"selector\\\\\\\": {\\\\n                                \\\\\\\"beg_label_seq_id\\\\\\\": 1043,\\\\n                                \\\\\\\"end_label_seq_id\\\\\\\": 1180\\\\n                              },\\\\n                              \\\\\\\"color\\\\\\\": \\\\\\\"#edc949\\\\\\\"\\\\n                            }\\\\n                          },\\\\n                          {\\\\n                            \\\\\\\"kind\\\\\\\": \\\\\\\"color\\\\\\\",\\\\n                            \\\\\\\"params\\\\\\\": {\\\\n                              \\\\\\\"selector\\\\\\\": {\\\\n                                \\\\\\\"beg_label_seq_id\\\\\\\": 1312,\\\\n                                \\\\\\\"end_label_seq_id\\\\\\\": 1372\\\\n                              },\\\\n                              \\\\\\\"color\\\\\\\": \\\\\\\"#af7aa1\\\\\\\"\\\\n                            }\\\\n                          }\\\\n                        ]\\\\n                      }\\\\n                    ]\\\\n                  },\\\\n                  {\\\\n                    \\\\\\\"kind\\\\\\\": \\\\\\\"component\\\\\\\",\\\\n                    \\\\\\\"params\\\\\\\": {\\\\n                      \\\\\\\"selector\\\\\\\": {\\\\n                        \\\\\\\"beg_label_seq_id\\\\\\\": 93,\\\\n                        \\\\\\\"end_label_seq_id\\\\\\\": 271\\\\n                      }\\\\n                    },\\\\n                    \\\\\\\"children\\\\\\\": [\\\\n                      {\\\\n                        \\\\\\\"kind\\\\\\\": \\\\\\\"label\\\\\\\",\\\\n                        \\\\\\\"params\\\\\\\": {\\\\n                          \\\\\\\"text\\\\\\\": \\\\\\\"TED01\\\\\\\"\\\\n                        }\\\\n                      }\\\\n                    ]\\\\n                  },\\\\n                  {\\\\n                    \\\\\\\"kind\\\\\\\": \\\\\\\"component\\\\\\\",\\\\n                    \\\\\\\"params\\\\\\\": {\\\\n                      \\\\\\\"selector\\\\\\\": {\\\\n                        \\\\\\\"beg_label_seq_id\\\\\\\": 304,\\\\n                        \\\\\\\"end_label_seq_id\\\\\\\": 384\\\\n                      }\\\\n                    },\\\\n                    \\\\\\\"children\\\\\\\": [\\\\n                      {\\\\n                        \\\\\\\"kind\\\\\\\": \\\\\\\"label\\\\\\\",\\\\n                        \\\\\\\"params\\\\\\\": {\\\\n                          \\\\\\\"text\\\\\\\": \\\\\\\"TED02\\\\\\\"\\\\n                        }\\\\n                      }\\\\n                    ]\\\\n                  },\\\\n                  {\\\\n                    \\\\\\\"kind\\\\\\\": \\\\\\\"component\\\\\\\",\\\\n                    \\\\\\\"params\\\\\\\": {\\\\n                      \\\\\\\"selector\\\\\\\": {\\\\n                        \\\\\\\"beg_label_seq_id\\\\\\\": 559,\\\\n                        \\\\\\\"end_label_seq_id\\\\\\\": 656\\\\n                      }\\\\n                    },\\\\n                    \\\\\\\"children\\\\\\\": [\\\\n                      {\\\\n                        \\\\\\\"kind\\\\\\\": \\\\\\\"label\\\\\\\",\\\\n                        \\\\\\\"params\\\\\\\": {\\\\n                          \\\\\\\"text\\\\\\\": \\\\\\\"TED03\\\\\\\"\\\\n                        }\\\\n                      }\\\\n                    ]\\\\n                  },\\\\n                  {\\\\n                    \\\\\\\"kind\\\\\\\": \\\\\\\"component\\\\\\\",\\\\n                    \\\\\\\"params\\\\\\\": {\\\\n                      \\\\\\\"selector\\\\\\\": {\\\\n                        \\\\\\\"beg_label_seq_id\\\\\\\": 672,\\\\n                        \\\\\\\"end_label_seq_id\\\\\\\": 757\\\\n                      }\\\\n                    },\\\\n                    \\\\\\\"children\\\\\\\": [\\\\n                      {\\\\n                        \\\\\\\"kind\\\\\\\": \\\\\\\"label\\\\\\\",\\\\n                        \\\\\\\"params\\\\\\\": {\\\\n                          \\\\\\\"text\\\\\\\": \\\\\\\"TED04\\\\\\\"\\\\n                        }\\\\n                      }\\\\n                    ]\\\\n                  },\\\\n                  {\\\\n                    \\\\\\\"kind\\\\\\\": \\\\\\\"component\\\\\\\",\\\\n                    \\\\\\\"params\\\\\\\": {\\\\n                      \\\\\\\"selector\\\\\\\": {\\\\n                        \\\\\\\"beg_label_seq_id\\\\\\\": 758,\\\\n                        \\\\\\\"end_label_seq_id\\\\\\\": 941\\\\n                      }\\\\n                    },\\\\n                    \\\\\\\"children\\\\\\\": [\\\\n                      {\\\\n                        \\\\\\\"kind\\\\\\\": \\\\\\\"label\\\\\\\",\\\\n                        \\\\\\\"params\\\\\\\": {\\\\n                          \\\\\\\"text\\\\\\\": \\\\\\\"TED05\\\\\\\"\\\\n                        }\\\\n                      }\\\\n                    ]\\\\n                  },\\\\n                  {\\\\n                    \\\\\\\"kind\\\\\\\": \\\\\\\"component\\\\\\\",\\\\n                    \\\\\\\"params\\\\\\\": {\\\\n                      \\\\\\\"selector\\\\\\\": {\\\\n                        \\\\\\\"beg_label_seq_id\\\\\\\": 1043,\\\\n                        \\\\\\\"end_label_seq_id\\\\\\\": 1180\\\\n                      }\\\\n                    },\\\\n                    \\\\\\\"children\\\\\\\": [\\\\n                      {\\\\n                        \\\\\\\"kind\\\\\\\": \\\\\\\"label\\\\\\\",\\\\n                        \\\\\\\"params\\\\\\\": {\\\\n                          \\\\\\\"text\\\\\\\": \\\\\\\"TED06\\\\\\\"\\\\n                        }\\\\n                      }\\\\n                    ]\\\\n                  },\\\\n                  {\\\\n                    \\\\\\\"kind\\\\\\\": \\\\\\\"component\\\\\\\",\\\\n                    \\\\\\\"params\\\\\\\": {\\\\n                      \\\\\\\"selector\\\\\\\": {\\\\n                        \\\\\\\"beg_label_seq_id\\\\\\\": 1312,\\\\n                        \\\\\\\"end_label_seq_id\\\\\\\": 1372\\\\n                      }\\\\n                    },\\\\n                    \\\\\\\"children\\\\\\\": [\\\\n                      {\\\\n                        \\\\\\\"kind\\\\\\\": \\\\\\\"label\\\\\\\",\\\\n                        \\\\\\\"params\\\\\\\": {\\\\n                          \\\\\\\"text\\\\\\\": \\\\\\\"TED07\\\\\\\"\\\\n                        }\\\\n                      }\\\\n                    ]\\\\n                  }\\\\n                ]\\\\n              }\\\\n            ]\\\\n          }\\\\n        ],\\\\n        \\\\\\\"ref\\\\\\\": \\\\\\\"download\\\\\\\"\\\\n      }\\\\n    ]\\\\n  },\\\\n  \\\\\\\"metadata\\\\\\\": {\\\\n    \\\\\\\"timestamp\\\\\\\": \\\\\\\"2025-06-02T06:29:59.045459+00:00\\\\\\\",\\\\n    \\\\\\\"version\\\\\\\": \\\\\\\"1.6\\\\\\\"\\\\n  }\\\\n}\\\";\\n            molstar.Viewer\\n                .create('viewer1', { layoutIsExpanded: false, layoutShowControls: false })\\n                .then(viewer => viewer.loadMvsData(mvsData, 'mvsj'));\\n        </\" + \"script\" + \">\\n    </body>\\n</html>\\n\"], { type: 'text/html' });\n        var url = URL.createObjectURL(blob);\n\n        // Create the iframe\n        var iframe = document.createElement('iframe');\n        iframe.src = url;\n        iframe.style = \"border: 0; width: 950px; height: 600px\"\n        iframe.allow = \"fullscreen\";\n        iframe.allowFullscreen = true;\n        wrapper.appendChild(iframe);\n\n        // Create the download link\n        var link = document.createElement('a');\n        link.href = url;\n        link.download = \"molstar_download.html\";\n        link.innerText = \"Download HTML\";\n        link.style.display = \"block\";\n        link.style.marginTop = \"10px\";\n        wrapper.appendChild(link);\n    }, 100);\n    ",
      "text/plain": [
       "<IPython.core.display.Javascript object>"
      ]
     },
     "metadata": {},
     "output_type": "display_data"
    }
   ],
   "source": [
    "# Create a builder for visualization\n",
    "builder = mvs.create_builder()\n",
    "\n",
    "# Take the protein chain from AFDB\n",
    "protein_url = f\"https://alphafold.ebi.ac.uk/files/AF-{protein_id}-F1-model_v4.cif\"\n",
    "\n",
    "# 1) Create grey representation for the protein chain\n",
    "structure = (\n",
    "    builder.download(url=protein_url, ref=\"download\")\n",
    "        .parse(format=\"mmcif\")\n",
    "        .model_structure()\n",
    ")\n",
    "repr = structure.component(selector=\"all\").representation()\n",
    "repr.color(color=\"grey\")\n",
    "\n",
    "# Coloring scheme adapted from https://ted.cathdb.info/\n",
    "colors = [\"#4e79a7\", \"#f28e2c\", \"#e15759\", \"#76b7b2\", \"#59a14f\", \"#edc949\", \"#af7aa1\", \"#ff9da7\", \"#9c755f\", \"#bab0ac\"]\n",
    "\n",
    "# 2) Iterate over the domains\n",
    "for domain_chopping, color in zip(domain_choppings, colors):\n",
    "\n",
    "    # Extract the \"_TED0x\" domain label\n",
    "    label = domain_chopping[\"ted_id\"].split(\"_\")[-1]\n",
    "\n",
    "    # Extract the start-end of domain choppings\n",
    "    start = int(domain_chopping['chopping'].split('-')[0])\n",
    "    end = int(domain_chopping['chopping'].split('-')[1])\n",
    "\n",
    "    # Define the coloring\n",
    "    repr.color(\n",
    "        color=color,\n",
    "        selector=mvs.ComponentExpression(\n",
    "            beg_label_seq_id=start,\n",
    "            end_label_seq_id=end\n",
    "        )\n",
    "    )\n",
    "\n",
    "    # Define the label\n",
    "    structure.component(\n",
    "        selector=mvs.ComponentExpression(\n",
    "            beg_label_seq_id=start,\n",
    "            end_label_seq_id=end\n",
    "        )\n",
    "    ).label(text=label)\n",
    "\n",
    "builder"
   ]
  },
  {
   "cell_type": "markdown",
   "metadata": {},
   "source": [
    "## Step 4: Multi-state visualization\n",
    "\n",
    "Alternatively, we can visualize the domains individually using multi-state MolVieSpec."
   ]
  },
  {
   "cell_type": "code",
   "execution_count": 10,
   "metadata": {},
   "outputs": [],
   "source": [
    "from typing import Dict\n",
    "\n",
    "# Function to create side-panel markdown description out of the metadata\n",
    "def create_snapshot_description(protein_id: str, ted_domain_chopping: Dict[str, str]) -> str:\n",
    "    label = ted_domain_chopping[\"ted_id\"].split(\"_\")[-1]\n",
    "    chopping = ted_domain_chopping[\"chopping\"]\n",
    "    residues = ted_domain_chopping[\"nres_domain\"]\n",
    "    plddt = ted_domain_chopping[\"plddt\"]\n",
    "    packing = ted_domain_chopping[\"packing_density\"]\n",
    "    globularity = ted_domain_chopping[\"norm_rg\"]\n",
    "    cath = ted_domain_chopping[\"cath_label\"].split(',')[0]\n",
    "    tax_scientific_name = ted_domain_chopping[\"tax_scientific_name\"]\n",
    "    description = f\"\"\"\n",
    "#### Domain: [{protein_id}_{label}↗](https://ted.cathdb.info/uniprot/{protein_id})\n",
    "\n",
    "#### Properties:\n",
    "- **Chopping:** {chopping}\n",
    "- **Residues:** {residues}\n",
    "- **Average pLDDT:** {plddt}\n",
    "- **Packing:** {packing}\n",
    "- **Globularity:** {globularity}\n",
    "- **Taxonomy:** {tax_scientific_name}\"\"\"\n",
    "    if cath != \"-\":\n",
    "        description += f\"\"\"\n",
    "- **CATH:** [{cath}↗](https://www.cathdb.info/version/latest/cathnode/{cath})\n",
    "\"\"\"\n",
    "    else:\n",
    "        description += f\"\"\"\n",
    "- **CATH:** -\n",
    "\"\"\"\n",
    "    return description\n",
    "\n",
    "\n",
    "def create_protein_chain(protein_id):\n",
    "    builder = mvs.create_builder()\n",
    "    structure = (\n",
    "        builder.download(url=f\"https://alphafold.ebi.ac.uk/files/AF-{protein_id}-F1-model_v4.cif\")\n",
    "            .parse(format=\"mmcif\")\n",
    "            .model_structure()\n",
    "    )\n",
    "    repr = structure.component(selector=\"all\").representation().color(color=\"grey\")\n",
    "    return builder, structure, repr\n",
    "\n",
    "\n",
    "def create_domain_snapshot(protein_id: str, ted_domain_chopping: Dict[str, str], color: str) -> mvs.State:\n",
    "\n",
    "    # Create representation for the protein chain\n",
    "    builder, structure, repr = create_protein_chain(protein_id)\n",
    "\n",
    "    label = ted_domain_chopping[\"ted_id\"].split(\"_\")[-1]\n",
    "    start = int(ted_domain_chopping['chopping'].split('-')[0])\n",
    "    end = int(ted_domain_chopping['chopping'].split('-')[1])\n",
    "\n",
    "    # Color the domain\n",
    "    repr.color(\n",
    "        selector=mvs.ComponentExpression(\n",
    "            beg_label_seq_id=start,\n",
    "            end_label_seq_id=end\n",
    "        ),\n",
    "        color=color\n",
    "    )\n",
    "\n",
    "    # Create camera focus for the domain\n",
    "    structure.component(\n",
    "        selector=mvs.ComponentExpression(\n",
    "            beg_label_seq_id=start,\n",
    "            end_label_seq_id=end\n",
    "        )\n",
    "    ).focus()\n",
    "\n",
    "    return builder.get_snapshot(title=f'{protein_id}_{label}', description=create_snapshot_description(protein_id, ted_domain_chopping))\n",
    "\n",
    "snapshots = []\n",
    "colors = [\"#4e79a7\", \"#f28e2c\", \"#e15759\", \"#76b7b2\", \"#59a14f\", \"#edc949\", \"#af7aa1\", \"#ff9da7\", \"#9c755f\", \"#bab0ac\"]\n",
    "\n",
    "for domain, color in zip(domain_choppings, colors):\n",
    "    snapshots.append(create_domain_snapshot(protein_id, domain, color))"
   ]
  },
  {
   "cell_type": "code",
   "execution_count": 11,
   "metadata": {},
   "outputs": [
    {
     "data": {
      "text/html": [
       "<div id=\"molstar_021a07b0-4341-43ac-8e96-5479c600773a\"></div>"
      ],
      "text/plain": [
       "<IPython.core.display.HTML object>"
      ]
     },
     "metadata": {},
     "output_type": "display_data"
    },
    {
     "data": {
      "application/javascript": "\n    setTimeout(function(){\n        var wrapper = document.getElementById(\"molstar_021a07b0-4341-43ac-8e96-5479c600773a\")\n        if (wrapper === null) {\n            throw new Error(\"Wrapper element #molstar_021a07b0-4341-43ac-8e96-5479c600773a not found anymore\")\n        }\n        var blob = new Blob([\"<!DOCTYPE html>\\n<html lang=\\\"en\\\">\\n<head>\\n    <style>\\n        * {\\n            margin: 0;\\n            padding: 0;\\n            box-sizing: border-box;\\n        }\\n\\n        #viewer {\\n            position: absolute;\\n            left: 0;\\n            top: 0;\\n            right: 34%;\\n            bottom: 0;\\n        }\\n\\n        #controls {\\n            position: absolute;\\n            left: 66%;\\n            top: 0;\\n            right: 0;\\n            bottom: 0;\\n            padding: 16px;\\n            padding-bottom: 20px;\\n            border: 1px solid #ccc;\\n            border-left: none;\\n            background: #F6F5F3;\\n            z-index: -2;\\n            display: flex; \\n            flex-direction: column;\\n            gap: 16px;\\n        }\\n\\n        @media (orientation:portrait) {\\n            #viewer {\\n                position: absolute;\\n                left: 0;\\n                top: 0;\\n                right: 0;\\n                bottom: 40%;\\n            }\\n\\n            #controls {\\n                position: absolute;\\n                left: 0;\\n                top: 60%;\\n                right: 0;\\n                bottom: 0;  \\n                border-top: none;  \\n            }\\n\\n            .msp-viewport-controls-buttons {\\n                display: none;\\n            }\\n        }\\n    </style>\\n    <script src=\\\"https://cdn.jsdelivr.net/npm/molstar@latest/build/mvs-stories/mvs-stories.js\\\"></\" + \"script\" + \">\\n    <link rel=\\\"stylesheet\\\" type=\\\"text/css\\\" href=\\\"https://cdn.jsdelivr.net/npm/molstar@latest/build/mvs-stories/mvs-stories.css\\\" />\\n</head>\\n<body>\\n    <div id=\\\"viewer\\\">\\n        <mvs-stories-viewer />\\n    </div>\\n    <div id=\\\"controls\\\">\\n        <mvs-stories-snapshot-markdown style=\\\"flex-grow: 1;\\\" />\\n    </div>\\n\\n    <script>\\n        var mvsData = \\\"{\\\\\\\"kind\\\\\\\":\\\\\\\"multiple\\\\\\\",\\\\\\\"metadata\\\\\\\":{\\\\\\\"timestamp\\\\\\\":\\\\\\\"2025-06-02T06:34:23.653438+00:00\\\\\\\",\\\\\\\"version\\\\\\\":\\\\\\\"1.6\\\\\\\"},\\\\\\\"snapshots\\\\\\\":[{\\\\\\\"root\\\\\\\":{\\\\\\\"kind\\\\\\\":\\\\\\\"root\\\\\\\",\\\\\\\"children\\\\\\\":[{\\\\\\\"kind\\\\\\\":\\\\\\\"download\\\\\\\",\\\\\\\"params\\\\\\\":{\\\\\\\"url\\\\\\\":\\\\\\\"https://alphafold.ebi.ac.uk/files/AF-Q99683-F1-model_v4.cif\\\\\\\"},\\\\\\\"children\\\\\\\":[{\\\\\\\"kind\\\\\\\":\\\\\\\"parse\\\\\\\",\\\\\\\"params\\\\\\\":{\\\\\\\"format\\\\\\\":\\\\\\\"mmcif\\\\\\\"},\\\\\\\"children\\\\\\\":[{\\\\\\\"kind\\\\\\\":\\\\\\\"structure\\\\\\\",\\\\\\\"params\\\\\\\":{\\\\\\\"type\\\\\\\":\\\\\\\"model\\\\\\\"},\\\\\\\"children\\\\\\\":[{\\\\\\\"kind\\\\\\\":\\\\\\\"component\\\\\\\",\\\\\\\"params\\\\\\\":{\\\\\\\"selector\\\\\\\":\\\\\\\"all\\\\\\\"},\\\\\\\"children\\\\\\\":[{\\\\\\\"kind\\\\\\\":\\\\\\\"representation\\\\\\\",\\\\\\\"params\\\\\\\":{\\\\\\\"type\\\\\\\":\\\\\\\"cartoon\\\\\\\"},\\\\\\\"children\\\\\\\":[{\\\\\\\"kind\\\\\\\":\\\\\\\"color\\\\\\\",\\\\\\\"params\\\\\\\":{\\\\\\\"color\\\\\\\":\\\\\\\"grey\\\\\\\"}},{\\\\\\\"kind\\\\\\\":\\\\\\\"color\\\\\\\",\\\\\\\"params\\\\\\\":{\\\\\\\"selector\\\\\\\":{\\\\\\\"beg_label_seq_id\\\\\\\":93,\\\\\\\"end_label_seq_id\\\\\\\":271},\\\\\\\"color\\\\\\\":\\\\\\\"#4e79a7\\\\\\\"}}]}]},{\\\\\\\"kind\\\\\\\":\\\\\\\"component\\\\\\\",\\\\\\\"params\\\\\\\":{\\\\\\\"selector\\\\\\\":{\\\\\\\"beg_label_seq_id\\\\\\\":93,\\\\\\\"end_label_seq_id\\\\\\\":271}},\\\\\\\"children\\\\\\\":[{\\\\\\\"kind\\\\\\\":\\\\\\\"focus\\\\\\\",\\\\\\\"params\\\\\\\":{}}]}]}]}]}]},\\\\\\\"metadata\\\\\\\":{\\\\\\\"title\\\\\\\":\\\\\\\"Q99683_TED01\\\\\\\",\\\\\\\"description\\\\\\\":\\\\\\\"\\\\\\\\n#### Domain: [Q99683_TED01\\\\u2197](https://ted.cathdb.info/uniprot/Q99683)\\\\\\\\n\\\\\\\\n#### Properties:\\\\\\\\n- **Chopping:** 93-271\\\\\\\\n- **Residues:** 179\\\\\\\\n- **Average pLDDT:** 76.8004\\\\\\\\n- **Packing:** 11.518\\\\\\\\n- **Globularity:** 0.287\\\\\\\\n- **Taxonomy:** Homo_sapiens\\\\\\\\n- **CATH:** [3.40.50\\\\u2197](https://www.cathdb.info/version/latest/cathnode/3.40.50)\\\\\\\\n\\\\\\\",\\\\\\\"key\\\\\\\":\\\\\\\"b5531053-cbd6-4828-ae87-c245e1578a0c\\\\\\\",\\\\\\\"linger_duration_ms\\\\\\\":1000}},{\\\\\\\"root\\\\\\\":{\\\\\\\"kind\\\\\\\":\\\\\\\"root\\\\\\\",\\\\\\\"children\\\\\\\":[{\\\\\\\"kind\\\\\\\":\\\\\\\"download\\\\\\\",\\\\\\\"params\\\\\\\":{\\\\\\\"url\\\\\\\":\\\\\\\"https://alphafold.ebi.ac.uk/files/AF-Q99683-F1-model_v4.cif\\\\\\\"},\\\\\\\"children\\\\\\\":[{\\\\\\\"kind\\\\\\\":\\\\\\\"parse\\\\\\\",\\\\\\\"params\\\\\\\":{\\\\\\\"format\\\\\\\":\\\\\\\"mmcif\\\\\\\"},\\\\\\\"children\\\\\\\":[{\\\\\\\"kind\\\\\\\":\\\\\\\"structure\\\\\\\",\\\\\\\"params\\\\\\\":{\\\\\\\"type\\\\\\\":\\\\\\\"model\\\\\\\"},\\\\\\\"children\\\\\\\":[{\\\\\\\"kind\\\\\\\":\\\\\\\"component\\\\\\\",\\\\\\\"params\\\\\\\":{\\\\\\\"selector\\\\\\\":\\\\\\\"all\\\\\\\"},\\\\\\\"children\\\\\\\":[{\\\\\\\"kind\\\\\\\":\\\\\\\"representation\\\\\\\",\\\\\\\"params\\\\\\\":{\\\\\\\"type\\\\\\\":\\\\\\\"cartoon\\\\\\\"},\\\\\\\"children\\\\\\\":[{\\\\\\\"kind\\\\\\\":\\\\\\\"color\\\\\\\",\\\\\\\"params\\\\\\\":{\\\\\\\"color\\\\\\\":\\\\\\\"grey\\\\\\\"}},{\\\\\\\"kind\\\\\\\":\\\\\\\"color\\\\\\\",\\\\\\\"params\\\\\\\":{\\\\\\\"selector\\\\\\\":{\\\\\\\"beg_label_seq_id\\\\\\\":304,\\\\\\\"end_label_seq_id\\\\\\\":384},\\\\\\\"color\\\\\\\":\\\\\\\"#f28e2c\\\\\\\"}}]}]},{\\\\\\\"kind\\\\\\\":\\\\\\\"component\\\\\\\",\\\\\\\"params\\\\\\\":{\\\\\\\"selector\\\\\\\":{\\\\\\\"beg_label_seq_id\\\\\\\":304,\\\\\\\"end_label_seq_id\\\\\\\":384}},\\\\\\\"children\\\\\\\":[{\\\\\\\"kind\\\\\\\":\\\\\\\"focus\\\\\\\",\\\\\\\"params\\\\\\\":{}}]}]}]}]}]},\\\\\\\"metadata\\\\\\\":{\\\\\\\"title\\\\\\\":\\\\\\\"Q99683_TED02\\\\\\\",\\\\\\\"description\\\\\\\":\\\\\\\"\\\\\\\\n#### Domain: [Q99683_TED02\\\\u2197](https://ted.cathdb.info/uniprot/Q99683)\\\\\\\\n\\\\\\\\n#### Properties:\\\\\\\\n- **Chopping:** 304-384\\\\\\\\n- **Residues:** 81\\\\\\\\n- **Average pLDDT:** 85.8175\\\\\\\\n- **Packing:** 11.025\\\\\\\\n- **Globularity:** 0.285\\\\\\\\n- **Taxonomy:** Homo_sapiens\\\\\\\\n- **CATH:** -\\\\\\\\n\\\\\\\",\\\\\\\"key\\\\\\\":\\\\\\\"d7aa703b-3426-4b74-9ef5-d04621a77e9f\\\\\\\",\\\\\\\"linger_duration_ms\\\\\\\":1000}},{\\\\\\\"root\\\\\\\":{\\\\\\\"kind\\\\\\\":\\\\\\\"root\\\\\\\",\\\\\\\"children\\\\\\\":[{\\\\\\\"kind\\\\\\\":\\\\\\\"download\\\\\\\",\\\\\\\"params\\\\\\\":{\\\\\\\"url\\\\\\\":\\\\\\\"https://alphafold.ebi.ac.uk/files/AF-Q99683-F1-model_v4.cif\\\\\\\"},\\\\\\\"children\\\\\\\":[{\\\\\\\"kind\\\\\\\":\\\\\\\"parse\\\\\\\",\\\\\\\"params\\\\\\\":{\\\\\\\"format\\\\\\\":\\\\\\\"mmcif\\\\\\\"},\\\\\\\"children\\\\\\\":[{\\\\\\\"kind\\\\\\\":\\\\\\\"structure\\\\\\\",\\\\\\\"params\\\\\\\":{\\\\\\\"type\\\\\\\":\\\\\\\"model\\\\\\\"},\\\\\\\"children\\\\\\\":[{\\\\\\\"kind\\\\\\\":\\\\\\\"component\\\\\\\",\\\\\\\"params\\\\\\\":{\\\\\\\"selector\\\\\\\":\\\\\\\"all\\\\\\\"},\\\\\\\"children\\\\\\\":[{\\\\\\\"kind\\\\\\\":\\\\\\\"representation\\\\\\\",\\\\\\\"params\\\\\\\":{\\\\\\\"type\\\\\\\":\\\\\\\"cartoon\\\\\\\"},\\\\\\\"children\\\\\\\":[{\\\\\\\"kind\\\\\\\":\\\\\\\"color\\\\\\\",\\\\\\\"params\\\\\\\":{\\\\\\\"color\\\\\\\":\\\\\\\"grey\\\\\\\"}},{\\\\\\\"kind\\\\\\\":\\\\\\\"color\\\\\\\",\\\\\\\"params\\\\\\\":{\\\\\\\"selector\\\\\\\":{\\\\\\\"beg_label_seq_id\\\\\\\":559,\\\\\\\"end_label_seq_id\\\\\\\":656},\\\\\\\"color\\\\\\\":\\\\\\\"#e15759\\\\\\\"}}]}]},{\\\\\\\"kind\\\\\\\":\\\\\\\"component\\\\\\\",\\\\\\\"params\\\\\\\":{\\\\\\\"selector\\\\\\\":{\\\\\\\"beg_label_seq_id\\\\\\\":559,\\\\\\\"end_label_seq_id\\\\\\\":656}},\\\\\\\"children\\\\\\\":[{\\\\\\\"kind\\\\\\\":\\\\\\\"focus\\\\\\\",\\\\\\\"params\\\\\\\":{}}]}]}]}]}]},\\\\\\\"metadata\\\\\\\":{\\\\\\\"title\\\\\\\":\\\\\\\"Q99683_TED03\\\\\\\",\\\\\\\"description\\\\\\\":\\\\\\\"\\\\\\\\n#### Domain: [Q99683_TED03\\\\u2197](https://ted.cathdb.info/uniprot/Q99683)\\\\\\\\n\\\\\\\\n#### Properties:\\\\\\\\n- **Chopping:** 559-656\\\\\\\\n- **Residues:** 98\\\\\\\\n- **Average pLDDT:** 84.9126\\\\\\\\n- **Packing:** 11.805\\\\\\\\n- **Globularity:** 0.284\\\\\\\\n- **Taxonomy:** Homo_sapiens\\\\\\\\n- **CATH:** [2.30.29.30\\\\u2197](https://www.cathdb.info/version/latest/cathnode/2.30.29.30)\\\\\\\\n\\\\\\\",\\\\\\\"key\\\\\\\":\\\\\\\"a684530c-7aa5-412b-b2c8-793e6f7f46c5\\\\\\\",\\\\\\\"linger_duration_ms\\\\\\\":1000}},{\\\\\\\"root\\\\\\\":{\\\\\\\"kind\\\\\\\":\\\\\\\"root\\\\\\\",\\\\\\\"children\\\\\\\":[{\\\\\\\"kind\\\\\\\":\\\\\\\"download\\\\\\\",\\\\\\\"params\\\\\\\":{\\\\\\\"url\\\\\\\":\\\\\\\"https://alphafold.ebi.ac.uk/files/AF-Q99683-F1-model_v4.cif\\\\\\\"},\\\\\\\"children\\\\\\\":[{\\\\\\\"kind\\\\\\\":\\\\\\\"parse\\\\\\\",\\\\\\\"params\\\\\\\":{\\\\\\\"format\\\\\\\":\\\\\\\"mmcif\\\\\\\"},\\\\\\\"children\\\\\\\":[{\\\\\\\"kind\\\\\\\":\\\\\\\"structure\\\\\\\",\\\\\\\"params\\\\\\\":{\\\\\\\"type\\\\\\\":\\\\\\\"model\\\\\\\"},\\\\\\\"children\\\\\\\":[{\\\\\\\"kind\\\\\\\":\\\\\\\"component\\\\\\\",\\\\\\\"params\\\\\\\":{\\\\\\\"selector\\\\\\\":\\\\\\\"all\\\\\\\"},\\\\\\\"children\\\\\\\":[{\\\\\\\"kind\\\\\\\":\\\\\\\"representation\\\\\\\",\\\\\\\"params\\\\\\\":{\\\\\\\"type\\\\\\\":\\\\\\\"cartoon\\\\\\\"},\\\\\\\"children\\\\\\\":[{\\\\\\\"kind\\\\\\\":\\\\\\\"color\\\\\\\",\\\\\\\"params\\\\\\\":{\\\\\\\"color\\\\\\\":\\\\\\\"grey\\\\\\\"}},{\\\\\\\"kind\\\\\\\":\\\\\\\"color\\\\\\\",\\\\\\\"params\\\\\\\":{\\\\\\\"selector\\\\\\\":{\\\\\\\"beg_label_seq_id\\\\\\\":672,\\\\\\\"end_label_seq_id\\\\\\\":757},\\\\\\\"color\\\\\\\":\\\\\\\"#76b7b2\\\\\\\"}}]}]},{\\\\\\\"kind\\\\\\\":\\\\\\\"component\\\\\\\",\\\\\\\"params\\\\\\\":{\\\\\\\"selector\\\\\\\":{\\\\\\\"beg_label_seq_id\\\\\\\":672,\\\\\\\"end_label_seq_id\\\\\\\":757}},\\\\\\\"children\\\\\\\":[{\\\\\\\"kind\\\\\\\":\\\\\\\"focus\\\\\\\",\\\\\\\"params\\\\\\\":{}}]}]}]}]}]},\\\\\\\"metadata\\\\\\\":{\\\\\\\"title\\\\\\\":\\\\\\\"Q99683_TED04\\\\\\\",\\\\\\\"description\\\\\\\":\\\\\\\"\\\\\\\\n#### Domain: [Q99683_TED04\\\\u2197](https://ted.cathdb.info/uniprot/Q99683)\\\\\\\\n\\\\\\\\n#### Properties:\\\\\\\\n- **Chopping:** 672-757\\\\\\\\n- **Residues:** 86\\\\\\\\n- **Average pLDDT:** 84.2147\\\\\\\\n- **Packing:** 11.306\\\\\\\\n- **Globularity:** 0.295\\\\\\\\n- **Taxonomy:** Homo_sapiens\\\\\\\\n- **CATH:** [3.30.200.20\\\\u2197](https://www.cathdb.info/version/latest/cathnode/3.30.200.20)\\\\\\\\n\\\\\\\",\\\\\\\"key\\\\\\\":\\\\\\\"c79ca77e-09fe-4d00-a5ec-be3a6e5725ca\\\\\\\",\\\\\\\"linger_duration_ms\\\\\\\":1000}},{\\\\\\\"root\\\\\\\":{\\\\\\\"kind\\\\\\\":\\\\\\\"root\\\\\\\",\\\\\\\"children\\\\\\\":[{\\\\\\\"kind\\\\\\\":\\\\\\\"download\\\\\\\",\\\\\\\"params\\\\\\\":{\\\\\\\"url\\\\\\\":\\\\\\\"https://alphafold.ebi.ac.uk/files/AF-Q99683-F1-model_v4.cif\\\\\\\"},\\\\\\\"children\\\\\\\":[{\\\\\\\"kind\\\\\\\":\\\\\\\"parse\\\\\\\",\\\\\\\"params\\\\\\\":{\\\\\\\"format\\\\\\\":\\\\\\\"mmcif\\\\\\\"},\\\\\\\"children\\\\\\\":[{\\\\\\\"kind\\\\\\\":\\\\\\\"structure\\\\\\\",\\\\\\\"params\\\\\\\":{\\\\\\\"type\\\\\\\":\\\\\\\"model\\\\\\\"},\\\\\\\"children\\\\\\\":[{\\\\\\\"kind\\\\\\\":\\\\\\\"component\\\\\\\",\\\\\\\"params\\\\\\\":{\\\\\\\"selector\\\\\\\":\\\\\\\"all\\\\\\\"},\\\\\\\"children\\\\\\\":[{\\\\\\\"kind\\\\\\\":\\\\\\\"representation\\\\\\\",\\\\\\\"params\\\\\\\":{\\\\\\\"type\\\\\\\":\\\\\\\"cartoon\\\\\\\"},\\\\\\\"children\\\\\\\":[{\\\\\\\"kind\\\\\\\":\\\\\\\"color\\\\\\\",\\\\\\\"params\\\\\\\":{\\\\\\\"color\\\\\\\":\\\\\\\"grey\\\\\\\"}},{\\\\\\\"kind\\\\\\\":\\\\\\\"color\\\\\\\",\\\\\\\"params\\\\\\\":{\\\\\\\"selector\\\\\\\":{\\\\\\\"beg_label_seq_id\\\\\\\":758,\\\\\\\"end_label_seq_id\\\\\\\":941},\\\\\\\"color\\\\\\\":\\\\\\\"#59a14f\\\\\\\"}}]}]},{\\\\\\\"kind\\\\\\\":\\\\\\\"component\\\\\\\",\\\\\\\"params\\\\\\\":{\\\\\\\"selector\\\\\\\":{\\\\\\\"beg_label_seq_id\\\\\\\":758,\\\\\\\"end_label_seq_id\\\\\\\":941}},\\\\\\\"children\\\\\\\":[{\\\\\\\"kind\\\\\\\":\\\\\\\"focus\\\\\\\",\\\\\\\"params\\\\\\\":{}}]}]}]}]}]},\\\\\\\"metadata\\\\\\\":{\\\\\\\"title\\\\\\\":\\\\\\\"Q99683_TED05\\\\\\\",\\\\\\\"description\\\\\\\":\\\\\\\"\\\\\\\\n#### Domain: [Q99683_TED05\\\\u2197](https://ted.cathdb.info/uniprot/Q99683)\\\\\\\\n\\\\\\\\n#### Properties:\\\\\\\\n- **Chopping:** 758-941\\\\\\\\n- **Residues:** 184\\\\\\\\n- **Average pLDDT:** 88.0657\\\\\\\\n- **Packing:** 12.062\\\\\\\\n- **Globularity:** 0.272\\\\\\\\n- **Taxonomy:** Homo_sapiens\\\\\\\\n- **CATH:** [1.10.510.10\\\\u2197](https://www.cathdb.info/version/latest/cathnode/1.10.510.10)\\\\\\\\n\\\\\\\",\\\\\\\"key\\\\\\\":\\\\\\\"806e2028-3b06-4372-b38a-ea7ba6af2844\\\\\\\",\\\\\\\"linger_duration_ms\\\\\\\":1000}},{\\\\\\\"root\\\\\\\":{\\\\\\\"kind\\\\\\\":\\\\\\\"root\\\\\\\",\\\\\\\"children\\\\\\\":[{\\\\\\\"kind\\\\\\\":\\\\\\\"download\\\\\\\",\\\\\\\"params\\\\\\\":{\\\\\\\"url\\\\\\\":\\\\\\\"https://alphafold.ebi.ac.uk/files/AF-Q99683-F1-model_v4.cif\\\\\\\"},\\\\\\\"children\\\\\\\":[{\\\\\\\"kind\\\\\\\":\\\\\\\"parse\\\\\\\",\\\\\\\"params\\\\\\\":{\\\\\\\"format\\\\\\\":\\\\\\\"mmcif\\\\\\\"},\\\\\\\"children\\\\\\\":[{\\\\\\\"kind\\\\\\\":\\\\\\\"structure\\\\\\\",\\\\\\\"params\\\\\\\":{\\\\\\\"type\\\\\\\":\\\\\\\"model\\\\\\\"},\\\\\\\"children\\\\\\\":[{\\\\\\\"kind\\\\\\\":\\\\\\\"component\\\\\\\",\\\\\\\"params\\\\\\\":{\\\\\\\"selector\\\\\\\":\\\\\\\"all\\\\\\\"},\\\\\\\"children\\\\\\\":[{\\\\\\\"kind\\\\\\\":\\\\\\\"representation\\\\\\\",\\\\\\\"params\\\\\\\":{\\\\\\\"type\\\\\\\":\\\\\\\"cartoon\\\\\\\"},\\\\\\\"children\\\\\\\":[{\\\\\\\"kind\\\\\\\":\\\\\\\"color\\\\\\\",\\\\\\\"params\\\\\\\":{\\\\\\\"color\\\\\\\":\\\\\\\"grey\\\\\\\"}},{\\\\\\\"kind\\\\\\\":\\\\\\\"color\\\\\\\",\\\\\\\"params\\\\\\\":{\\\\\\\"selector\\\\\\\":{\\\\\\\"beg_label_seq_id\\\\\\\":1043,\\\\\\\"end_label_seq_id\\\\\\\":1180},\\\\\\\"color\\\\\\\":\\\\\\\"#edc949\\\\\\\"}}]}]},{\\\\\\\"kind\\\\\\\":\\\\\\\"component\\\\\\\",\\\\\\\"params\\\\\\\":{\\\\\\\"selector\\\\\\\":{\\\\\\\"beg_label_seq_id\\\\\\\":1043,\\\\\\\"end_label_seq_id\\\\\\\":1180}},\\\\\\\"children\\\\\\\":[{\\\\\\\"kind\\\\\\\":\\\\\\\"focus\\\\\\\",\\\\\\\"params\\\\\\\":{}}]}]}]}]}]},\\\\\\\"metadata\\\\\\\":{\\\\\\\"title\\\\\\\":\\\\\\\"Q99683_TED06\\\\\\\",\\\\\\\"description\\\\\\\":\\\\\\\"\\\\\\\\n#### Domain: [Q99683_TED06\\\\u2197](https://ted.cathdb.info/uniprot/Q99683)\\\\\\\\n\\\\\\\\n#### Properties:\\\\\\\\n- **Chopping:** 1043-1180\\\\\\\\n- **Residues:** 138\\\\\\\\n- **Average pLDDT:** 81.1196\\\\\\\\n- **Packing:** 12.348\\\\\\\\n- **Globularity:** 0.285\\\\\\\\n- **Taxonomy:** Homo_sapiens\\\\\\\\n- **CATH:** [1.10.490.20\\\\u2197](https://www.cathdb.info/version/latest/cathnode/1.10.490.20)\\\\\\\\n\\\\\\\",\\\\\\\"key\\\\\\\":\\\\\\\"7b194c1e-0477-4282-a83a-39baa0a0bdb1\\\\\\\",\\\\\\\"linger_duration_ms\\\\\\\":1000}},{\\\\\\\"root\\\\\\\":{\\\\\\\"kind\\\\\\\":\\\\\\\"root\\\\\\\",\\\\\\\"children\\\\\\\":[{\\\\\\\"kind\\\\\\\":\\\\\\\"download\\\\\\\",\\\\\\\"params\\\\\\\":{\\\\\\\"url\\\\\\\":\\\\\\\"https://alphafold.ebi.ac.uk/files/AF-Q99683-F1-model_v4.cif\\\\\\\"},\\\\\\\"children\\\\\\\":[{\\\\\\\"kind\\\\\\\":\\\\\\\"parse\\\\\\\",\\\\\\\"params\\\\\\\":{\\\\\\\"format\\\\\\\":\\\\\\\"mmcif\\\\\\\"},\\\\\\\"children\\\\\\\":[{\\\\\\\"kind\\\\\\\":\\\\\\\"structure\\\\\\\",\\\\\\\"params\\\\\\\":{\\\\\\\"type\\\\\\\":\\\\\\\"model\\\\\\\"},\\\\\\\"children\\\\\\\":[{\\\\\\\"kind\\\\\\\":\\\\\\\"component\\\\\\\",\\\\\\\"params\\\\\\\":{\\\\\\\"selector\\\\\\\":\\\\\\\"all\\\\\\\"},\\\\\\\"children\\\\\\\":[{\\\\\\\"kind\\\\\\\":\\\\\\\"representation\\\\\\\",\\\\\\\"params\\\\\\\":{\\\\\\\"type\\\\\\\":\\\\\\\"cartoon\\\\\\\"},\\\\\\\"children\\\\\\\":[{\\\\\\\"kind\\\\\\\":\\\\\\\"color\\\\\\\",\\\\\\\"params\\\\\\\":{\\\\\\\"color\\\\\\\":\\\\\\\"grey\\\\\\\"}},{\\\\\\\"kind\\\\\\\":\\\\\\\"color\\\\\\\",\\\\\\\"params\\\\\\\":{\\\\\\\"selector\\\\\\\":{\\\\\\\"beg_label_seq_id\\\\\\\":1312,\\\\\\\"end_label_seq_id\\\\\\\":1372},\\\\\\\"color\\\\\\\":\\\\\\\"#af7aa1\\\\\\\"}}]}]},{\\\\\\\"kind\\\\\\\":\\\\\\\"component\\\\\\\",\\\\\\\"params\\\\\\\":{\\\\\\\"selector\\\\\\\":{\\\\\\\"beg_label_seq_id\\\\\\\":1312,\\\\\\\"end_label_seq_id\\\\\\\":1372}},\\\\\\\"children\\\\\\\":[{\\\\\\\"kind\\\\\\\":\\\\\\\"focus\\\\\\\",\\\\\\\"params\\\\\\\":{}}]}]}]}]}]},\\\\\\\"metadata\\\\\\\":{\\\\\\\"title\\\\\\\":\\\\\\\"Q99683_TED07\\\\\\\",\\\\\\\"description\\\\\\\":\\\\\\\"\\\\\\\\n#### Domain: [Q99683_TED07\\\\u2197](https://ted.cathdb.info/uniprot/Q99683)\\\\\\\\n\\\\\\\\n#### Properties:\\\\\\\\n- **Chopping:** 1312-1372\\\\\\\\n- **Residues:** 61\\\\\\\\n- **Average pLDDT:** 87.439\\\\\\\\n- **Packing:** 12.214\\\\\\\\n- **Globularity:** 0.248\\\\\\\\n- **Taxonomy:** Homo_sapiens\\\\\\\\n- **CATH:** [1.10.150\\\\u2197](https://www.cathdb.info/version/latest/cathnode/1.10.150)\\\\\\\\n\\\\\\\",\\\\\\\"key\\\\\\\":\\\\\\\"b6784095-a54d-4145-a340-2cdb3b67c9c4\\\\\\\",\\\\\\\"linger_duration_ms\\\\\\\":1000}}]}\\\";\\n\\n        mvsStories.loadFromData(mvsData, { format: 'mvsj' });\\n    </\" + \"script\" + \">\\n</body>\\n</html>\\n\"], { type: 'text/html' });\n        var url = URL.createObjectURL(blob);\n\n        // Create the iframe\n        var iframe = document.createElement('iframe');\n        iframe.src = url;\n        iframe.style = \"border: 0; width: 100%; height: 550px\"\n        iframe.allow = \"fullscreen\";\n        iframe.allowFullscreen = true;\n        wrapper.appendChild(iframe);\n\n        // Create the download link\n        var link = document.createElement('a');\n        link.href = url;\n        link.download = \"molstar_download.html\";\n        link.innerText = \"Download HTML\";\n        link.style.display = \"block\";\n        link.style.marginTop = \"10px\";\n        wrapper.appendChild(link);\n    }, 100);\n    ",
      "text/plain": [
       "<IPython.core.display.Javascript object>"
      ]
     },
     "metadata": {},
     "output_type": "display_data"
    }
   ],
   "source": [
    "mvsj = mvs.MVSJ(\n",
    "    data=mvs.States(snapshots=snapshots, metadata=mvs.GlobalMetadata())\n",
    ")\n",
    "mvs.molstar_notebook(mvsj, ui=\"stories\", width=\"100%\", height=550)"
   ]
  }
 ],
 "metadata": {
  "kernelspec": {
   "display_name": "mol-view-spec-dev-dev",
   "language": "python",
   "name": "python3"
  },
  "language_info": {
   "codemirror_mode": {
    "name": "ipython",
    "version": 3
   },
   "file_extension": ".py",
   "mimetype": "text/x-python",
   "name": "python",
   "nbconvert_exporter": "python",
   "pygments_lexer": "ipython3",
   "version": "3.11.12"
  }
 },
 "nbformat": 4,
 "nbformat_minor": 2
}
