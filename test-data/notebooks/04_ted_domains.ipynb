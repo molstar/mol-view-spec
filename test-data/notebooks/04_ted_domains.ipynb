{
 "cells": [
  {
   "cell_type": "markdown",
   "metadata": {},
   "source": [
    "# TED Domain Data Visualization Tutorial\n",
    "\n",
    "This notebook demonstrates how to:\n",
    "1. Fetch domain data from the TED API\n",
    "2. Extract domain chopping information\n",
    "3. Visualize the domains using molviewspec (mvs)\n",
    "\n",
    "## Setup\n",
    "First, let's import the required libraries"
   ]
  },
  {
   "cell_type": "code",
   "execution_count": 13,
   "metadata": {},
   "outputs": [],
   "source": [
    "import requests\n",
    "import molviewspec as mvs"
   ]
  },
  {
   "cell_type": "markdown",
   "metadata": {},
   "source": [
    "## Step 1: Fetch TED Domain Data\n",
    "\n",
    "We'll fetch domain data for UniProt ID Q8N9T8 from the TED API"
   ]
  },
  {
   "cell_type": "code",
   "execution_count": 14,
   "metadata": {},
   "outputs": [
    {
     "name": "stdout",
     "output_type": "stream",
     "text": [
      "Successfully fetched TED domain data!\n",
      "Number of domains found: 7\n"
     ]
    }
   ],
   "source": [
    "# Define the UniProt ID\n",
    "protein_id = \"Q99683\"\n",
    "\n",
    "# Define the TED Metadata API URL\n",
    "ted_url = f\"https://ted.cathdb.info/api/v1/uniprot/summary/{protein_id}\"\n",
    "\n",
    "# Fetch the data\n",
    "response = requests.get(ted_url)\n",
    "ted_data = response.json()\n",
    "\n",
    "print(\"Successfully fetched TED domain data!\")\n",
    "print(f\"Number of domains found: {len(ted_data['data'])}\")"
   ]
  },
  {
   "cell_type": "markdown",
   "metadata": {},
   "source": [
    "## Step 2: Extract Domain Chopping Information\n",
    "\n",
    "Let's extract and display the chopping information for each domain"
   ]
  },
  {
   "cell_type": "code",
   "execution_count": 15,
   "metadata": {},
   "outputs": [
    {
     "name": "stdout",
     "output_type": "stream",
     "text": [
      "Domain Chopping Information:\n",
      "\n",
      "Domain ID: AF-Q99683-F1-model_v4_TED01\n",
      "Chopping: 93-271\n",
      "Consensus Level: high\n",
      "pLDDT Score: 76.80\n"
     ]
    }
   ],
   "source": [
    "# Extract chopping information\n",
    "domain_choppings = []\n",
    "for domain in ted_data['data']:\n",
    "    domain_info = {\n",
    "        'ted_id': domain['ted_id'],\n",
    "        'chopping': domain['chopping'],\n",
    "        'consensus_level': domain['consensus_level'],\n",
    "        'plddt': domain['plddt'],\n",
    "        'packing_density': domain['packing_density'],\n",
    "        'norm_rg': domain['norm_rg'],\n",
    "        'nres_domain': domain['nres_domain'],\n",
    "        'cath_label': domain['cath_label'],\n",
    "        'tax_scientific_name': domain['tax_scientific_name']\n",
    "    }\n",
    "    domain_choppings.append(domain_info)\n",
    "\n",
    "# Display the information for the first domain\n",
    "print(\"Domain Chopping Information:\")\n",
    "domain = domain_choppings[0]\n",
    "print(f\"\\nDomain ID: {domain['ted_id']}\")\n",
    "print(f\"Chopping: {domain['chopping']}\")\n",
    "print(f\"Consensus Level: {domain['consensus_level']}\")\n",
    "print(f\"pLDDT Score: {domain['plddt']:.2f}\")"
   ]
  },
  {
   "cell_type": "markdown",
   "metadata": {},
   "source": [
    "We also need to get the reverse regions of the protein\n"
   ]
  },
  {
   "cell_type": "code",
   "execution_count": 16,
   "metadata": {},
   "outputs": [
    {
     "name": "stdout",
     "output_type": "stream",
     "text": [
      "Reverse regions: [(0, 93), (271, 304), (384, 559), (656, 672), (757, 758), (941, 1043), (1180, 1312), (1372, 1374)]\n"
     ]
    }
   ],
   "source": [
    "def get_reverse_choppings(domain_choppings, protein_length):\n",
    "    # Sort the choppings by start position\n",
    "    sorted_choppings = sorted(domain_choppings, key=lambda x: int(x['chopping'].split('-')[0]))\n",
    "    \n",
    "    reverse_choppings = []\n",
    "    current_pos = 0\n",
    "    \n",
    "    # Add regions between domains\n",
    "    for domain in sorted_choppings:\n",
    "        start, end = map(int, domain['chopping'].split('-'))\n",
    "        \n",
    "        # Add region before current domain if there's a gap\n",
    "        if current_pos < start:\n",
    "            reverse_choppings.append((current_pos, start))\n",
    "        \n",
    "        # Update current position to end of current domain\n",
    "        current_pos = end\n",
    "    \n",
    "    # Add final region if there's space after the last domain\n",
    "    if current_pos < protein_length:\n",
    "        reverse_choppings.append((current_pos, protein_length))\n",
    "    \n",
    "    return reverse_choppings\n",
    "\n",
    "# API call to get the chain length\n",
    "chain_parsing_url = f\"https://ted.cathdb.info/api/v1/uniprot/chainparse/{protein_id}\"\n",
    "response = requests.get(chain_parsing_url)\n",
    "chain_parsing_data = response.json()\n",
    "protein_length = chain_parsing_data['data'][0]['nres_chain']\n",
    "\n",
    "reverse_regions = get_reverse_choppings(domain_choppings, protein_length)\n",
    "print(\"Reverse regions:\", reverse_regions)"
   ]
  },
  {
   "cell_type": "markdown",
   "metadata": {},
   "source": [
    "## Step 3: Visualize the whole protein"
   ]
  },
  {
   "cell_type": "code",
   "execution_count": 17,
   "metadata": {},
   "outputs": [
    {
     "data": {
      "text/html": [
       "<div id=\"molstar_834f3f05-1411-48d5-ae53-94b4242688fd\"></div>"
      ],
      "text/plain": [
       "<IPython.core.display.HTML object>"
      ]
     },
     "metadata": {},
     "output_type": "display_data"
    },
    {
     "data": {
      "application/javascript": "\n    setTimeout(function(){\n        var wrapper = document.getElementById(\"molstar_834f3f05-1411-48d5-ae53-94b4242688fd\")\n        if (wrapper === null) {\n            throw new Error(\"Wrapper element #molstar_834f3f05-1411-48d5-ae53-94b4242688fd not found anymore\")\n        }\n        var blob = new Blob([\"<!DOCTYPE html>\\n<html lang=\\\"en\\\">\\n    <head>\\n        <script src=\\\"https://cdn.jsdelivr.net/npm/molstar@latest/build/viewer/molstar.js\\\"></\" + \"script\" + \">\\n        <link rel=\\\"stylesheet\\\" type=\\\"text/css\\\" href=\\\"https://cdn.jsdelivr.net/npm/molstar@latest/build/viewer/molstar.css\\\" />\\n    </head>\\n    <body>\\n        <div id=\\\"viewer1\\\"></div>\\n        <script>\\n            var mvsData = \\\"{\\\\n  \\\\\\\"kind\\\\\\\": \\\\\\\"single\\\\\\\",\\\\n  \\\\\\\"root\\\\\\\": {\\\\n    \\\\\\\"kind\\\\\\\": \\\\\\\"root\\\\\\\",\\\\n    \\\\\\\"children\\\\\\\": [\\\\n      {\\\\n        \\\\\\\"kind\\\\\\\": \\\\\\\"download\\\\\\\",\\\\n        \\\\\\\"params\\\\\\\": {\\\\n          \\\\\\\"url\\\\\\\": \\\\\\\"https://alphafold.ebi.ac.uk/files/AF-Q99683-F1-model_v4.cif\\\\\\\"\\\\n        },\\\\n        \\\\\\\"children\\\\\\\": [\\\\n          {\\\\n            \\\\\\\"kind\\\\\\\": \\\\\\\"parse\\\\\\\",\\\\n            \\\\\\\"params\\\\\\\": {\\\\n              \\\\\\\"format\\\\\\\": \\\\\\\"mmcif\\\\\\\"\\\\n            },\\\\n            \\\\\\\"children\\\\\\\": [\\\\n              {\\\\n                \\\\\\\"kind\\\\\\\": \\\\\\\"structure\\\\\\\",\\\\n                \\\\\\\"params\\\\\\\": {\\\\n                  \\\\\\\"type\\\\\\\": \\\\\\\"model\\\\\\\"\\\\n                },\\\\n                \\\\\\\"children\\\\\\\": [\\\\n                  {\\\\n                    \\\\\\\"kind\\\\\\\": \\\\\\\"component\\\\\\\",\\\\n                    \\\\\\\"params\\\\\\\": {\\\\n                      \\\\\\\"selector\\\\\\\": {\\\\n                        \\\\\\\"beg_label_seq_id\\\\\\\": 93,\\\\n                        \\\\\\\"end_label_seq_id\\\\\\\": 271\\\\n                      }\\\\n                    },\\\\n                    \\\\\\\"children\\\\\\\": [\\\\n                      {\\\\n                        \\\\\\\"kind\\\\\\\": \\\\\\\"label\\\\\\\",\\\\n                        \\\\\\\"params\\\\\\\": {\\\\n                          \\\\\\\"text\\\\\\\": \\\\\\\"TED01\\\\\\\"\\\\n                        }\\\\n                      },\\\\n                      {\\\\n                        \\\\\\\"kind\\\\\\\": \\\\\\\"representation\\\\\\\",\\\\n                        \\\\\\\"params\\\\\\\": {\\\\n                          \\\\\\\"type\\\\\\\": \\\\\\\"cartoon\\\\\\\"\\\\n                        },\\\\n                        \\\\\\\"children\\\\\\\": [\\\\n                          {\\\\n                            \\\\\\\"kind\\\\\\\": \\\\\\\"color\\\\\\\",\\\\n                            \\\\\\\"params\\\\\\\": {\\\\n                              \\\\\\\"color\\\\\\\": \\\\\\\"#4e79a7\\\\\\\"\\\\n                            }\\\\n                          }\\\\n                        ]\\\\n                      }\\\\n                    ]\\\\n                  },\\\\n                  {\\\\n                    \\\\\\\"kind\\\\\\\": \\\\\\\"component\\\\\\\",\\\\n                    \\\\\\\"params\\\\\\\": {\\\\n                      \\\\\\\"selector\\\\\\\": {\\\\n                        \\\\\\\"beg_label_seq_id\\\\\\\": 304,\\\\n                        \\\\\\\"end_label_seq_id\\\\\\\": 384\\\\n                      }\\\\n                    },\\\\n                    \\\\\\\"children\\\\\\\": [\\\\n                      {\\\\n                        \\\\\\\"kind\\\\\\\": \\\\\\\"label\\\\\\\",\\\\n                        \\\\\\\"params\\\\\\\": {\\\\n                          \\\\\\\"text\\\\\\\": \\\\\\\"TED02\\\\\\\"\\\\n                        }\\\\n                      },\\\\n                      {\\\\n                        \\\\\\\"kind\\\\\\\": \\\\\\\"representation\\\\\\\",\\\\n                        \\\\\\\"params\\\\\\\": {\\\\n                          \\\\\\\"type\\\\\\\": \\\\\\\"cartoon\\\\\\\"\\\\n                        },\\\\n                        \\\\\\\"children\\\\\\\": [\\\\n                          {\\\\n                            \\\\\\\"kind\\\\\\\": \\\\\\\"color\\\\\\\",\\\\n                            \\\\\\\"params\\\\\\\": {\\\\n                              \\\\\\\"color\\\\\\\": \\\\\\\"#f28e2c\\\\\\\"\\\\n                            }\\\\n                          }\\\\n                        ]\\\\n                      }\\\\n                    ]\\\\n                  },\\\\n                  {\\\\n                    \\\\\\\"kind\\\\\\\": \\\\\\\"component\\\\\\\",\\\\n                    \\\\\\\"params\\\\\\\": {\\\\n                      \\\\\\\"selector\\\\\\\": {\\\\n                        \\\\\\\"beg_label_seq_id\\\\\\\": 559,\\\\n                        \\\\\\\"end_label_seq_id\\\\\\\": 656\\\\n                      }\\\\n                    },\\\\n                    \\\\\\\"children\\\\\\\": [\\\\n                      {\\\\n                        \\\\\\\"kind\\\\\\\": \\\\\\\"label\\\\\\\",\\\\n                        \\\\\\\"params\\\\\\\": {\\\\n                          \\\\\\\"text\\\\\\\": \\\\\\\"TED03\\\\\\\"\\\\n                        }\\\\n                      },\\\\n                      {\\\\n                        \\\\\\\"kind\\\\\\\": \\\\\\\"representation\\\\\\\",\\\\n                        \\\\\\\"params\\\\\\\": {\\\\n                          \\\\\\\"type\\\\\\\": \\\\\\\"cartoon\\\\\\\"\\\\n                        },\\\\n                        \\\\\\\"children\\\\\\\": [\\\\n                          {\\\\n                            \\\\\\\"kind\\\\\\\": \\\\\\\"color\\\\\\\",\\\\n                            \\\\\\\"params\\\\\\\": {\\\\n                              \\\\\\\"color\\\\\\\": \\\\\\\"#e15759\\\\\\\"\\\\n                            }\\\\n                          }\\\\n                        ]\\\\n                      }\\\\n                    ]\\\\n                  },\\\\n                  {\\\\n                    \\\\\\\"kind\\\\\\\": \\\\\\\"component\\\\\\\",\\\\n                    \\\\\\\"params\\\\\\\": {\\\\n                      \\\\\\\"selector\\\\\\\": {\\\\n                        \\\\\\\"beg_label_seq_id\\\\\\\": 672,\\\\n                        \\\\\\\"end_label_seq_id\\\\\\\": 757\\\\n                      }\\\\n                    },\\\\n                    \\\\\\\"children\\\\\\\": [\\\\n                      {\\\\n                        \\\\\\\"kind\\\\\\\": \\\\\\\"label\\\\\\\",\\\\n                        \\\\\\\"params\\\\\\\": {\\\\n                          \\\\\\\"text\\\\\\\": \\\\\\\"TED04\\\\\\\"\\\\n                        }\\\\n                      },\\\\n                      {\\\\n                        \\\\\\\"kind\\\\\\\": \\\\\\\"representation\\\\\\\",\\\\n                        \\\\\\\"params\\\\\\\": {\\\\n                          \\\\\\\"type\\\\\\\": \\\\\\\"cartoon\\\\\\\"\\\\n                        },\\\\n                        \\\\\\\"children\\\\\\\": [\\\\n                          {\\\\n                            \\\\\\\"kind\\\\\\\": \\\\\\\"color\\\\\\\",\\\\n                            \\\\\\\"params\\\\\\\": {\\\\n                              \\\\\\\"color\\\\\\\": \\\\\\\"#76b7b2\\\\\\\"\\\\n                            }\\\\n                          }\\\\n                        ]\\\\n                      }\\\\n                    ]\\\\n                  },\\\\n                  {\\\\n                    \\\\\\\"kind\\\\\\\": \\\\\\\"component\\\\\\\",\\\\n                    \\\\\\\"params\\\\\\\": {\\\\n                      \\\\\\\"selector\\\\\\\": {\\\\n                        \\\\\\\"beg_label_seq_id\\\\\\\": 758,\\\\n                        \\\\\\\"end_label_seq_id\\\\\\\": 941\\\\n                      }\\\\n                    },\\\\n                    \\\\\\\"children\\\\\\\": [\\\\n                      {\\\\n                        \\\\\\\"kind\\\\\\\": \\\\\\\"label\\\\\\\",\\\\n                        \\\\\\\"params\\\\\\\": {\\\\n                          \\\\\\\"text\\\\\\\": \\\\\\\"TED05\\\\\\\"\\\\n                        }\\\\n                      },\\\\n                      {\\\\n                        \\\\\\\"kind\\\\\\\": \\\\\\\"representation\\\\\\\",\\\\n                        \\\\\\\"params\\\\\\\": {\\\\n                          \\\\\\\"type\\\\\\\": \\\\\\\"cartoon\\\\\\\"\\\\n                        },\\\\n                        \\\\\\\"children\\\\\\\": [\\\\n                          {\\\\n                            \\\\\\\"kind\\\\\\\": \\\\\\\"color\\\\\\\",\\\\n                            \\\\\\\"params\\\\\\\": {\\\\n                              \\\\\\\"color\\\\\\\": \\\\\\\"#59a14f\\\\\\\"\\\\n                            }\\\\n                          }\\\\n                        ]\\\\n                      }\\\\n                    ]\\\\n                  },\\\\n                  {\\\\n                    \\\\\\\"kind\\\\\\\": \\\\\\\"component\\\\\\\",\\\\n                    \\\\\\\"params\\\\\\\": {\\\\n                      \\\\\\\"selector\\\\\\\": {\\\\n                        \\\\\\\"beg_label_seq_id\\\\\\\": 1043,\\\\n                        \\\\\\\"end_label_seq_id\\\\\\\": 1180\\\\n                      }\\\\n                    },\\\\n                    \\\\\\\"children\\\\\\\": [\\\\n                      {\\\\n                        \\\\\\\"kind\\\\\\\": \\\\\\\"label\\\\\\\",\\\\n                        \\\\\\\"params\\\\\\\": {\\\\n                          \\\\\\\"text\\\\\\\": \\\\\\\"TED06\\\\\\\"\\\\n                        }\\\\n                      },\\\\n                      {\\\\n                        \\\\\\\"kind\\\\\\\": \\\\\\\"representation\\\\\\\",\\\\n                        \\\\\\\"params\\\\\\\": {\\\\n                          \\\\\\\"type\\\\\\\": \\\\\\\"cartoon\\\\\\\"\\\\n                        },\\\\n                        \\\\\\\"children\\\\\\\": [\\\\n                          {\\\\n                            \\\\\\\"kind\\\\\\\": \\\\\\\"color\\\\\\\",\\\\n                            \\\\\\\"params\\\\\\\": {\\\\n                              \\\\\\\"color\\\\\\\": \\\\\\\"#edc949\\\\\\\"\\\\n                            }\\\\n                          }\\\\n                        ]\\\\n                      }\\\\n                    ]\\\\n                  },\\\\n                  {\\\\n                    \\\\\\\"kind\\\\\\\": \\\\\\\"component\\\\\\\",\\\\n                    \\\\\\\"params\\\\\\\": {\\\\n                      \\\\\\\"selector\\\\\\\": {\\\\n                        \\\\\\\"beg_label_seq_id\\\\\\\": 1312,\\\\n                        \\\\\\\"end_label_seq_id\\\\\\\": 1372\\\\n                      }\\\\n                    },\\\\n                    \\\\\\\"children\\\\\\\": [\\\\n                      {\\\\n                        \\\\\\\"kind\\\\\\\": \\\\\\\"label\\\\\\\",\\\\n                        \\\\\\\"params\\\\\\\": {\\\\n                          \\\\\\\"text\\\\\\\": \\\\\\\"TED07\\\\\\\"\\\\n                        }\\\\n                      },\\\\n                      {\\\\n                        \\\\\\\"kind\\\\\\\": \\\\\\\"representation\\\\\\\",\\\\n                        \\\\\\\"params\\\\\\\": {\\\\n                          \\\\\\\"type\\\\\\\": \\\\\\\"cartoon\\\\\\\"\\\\n                        },\\\\n                        \\\\\\\"children\\\\\\\": [\\\\n                          {\\\\n                            \\\\\\\"kind\\\\\\\": \\\\\\\"color\\\\\\\",\\\\n                            \\\\\\\"params\\\\\\\": {\\\\n                              \\\\\\\"color\\\\\\\": \\\\\\\"#af7aa1\\\\\\\"\\\\n                            }\\\\n                          }\\\\n                        ]\\\\n                      }\\\\n                    ]\\\\n                  },\\\\n                  {\\\\n                    \\\\\\\"kind\\\\\\\": \\\\\\\"component\\\\\\\",\\\\n                    \\\\\\\"params\\\\\\\": {\\\\n                      \\\\\\\"selector\\\\\\\": {\\\\n                        \\\\\\\"beg_label_seq_id\\\\\\\": 0,\\\\n                        \\\\\\\"end_label_seq_id\\\\\\\": 93\\\\n                      }\\\\n                    },\\\\n                    \\\\\\\"children\\\\\\\": [\\\\n                      {\\\\n                        \\\\\\\"kind\\\\\\\": \\\\\\\"representation\\\\\\\",\\\\n                        \\\\\\\"params\\\\\\\": {\\\\n                          \\\\\\\"type\\\\\\\": \\\\\\\"cartoon\\\\\\\"\\\\n                        },\\\\n                        \\\\\\\"children\\\\\\\": [\\\\n                          {\\\\n                            \\\\\\\"kind\\\\\\\": \\\\\\\"color\\\\\\\",\\\\n                            \\\\\\\"params\\\\\\\": {\\\\n                              \\\\\\\"color\\\\\\\": \\\\\\\"grey\\\\\\\"\\\\n                            }\\\\n                          }\\\\n                        ]\\\\n                      }\\\\n                    ]\\\\n                  },\\\\n                  {\\\\n                    \\\\\\\"kind\\\\\\\": \\\\\\\"component\\\\\\\",\\\\n                    \\\\\\\"params\\\\\\\": {\\\\n                      \\\\\\\"selector\\\\\\\": {\\\\n                        \\\\\\\"beg_label_seq_id\\\\\\\": 271,\\\\n                        \\\\\\\"end_label_seq_id\\\\\\\": 304\\\\n                      }\\\\n                    },\\\\n                    \\\\\\\"children\\\\\\\": [\\\\n                      {\\\\n                        \\\\\\\"kind\\\\\\\": \\\\\\\"representation\\\\\\\",\\\\n                        \\\\\\\"params\\\\\\\": {\\\\n                          \\\\\\\"type\\\\\\\": \\\\\\\"cartoon\\\\\\\"\\\\n                        },\\\\n                        \\\\\\\"children\\\\\\\": [\\\\n                          {\\\\n                            \\\\\\\"kind\\\\\\\": \\\\\\\"color\\\\\\\",\\\\n                            \\\\\\\"params\\\\\\\": {\\\\n                              \\\\\\\"color\\\\\\\": \\\\\\\"grey\\\\\\\"\\\\n                            }\\\\n                          }\\\\n                        ]\\\\n                      }\\\\n                    ]\\\\n                  },\\\\n                  {\\\\n                    \\\\\\\"kind\\\\\\\": \\\\\\\"component\\\\\\\",\\\\n                    \\\\\\\"params\\\\\\\": {\\\\n                      \\\\\\\"selector\\\\\\\": {\\\\n                        \\\\\\\"beg_label_seq_id\\\\\\\": 384,\\\\n                        \\\\\\\"end_label_seq_id\\\\\\\": 559\\\\n                      }\\\\n                    },\\\\n                    \\\\\\\"children\\\\\\\": [\\\\n                      {\\\\n                        \\\\\\\"kind\\\\\\\": \\\\\\\"representation\\\\\\\",\\\\n                        \\\\\\\"params\\\\\\\": {\\\\n                          \\\\\\\"type\\\\\\\": \\\\\\\"cartoon\\\\\\\"\\\\n                        },\\\\n                        \\\\\\\"children\\\\\\\": [\\\\n                          {\\\\n                            \\\\\\\"kind\\\\\\\": \\\\\\\"color\\\\\\\",\\\\n                            \\\\\\\"params\\\\\\\": {\\\\n                              \\\\\\\"color\\\\\\\": \\\\\\\"grey\\\\\\\"\\\\n                            }\\\\n                          }\\\\n                        ]\\\\n                      }\\\\n                    ]\\\\n                  },\\\\n                  {\\\\n                    \\\\\\\"kind\\\\\\\": \\\\\\\"component\\\\\\\",\\\\n                    \\\\\\\"params\\\\\\\": {\\\\n                      \\\\\\\"selector\\\\\\\": {\\\\n                        \\\\\\\"beg_label_seq_id\\\\\\\": 656,\\\\n                        \\\\\\\"end_label_seq_id\\\\\\\": 672\\\\n                      }\\\\n                    },\\\\n                    \\\\\\\"children\\\\\\\": [\\\\n                      {\\\\n                        \\\\\\\"kind\\\\\\\": \\\\\\\"representation\\\\\\\",\\\\n                        \\\\\\\"params\\\\\\\": {\\\\n                          \\\\\\\"type\\\\\\\": \\\\\\\"cartoon\\\\\\\"\\\\n                        },\\\\n                        \\\\\\\"children\\\\\\\": [\\\\n                          {\\\\n                            \\\\\\\"kind\\\\\\\": \\\\\\\"color\\\\\\\",\\\\n                            \\\\\\\"params\\\\\\\": {\\\\n                              \\\\\\\"color\\\\\\\": \\\\\\\"grey\\\\\\\"\\\\n                            }\\\\n                          }\\\\n                        ]\\\\n                      }\\\\n                    ]\\\\n                  },\\\\n                  {\\\\n                    \\\\\\\"kind\\\\\\\": \\\\\\\"component\\\\\\\",\\\\n                    \\\\\\\"params\\\\\\\": {\\\\n                      \\\\\\\"selector\\\\\\\": {\\\\n                        \\\\\\\"beg_label_seq_id\\\\\\\": 757,\\\\n                        \\\\\\\"end_label_seq_id\\\\\\\": 758\\\\n                      }\\\\n                    },\\\\n                    \\\\\\\"children\\\\\\\": [\\\\n                      {\\\\n                        \\\\\\\"kind\\\\\\\": \\\\\\\"representation\\\\\\\",\\\\n                        \\\\\\\"params\\\\\\\": {\\\\n                          \\\\\\\"type\\\\\\\": \\\\\\\"cartoon\\\\\\\"\\\\n                        },\\\\n                        \\\\\\\"children\\\\\\\": [\\\\n                          {\\\\n                            \\\\\\\"kind\\\\\\\": \\\\\\\"color\\\\\\\",\\\\n                            \\\\\\\"params\\\\\\\": {\\\\n                              \\\\\\\"color\\\\\\\": \\\\\\\"grey\\\\\\\"\\\\n                            }\\\\n                          }\\\\n                        ]\\\\n                      }\\\\n                    ]\\\\n                  },\\\\n                  {\\\\n                    \\\\\\\"kind\\\\\\\": \\\\\\\"component\\\\\\\",\\\\n                    \\\\\\\"params\\\\\\\": {\\\\n                      \\\\\\\"selector\\\\\\\": {\\\\n                        \\\\\\\"beg_label_seq_id\\\\\\\": 941,\\\\n                        \\\\\\\"end_label_seq_id\\\\\\\": 1043\\\\n                      }\\\\n                    },\\\\n                    \\\\\\\"children\\\\\\\": [\\\\n                      {\\\\n                        \\\\\\\"kind\\\\\\\": \\\\\\\"representation\\\\\\\",\\\\n                        \\\\\\\"params\\\\\\\": {\\\\n                          \\\\\\\"type\\\\\\\": \\\\\\\"cartoon\\\\\\\"\\\\n                        },\\\\n                        \\\\\\\"children\\\\\\\": [\\\\n                          {\\\\n                            \\\\\\\"kind\\\\\\\": \\\\\\\"color\\\\\\\",\\\\n                            \\\\\\\"params\\\\\\\": {\\\\n                              \\\\\\\"color\\\\\\\": \\\\\\\"grey\\\\\\\"\\\\n                            }\\\\n                          }\\\\n                        ]\\\\n                      }\\\\n                    ]\\\\n                  },\\\\n                  {\\\\n                    \\\\\\\"kind\\\\\\\": \\\\\\\"component\\\\\\\",\\\\n                    \\\\\\\"params\\\\\\\": {\\\\n                      \\\\\\\"selector\\\\\\\": {\\\\n                        \\\\\\\"beg_label_seq_id\\\\\\\": 1180,\\\\n                        \\\\\\\"end_label_seq_id\\\\\\\": 1312\\\\n                      }\\\\n                    },\\\\n                    \\\\\\\"children\\\\\\\": [\\\\n                      {\\\\n                        \\\\\\\"kind\\\\\\\": \\\\\\\"representation\\\\\\\",\\\\n                        \\\\\\\"params\\\\\\\": {\\\\n                          \\\\\\\"type\\\\\\\": \\\\\\\"cartoon\\\\\\\"\\\\n                        },\\\\n                        \\\\\\\"children\\\\\\\": [\\\\n                          {\\\\n                            \\\\\\\"kind\\\\\\\": \\\\\\\"color\\\\\\\",\\\\n                            \\\\\\\"params\\\\\\\": {\\\\n                              \\\\\\\"color\\\\\\\": \\\\\\\"grey\\\\\\\"\\\\n                            }\\\\n                          }\\\\n                        ]\\\\n                      }\\\\n                    ]\\\\n                  },\\\\n                  {\\\\n                    \\\\\\\"kind\\\\\\\": \\\\\\\"component\\\\\\\",\\\\n                    \\\\\\\"params\\\\\\\": {\\\\n                      \\\\\\\"selector\\\\\\\": {\\\\n                        \\\\\\\"beg_label_seq_id\\\\\\\": 1372,\\\\n                        \\\\\\\"end_label_seq_id\\\\\\\": 1374\\\\n                      }\\\\n                    },\\\\n                    \\\\\\\"children\\\\\\\": [\\\\n                      {\\\\n                        \\\\\\\"kind\\\\\\\": \\\\\\\"representation\\\\\\\",\\\\n                        \\\\\\\"params\\\\\\\": {\\\\n                          \\\\\\\"type\\\\\\\": \\\\\\\"cartoon\\\\\\\"\\\\n                        },\\\\n                        \\\\\\\"children\\\\\\\": [\\\\n                          {\\\\n                            \\\\\\\"kind\\\\\\\": \\\\\\\"color\\\\\\\",\\\\n                            \\\\\\\"params\\\\\\\": {\\\\n                              \\\\\\\"color\\\\\\\": \\\\\\\"grey\\\\\\\"\\\\n                            }\\\\n                          }\\\\n                        ]\\\\n                      }\\\\n                    ]\\\\n                  }\\\\n                ]\\\\n              }\\\\n            ]\\\\n          }\\\\n        ],\\\\n        \\\\\\\"ref\\\\\\\": \\\\\\\"download\\\\\\\"\\\\n      }\\\\n    ]\\\\n  },\\\\n  \\\\\\\"metadata\\\\\\\": {\\\\n    \\\\\\\"timestamp\\\\\\\": \\\\\\\"2025-05-28T11:30:16.378225+00:00\\\\\\\",\\\\n    \\\\\\\"version\\\\\\\": \\\\\\\"1.6\\\\\\\"\\\\n  }\\\\n}\\\";\\n            molstar.Viewer\\n                .create('viewer1', { layoutIsExpanded: false, layoutShowControls: false })\\n                .then(viewer => viewer.loadMvsData(mvsData, 'mvsj'));\\n        </\" + \"script\" + \">\\n    </body>\\n</html>\\n\"], { type: 'text/html' });\n        var url = URL.createObjectURL(blob);\n\n        // Create the iframe\n        var iframe = document.createElement('iframe');\n        iframe.src = url;\n        iframe.style = \"border: 0; width: 950px; height: 600px\"\n        iframe.allow = \"fullscreen\";\n        iframe.allowFullscreen = true;\n        wrapper.appendChild(iframe);\n\n        // Create the download link\n        var link = document.createElement('a');\n        link.href = url;\n        link.download = \"molstar_download.html\";\n        link.innerText = \"Download HTML\";\n        link.style.display = \"block\";\n        link.style.marginTop = \"10px\";\n        wrapper.appendChild(link);\n    }, 100);\n    ",
      "text/plain": [
       "<IPython.core.display.Javascript object>"
      ]
     },
     "metadata": {},
     "output_type": "display_data"
    }
   ],
   "source": [
    "# Create a builder for visualization\n",
    "builder = mvs.create_builder()\n",
    "\n",
    "# For demonstration, we'll visualize the first domain\n",
    "first_domain = domain_choppings[0]\n",
    "protein_url = f\"https://alphafold.ebi.ac.uk/files/AF-{protein_id}-F1-model_v4.cif\"\n",
    "\n",
    "model = (\n",
    "    builder.download(url=protein_url, ref=\"download\")\n",
    "        .parse(format=\"mmcif\")\n",
    "        .model_structure()\n",
    ")\n",
    "\n",
    "# Display the domains\n",
    "colors = [\"#4e79a7\", \"#f28e2c\", \"#e15759\", \"#76b7b2\", \"#59a14f\", \"#edc949\", \"#af7aa1\", \"#ff9da7\", \"#9c755f\", \"#bab0ac\"]\n",
    "for domain_chopping, color in zip(domain_choppings, colors):\n",
    "    # extract the \"_TED0x\" domain label\n",
    "    label = domain_chopping[\"ted_id\"].split(\"_\")[-1]\n",
    "\n",
    "    # extract the start-end of domain choppings\n",
    "    start = int(domain_chopping['chopping'].split('-')[0])\n",
    "    end = int(domain_chopping['chopping'].split('-')[1])\n",
    "\n",
    "    _ = model.component(\n",
    "        selector=dict(\n",
    "            beg_label_seq_id=start,\n",
    "            end_label_seq_id=end\n",
    "        )\n",
    "    ).label(text=label).representation().color(color=color)\n",
    "\n",
    "# Display the rest of the protein\n",
    "for reverse_chopping in reverse_regions:\n",
    "    model.component(\n",
    "        selector=dict(\n",
    "            beg_label_seq_id=reverse_chopping[0],\n",
    "            end_label_seq_id=reverse_chopping[1]\n",
    "        )\n",
    "    ).representation().color(color=\"grey\")\n",
    "\n",
    "builder"
   ]
  },
  {
   "cell_type": "markdown",
   "metadata": {},
   "source": [
    "## Alternative: Visualize the domains as individual snapshots"
   ]
  },
  {
   "cell_type": "code",
   "execution_count": 38,
   "metadata": {},
   "outputs": [],
   "source": [
    "from typing import Dict\n",
    "\n",
    "def create_description(protein_id: str, ted_domain_chopping: Dict[str, str]) -> str:\n",
    "    label = ted_domain_chopping[\"ted_id\"].split(\"_\")[-1]\n",
    "    chopping = ted_domain_chopping[\"chopping\"]\n",
    "    residues = ted_domain_chopping[\"nres_domain\"]\n",
    "    plddt = ted_domain_chopping[\"plddt\"]\n",
    "    packing = ted_domain_chopping[\"packing_density\"]\n",
    "    globularity = ted_domain_chopping[\"norm_rg\"]\n",
    "    cath = ted_domain_chopping[\"cath_label\"].split(',')[0]\n",
    "    tax_scientific_name = ted_domain_chopping[\"tax_scientific_name\"]\n",
    "    description = f\"\"\"\n",
    "#### Domain: [{protein_id}_{label}↗](https://ted.cathdb.info/uniprot/{protein_id})\n",
    "\n",
    "#### Properties:\n",
    "- **Chopping:** {chopping}\n",
    "- **Residues:** {residues}\n",
    "- **Average pLDDT:** {plddt}\n",
    "- **Packing:** {packing}\n",
    "- **Globularity:** {globularity}\n",
    "- **Taxonomy:** {tax_scientific_name}\"\"\"\n",
    "    if cath != \"-\":\n",
    "        description += f\"\"\"\n",
    "- **CATH:** [{cath}↗](https://www.cathdb.info/version/latest/cathnode/{cath})\n",
    "\"\"\"\n",
    "    else:\n",
    "        description += f\"\"\"\n",
    "- **CATH:** -\n",
    "\"\"\"\n",
    "    return description\n",
    "\n",
    "def create_domain_snapshot(protein_id: str, ted_domain_chopping: Dict[str, str], color: str) -> mvs.State:\n",
    "    builder = mvs.create_builder()\n",
    "    \n",
    "    model = (\n",
    "        builder.download(url=f\"https://alphafold.ebi.ac.uk/files/AF-{protein_id}-F1-model_v4.cif\")\n",
    "            .parse(format=\"mmcif\")\n",
    "            .model_structure()\n",
    "    )\n",
    "\n",
    "    # Display the domains\n",
    "    label = ted_domain_chopping[\"ted_id\"].split(\"_\")[-1]\n",
    "    start = int(ted_domain_chopping['chopping'].split('-')[0])\n",
    "    end = int(ted_domain_chopping['chopping'].split('-')[1])\n",
    "\n",
    "    model.component(\n",
    "        selector=dict(\n",
    "            beg_label_seq_id=start,\n",
    "            end_label_seq_id=end\n",
    "        )\n",
    "    ).label(text=label).focus().representation().color(color=color)\n",
    "\n",
    "    # Display the rest of the protein\n",
    "    reverse_regions = [(0, start), (end, protein_length)]\n",
    "    for reverse_chopping in reverse_regions:\n",
    "        model.component(\n",
    "            selector=dict(\n",
    "                beg_label_seq_id=reverse_chopping[0],\n",
    "                end_label_seq_id=reverse_chopping[1]\n",
    "            )\n",
    "        ).representation().color(color=\"grey\")\n",
    "\n",
    "    return builder.get_snapshot(title=f'{protein_id}_{label}', description=create_description(protein_id, ted_domain_chopping))\n",
    "\n",
    "snapshots = []\n",
    "colors = [\"#4e79a7\", \"#f28e2c\", \"#e15759\", \"#76b7b2\", \"#59a14f\", \"#edc949\", \"#af7aa1\", \"#ff9da7\", \"#9c755f\", \"#bab0ac\"]\n",
    "for domain, color in zip(domain_choppings, colors):\n",
    "    snapshots.append(create_domain_snapshot(protein_id, domain, color))"
   ]
  },
  {
   "cell_type": "code",
   "execution_count": 39,
   "metadata": {},
   "outputs": [
    {
     "data": {
      "text/html": [
       "<div id=\"molstar_6daf71f3-5078-435d-95fe-e5ea58725d64\"></div>"
      ],
      "text/plain": [
       "<IPython.core.display.HTML object>"
      ]
     },
     "metadata": {},
     "output_type": "display_data"
    },
    {
     "data": {
      "application/javascript": "\n    setTimeout(function(){\n        var wrapper = document.getElementById(\"molstar_6daf71f3-5078-435d-95fe-e5ea58725d64\")\n        if (wrapper === null) {\n            throw new Error(\"Wrapper element #molstar_6daf71f3-5078-435d-95fe-e5ea58725d64 not found anymore\")\n        }\n        var blob = new Blob([\"<!DOCTYPE html>\\n<html lang=\\\"en\\\">\\n<head>\\n    <style>\\n        * {\\n            margin: 0;\\n            padding: 0;\\n            box-sizing: border-box;\\n        }\\n\\n        #viewer {\\n            position: absolute;\\n            left: 0;\\n            top: 0;\\n            right: 34%;\\n            bottom: 0;\\n        }\\n\\n        #controls {\\n            position: absolute;\\n            left: 66%;\\n            top: 0;\\n            right: 0;\\n            bottom: 0;\\n            padding: 16px;\\n            padding-bottom: 20px;\\n            border: 1px solid #ccc;\\n            border-left: none;\\n            background: #F6F5F3;\\n            z-index: -2;\\n            display: flex; \\n            flex-direction: column;\\n            gap: 16px;\\n        }\\n\\n        @media (orientation:portrait) {\\n            #viewer {\\n                position: absolute;\\n                left: 0;\\n                top: 0;\\n                right: 0;\\n                bottom: 40%;\\n            }\\n\\n            #controls {\\n                position: absolute;\\n                left: 0;\\n                top: 60%;\\n                right: 0;\\n                bottom: 0;  \\n                border-top: none;  \\n            }\\n\\n            .msp-viewport-controls-buttons {\\n                display: none;\\n            }\\n        }\\n    </style>\\n    <script src=\\\"https://cdn.jsdelivr.net/npm/molstar@latest/build/mvs-stories/mvs-stories.js\\\"></\" + \"script\" + \">\\n    <link rel=\\\"stylesheet\\\" type=\\\"text/css\\\" href=\\\"https://cdn.jsdelivr.net/npm/molstar@latest/build/mvs-stories/mvs-stories.css\\\" />\\n</head>\\n<body>\\n    <div id=\\\"viewer\\\">\\n        <mvs-stories-viewer />\\n    </div>\\n    <div id=\\\"controls\\\">\\n        <mvs-stories-snapshot-markdown style=\\\"flex-grow: 1;\\\" />\\n    </div>\\n\\n    <script>\\n        var mvsData = \\\"{\\\\\\\"kind\\\\\\\":\\\\\\\"multiple\\\\\\\",\\\\\\\"metadata\\\\\\\":{\\\\\\\"description\\\\\\\":\\\\\\\"TED Domain Visualization\\\\\\\",\\\\\\\"timestamp\\\\\\\":\\\\\\\"2025-05-28T11:39:17.172994+00:00\\\\\\\",\\\\\\\"version\\\\\\\":\\\\\\\"1.6\\\\\\\"},\\\\\\\"snapshots\\\\\\\":[{\\\\\\\"root\\\\\\\":{\\\\\\\"kind\\\\\\\":\\\\\\\"root\\\\\\\",\\\\\\\"children\\\\\\\":[{\\\\\\\"kind\\\\\\\":\\\\\\\"download\\\\\\\",\\\\\\\"params\\\\\\\":{\\\\\\\"url\\\\\\\":\\\\\\\"https://alphafold.ebi.ac.uk/files/AF-Q99683-F1-model_v4.cif\\\\\\\"},\\\\\\\"children\\\\\\\":[{\\\\\\\"kind\\\\\\\":\\\\\\\"parse\\\\\\\",\\\\\\\"params\\\\\\\":{\\\\\\\"format\\\\\\\":\\\\\\\"mmcif\\\\\\\"},\\\\\\\"children\\\\\\\":[{\\\\\\\"kind\\\\\\\":\\\\\\\"structure\\\\\\\",\\\\\\\"params\\\\\\\":{\\\\\\\"type\\\\\\\":\\\\\\\"model\\\\\\\"},\\\\\\\"children\\\\\\\":[{\\\\\\\"kind\\\\\\\":\\\\\\\"component\\\\\\\",\\\\\\\"params\\\\\\\":{\\\\\\\"selector\\\\\\\":{\\\\\\\"beg_label_seq_id\\\\\\\":93,\\\\\\\"end_label_seq_id\\\\\\\":271}},\\\\\\\"children\\\\\\\":[{\\\\\\\"kind\\\\\\\":\\\\\\\"label\\\\\\\",\\\\\\\"params\\\\\\\":{\\\\\\\"text\\\\\\\":\\\\\\\"TED01\\\\\\\"}},{\\\\\\\"kind\\\\\\\":\\\\\\\"focus\\\\\\\",\\\\\\\"params\\\\\\\":{}},{\\\\\\\"kind\\\\\\\":\\\\\\\"representation\\\\\\\",\\\\\\\"params\\\\\\\":{\\\\\\\"type\\\\\\\":\\\\\\\"cartoon\\\\\\\"},\\\\\\\"children\\\\\\\":[{\\\\\\\"kind\\\\\\\":\\\\\\\"color\\\\\\\",\\\\\\\"params\\\\\\\":{\\\\\\\"color\\\\\\\":\\\\\\\"#4e79a7\\\\\\\"}}]}]},{\\\\\\\"kind\\\\\\\":\\\\\\\"component\\\\\\\",\\\\\\\"params\\\\\\\":{\\\\\\\"selector\\\\\\\":{\\\\\\\"beg_label_seq_id\\\\\\\":0,\\\\\\\"end_label_seq_id\\\\\\\":93}},\\\\\\\"children\\\\\\\":[{\\\\\\\"kind\\\\\\\":\\\\\\\"representation\\\\\\\",\\\\\\\"params\\\\\\\":{\\\\\\\"type\\\\\\\":\\\\\\\"cartoon\\\\\\\"},\\\\\\\"children\\\\\\\":[{\\\\\\\"kind\\\\\\\":\\\\\\\"color\\\\\\\",\\\\\\\"params\\\\\\\":{\\\\\\\"color\\\\\\\":\\\\\\\"grey\\\\\\\"}}]}]},{\\\\\\\"kind\\\\\\\":\\\\\\\"component\\\\\\\",\\\\\\\"params\\\\\\\":{\\\\\\\"selector\\\\\\\":{\\\\\\\"beg_label_seq_id\\\\\\\":271,\\\\\\\"end_label_seq_id\\\\\\\":1374}},\\\\\\\"children\\\\\\\":[{\\\\\\\"kind\\\\\\\":\\\\\\\"representation\\\\\\\",\\\\\\\"params\\\\\\\":{\\\\\\\"type\\\\\\\":\\\\\\\"cartoon\\\\\\\"},\\\\\\\"children\\\\\\\":[{\\\\\\\"kind\\\\\\\":\\\\\\\"color\\\\\\\",\\\\\\\"params\\\\\\\":{\\\\\\\"color\\\\\\\":\\\\\\\"grey\\\\\\\"}}]}]}]}]}]}]},\\\\\\\"metadata\\\\\\\":{\\\\\\\"title\\\\\\\":\\\\\\\"Q99683_TED01\\\\\\\",\\\\\\\"description\\\\\\\":\\\\\\\"\\\\\\\\n#### Domain: [Q99683_TED01\\\\u2197](https://ted.cathdb.info/uniprot/Q99683)\\\\\\\\n\\\\\\\\n#### Properties:\\\\\\\\n- **Chopping:** 93-271\\\\\\\\n- **Residues:** 179\\\\\\\\n- **Average pLDDT:** 76.8004\\\\\\\\n- **Packing:** 11.518\\\\\\\\n- **Globularity:** 0.287\\\\\\\\n- **Taxonomy:** Homo_sapiens\\\\\\\\n- **CATH:** [3.40.50\\\\u2197](https://www.cathdb.info/version/latest/cathnode/3.40.50)\\\\\\\\n\\\\\\\",\\\\\\\"key\\\\\\\":\\\\\\\"e907997d-ce7d-4ddb-b6c4-2bebea1af9d2\\\\\\\",\\\\\\\"linger_duration_ms\\\\\\\":1000}},{\\\\\\\"root\\\\\\\":{\\\\\\\"kind\\\\\\\":\\\\\\\"root\\\\\\\",\\\\\\\"children\\\\\\\":[{\\\\\\\"kind\\\\\\\":\\\\\\\"download\\\\\\\",\\\\\\\"params\\\\\\\":{\\\\\\\"url\\\\\\\":\\\\\\\"https://alphafold.ebi.ac.uk/files/AF-Q99683-F1-model_v4.cif\\\\\\\"},\\\\\\\"children\\\\\\\":[{\\\\\\\"kind\\\\\\\":\\\\\\\"parse\\\\\\\",\\\\\\\"params\\\\\\\":{\\\\\\\"format\\\\\\\":\\\\\\\"mmcif\\\\\\\"},\\\\\\\"children\\\\\\\":[{\\\\\\\"kind\\\\\\\":\\\\\\\"structure\\\\\\\",\\\\\\\"params\\\\\\\":{\\\\\\\"type\\\\\\\":\\\\\\\"model\\\\\\\"},\\\\\\\"children\\\\\\\":[{\\\\\\\"kind\\\\\\\":\\\\\\\"component\\\\\\\",\\\\\\\"params\\\\\\\":{\\\\\\\"selector\\\\\\\":{\\\\\\\"beg_label_seq_id\\\\\\\":304,\\\\\\\"end_label_seq_id\\\\\\\":384}},\\\\\\\"children\\\\\\\":[{\\\\\\\"kind\\\\\\\":\\\\\\\"label\\\\\\\",\\\\\\\"params\\\\\\\":{\\\\\\\"text\\\\\\\":\\\\\\\"TED02\\\\\\\"}},{\\\\\\\"kind\\\\\\\":\\\\\\\"focus\\\\\\\",\\\\\\\"params\\\\\\\":{}},{\\\\\\\"kind\\\\\\\":\\\\\\\"representation\\\\\\\",\\\\\\\"params\\\\\\\":{\\\\\\\"type\\\\\\\":\\\\\\\"cartoon\\\\\\\"},\\\\\\\"children\\\\\\\":[{\\\\\\\"kind\\\\\\\":\\\\\\\"color\\\\\\\",\\\\\\\"params\\\\\\\":{\\\\\\\"color\\\\\\\":\\\\\\\"#f28e2c\\\\\\\"}}]}]},{\\\\\\\"kind\\\\\\\":\\\\\\\"component\\\\\\\",\\\\\\\"params\\\\\\\":{\\\\\\\"selector\\\\\\\":{\\\\\\\"beg_label_seq_id\\\\\\\":0,\\\\\\\"end_label_seq_id\\\\\\\":304}},\\\\\\\"children\\\\\\\":[{\\\\\\\"kind\\\\\\\":\\\\\\\"representation\\\\\\\",\\\\\\\"params\\\\\\\":{\\\\\\\"type\\\\\\\":\\\\\\\"cartoon\\\\\\\"},\\\\\\\"children\\\\\\\":[{\\\\\\\"kind\\\\\\\":\\\\\\\"color\\\\\\\",\\\\\\\"params\\\\\\\":{\\\\\\\"color\\\\\\\":\\\\\\\"grey\\\\\\\"}}]}]},{\\\\\\\"kind\\\\\\\":\\\\\\\"component\\\\\\\",\\\\\\\"params\\\\\\\":{\\\\\\\"selector\\\\\\\":{\\\\\\\"beg_label_seq_id\\\\\\\":384,\\\\\\\"end_label_seq_id\\\\\\\":1374}},\\\\\\\"children\\\\\\\":[{\\\\\\\"kind\\\\\\\":\\\\\\\"representation\\\\\\\",\\\\\\\"params\\\\\\\":{\\\\\\\"type\\\\\\\":\\\\\\\"cartoon\\\\\\\"},\\\\\\\"children\\\\\\\":[{\\\\\\\"kind\\\\\\\":\\\\\\\"color\\\\\\\",\\\\\\\"params\\\\\\\":{\\\\\\\"color\\\\\\\":\\\\\\\"grey\\\\\\\"}}]}]}]}]}]}]},\\\\\\\"metadata\\\\\\\":{\\\\\\\"title\\\\\\\":\\\\\\\"Q99683_TED02\\\\\\\",\\\\\\\"description\\\\\\\":\\\\\\\"\\\\\\\\n#### Domain: [Q99683_TED02\\\\u2197](https://ted.cathdb.info/uniprot/Q99683)\\\\\\\\n\\\\\\\\n#### Properties:\\\\\\\\n- **Chopping:** 304-384\\\\\\\\n- **Residues:** 81\\\\\\\\n- **Average pLDDT:** 85.8175\\\\\\\\n- **Packing:** 11.025\\\\\\\\n- **Globularity:** 0.285\\\\\\\\n- **Taxonomy:** Homo_sapiens\\\\\\\\n- **CATH:** -\\\\\\\\n\\\\\\\",\\\\\\\"key\\\\\\\":\\\\\\\"0df57f94-d3ed-4e92-a83a-db8cb0dbf623\\\\\\\",\\\\\\\"linger_duration_ms\\\\\\\":1000}},{\\\\\\\"root\\\\\\\":{\\\\\\\"kind\\\\\\\":\\\\\\\"root\\\\\\\",\\\\\\\"children\\\\\\\":[{\\\\\\\"kind\\\\\\\":\\\\\\\"download\\\\\\\",\\\\\\\"params\\\\\\\":{\\\\\\\"url\\\\\\\":\\\\\\\"https://alphafold.ebi.ac.uk/files/AF-Q99683-F1-model_v4.cif\\\\\\\"},\\\\\\\"children\\\\\\\":[{\\\\\\\"kind\\\\\\\":\\\\\\\"parse\\\\\\\",\\\\\\\"params\\\\\\\":{\\\\\\\"format\\\\\\\":\\\\\\\"mmcif\\\\\\\"},\\\\\\\"children\\\\\\\":[{\\\\\\\"kind\\\\\\\":\\\\\\\"structure\\\\\\\",\\\\\\\"params\\\\\\\":{\\\\\\\"type\\\\\\\":\\\\\\\"model\\\\\\\"},\\\\\\\"children\\\\\\\":[{\\\\\\\"kind\\\\\\\":\\\\\\\"component\\\\\\\",\\\\\\\"params\\\\\\\":{\\\\\\\"selector\\\\\\\":{\\\\\\\"beg_label_seq_id\\\\\\\":559,\\\\\\\"end_label_seq_id\\\\\\\":656}},\\\\\\\"children\\\\\\\":[{\\\\\\\"kind\\\\\\\":\\\\\\\"label\\\\\\\",\\\\\\\"params\\\\\\\":{\\\\\\\"text\\\\\\\":\\\\\\\"TED03\\\\\\\"}},{\\\\\\\"kind\\\\\\\":\\\\\\\"focus\\\\\\\",\\\\\\\"params\\\\\\\":{}},{\\\\\\\"kind\\\\\\\":\\\\\\\"representation\\\\\\\",\\\\\\\"params\\\\\\\":{\\\\\\\"type\\\\\\\":\\\\\\\"cartoon\\\\\\\"},\\\\\\\"children\\\\\\\":[{\\\\\\\"kind\\\\\\\":\\\\\\\"color\\\\\\\",\\\\\\\"params\\\\\\\":{\\\\\\\"color\\\\\\\":\\\\\\\"#e15759\\\\\\\"}}]}]},{\\\\\\\"kind\\\\\\\":\\\\\\\"component\\\\\\\",\\\\\\\"params\\\\\\\":{\\\\\\\"selector\\\\\\\":{\\\\\\\"beg_label_seq_id\\\\\\\":0,\\\\\\\"end_label_seq_id\\\\\\\":559}},\\\\\\\"children\\\\\\\":[{\\\\\\\"kind\\\\\\\":\\\\\\\"representation\\\\\\\",\\\\\\\"params\\\\\\\":{\\\\\\\"type\\\\\\\":\\\\\\\"cartoon\\\\\\\"},\\\\\\\"children\\\\\\\":[{\\\\\\\"kind\\\\\\\":\\\\\\\"color\\\\\\\",\\\\\\\"params\\\\\\\":{\\\\\\\"color\\\\\\\":\\\\\\\"grey\\\\\\\"}}]}]},{\\\\\\\"kind\\\\\\\":\\\\\\\"component\\\\\\\",\\\\\\\"params\\\\\\\":{\\\\\\\"selector\\\\\\\":{\\\\\\\"beg_label_seq_id\\\\\\\":656,\\\\\\\"end_label_seq_id\\\\\\\":1374}},\\\\\\\"children\\\\\\\":[{\\\\\\\"kind\\\\\\\":\\\\\\\"representation\\\\\\\",\\\\\\\"params\\\\\\\":{\\\\\\\"type\\\\\\\":\\\\\\\"cartoon\\\\\\\"},\\\\\\\"children\\\\\\\":[{\\\\\\\"kind\\\\\\\":\\\\\\\"color\\\\\\\",\\\\\\\"params\\\\\\\":{\\\\\\\"color\\\\\\\":\\\\\\\"grey\\\\\\\"}}]}]}]}]}]}]},\\\\\\\"metadata\\\\\\\":{\\\\\\\"title\\\\\\\":\\\\\\\"Q99683_TED03\\\\\\\",\\\\\\\"description\\\\\\\":\\\\\\\"\\\\\\\\n#### Domain: [Q99683_TED03\\\\u2197](https://ted.cathdb.info/uniprot/Q99683)\\\\\\\\n\\\\\\\\n#### Properties:\\\\\\\\n- **Chopping:** 559-656\\\\\\\\n- **Residues:** 98\\\\\\\\n- **Average pLDDT:** 84.9126\\\\\\\\n- **Packing:** 11.805\\\\\\\\n- **Globularity:** 0.284\\\\\\\\n- **Taxonomy:** Homo_sapiens\\\\\\\\n- **CATH:** [2.30.29.30\\\\u2197](https://www.cathdb.info/version/latest/cathnode/2.30.29.30)\\\\\\\\n\\\\\\\",\\\\\\\"key\\\\\\\":\\\\\\\"448b8144-6d9e-4838-8103-de6140c1c481\\\\\\\",\\\\\\\"linger_duration_ms\\\\\\\":1000}},{\\\\\\\"root\\\\\\\":{\\\\\\\"kind\\\\\\\":\\\\\\\"root\\\\\\\",\\\\\\\"children\\\\\\\":[{\\\\\\\"kind\\\\\\\":\\\\\\\"download\\\\\\\",\\\\\\\"params\\\\\\\":{\\\\\\\"url\\\\\\\":\\\\\\\"https://alphafold.ebi.ac.uk/files/AF-Q99683-F1-model_v4.cif\\\\\\\"},\\\\\\\"children\\\\\\\":[{\\\\\\\"kind\\\\\\\":\\\\\\\"parse\\\\\\\",\\\\\\\"params\\\\\\\":{\\\\\\\"format\\\\\\\":\\\\\\\"mmcif\\\\\\\"},\\\\\\\"children\\\\\\\":[{\\\\\\\"kind\\\\\\\":\\\\\\\"structure\\\\\\\",\\\\\\\"params\\\\\\\":{\\\\\\\"type\\\\\\\":\\\\\\\"model\\\\\\\"},\\\\\\\"children\\\\\\\":[{\\\\\\\"kind\\\\\\\":\\\\\\\"component\\\\\\\",\\\\\\\"params\\\\\\\":{\\\\\\\"selector\\\\\\\":{\\\\\\\"beg_label_seq_id\\\\\\\":672,\\\\\\\"end_label_seq_id\\\\\\\":757}},\\\\\\\"children\\\\\\\":[{\\\\\\\"kind\\\\\\\":\\\\\\\"label\\\\\\\",\\\\\\\"params\\\\\\\":{\\\\\\\"text\\\\\\\":\\\\\\\"TED04\\\\\\\"}},{\\\\\\\"kind\\\\\\\":\\\\\\\"focus\\\\\\\",\\\\\\\"params\\\\\\\":{}},{\\\\\\\"kind\\\\\\\":\\\\\\\"representation\\\\\\\",\\\\\\\"params\\\\\\\":{\\\\\\\"type\\\\\\\":\\\\\\\"cartoon\\\\\\\"},\\\\\\\"children\\\\\\\":[{\\\\\\\"kind\\\\\\\":\\\\\\\"color\\\\\\\",\\\\\\\"params\\\\\\\":{\\\\\\\"color\\\\\\\":\\\\\\\"#76b7b2\\\\\\\"}}]}]},{\\\\\\\"kind\\\\\\\":\\\\\\\"component\\\\\\\",\\\\\\\"params\\\\\\\":{\\\\\\\"selector\\\\\\\":{\\\\\\\"beg_label_seq_id\\\\\\\":0,\\\\\\\"end_label_seq_id\\\\\\\":672}},\\\\\\\"children\\\\\\\":[{\\\\\\\"kind\\\\\\\":\\\\\\\"representation\\\\\\\",\\\\\\\"params\\\\\\\":{\\\\\\\"type\\\\\\\":\\\\\\\"cartoon\\\\\\\"},\\\\\\\"children\\\\\\\":[{\\\\\\\"kind\\\\\\\":\\\\\\\"color\\\\\\\",\\\\\\\"params\\\\\\\":{\\\\\\\"color\\\\\\\":\\\\\\\"grey\\\\\\\"}}]}]},{\\\\\\\"kind\\\\\\\":\\\\\\\"component\\\\\\\",\\\\\\\"params\\\\\\\":{\\\\\\\"selector\\\\\\\":{\\\\\\\"beg_label_seq_id\\\\\\\":757,\\\\\\\"end_label_seq_id\\\\\\\":1374}},\\\\\\\"children\\\\\\\":[{\\\\\\\"kind\\\\\\\":\\\\\\\"representation\\\\\\\",\\\\\\\"params\\\\\\\":{\\\\\\\"type\\\\\\\":\\\\\\\"cartoon\\\\\\\"},\\\\\\\"children\\\\\\\":[{\\\\\\\"kind\\\\\\\":\\\\\\\"color\\\\\\\",\\\\\\\"params\\\\\\\":{\\\\\\\"color\\\\\\\":\\\\\\\"grey\\\\\\\"}}]}]}]}]}]}]},\\\\\\\"metadata\\\\\\\":{\\\\\\\"title\\\\\\\":\\\\\\\"Q99683_TED04\\\\\\\",\\\\\\\"description\\\\\\\":\\\\\\\"\\\\\\\\n#### Domain: [Q99683_TED04\\\\u2197](https://ted.cathdb.info/uniprot/Q99683)\\\\\\\\n\\\\\\\\n#### Properties:\\\\\\\\n- **Chopping:** 672-757\\\\\\\\n- **Residues:** 86\\\\\\\\n- **Average pLDDT:** 84.2147\\\\\\\\n- **Packing:** 11.306\\\\\\\\n- **Globularity:** 0.295\\\\\\\\n- **Taxonomy:** Homo_sapiens\\\\\\\\n- **CATH:** [3.30.200.20\\\\u2197](https://www.cathdb.info/version/latest/cathnode/3.30.200.20)\\\\\\\\n\\\\\\\",\\\\\\\"key\\\\\\\":\\\\\\\"e5cd6864-01eb-4e4a-8848-e91bf15951ea\\\\\\\",\\\\\\\"linger_duration_ms\\\\\\\":1000}},{\\\\\\\"root\\\\\\\":{\\\\\\\"kind\\\\\\\":\\\\\\\"root\\\\\\\",\\\\\\\"children\\\\\\\":[{\\\\\\\"kind\\\\\\\":\\\\\\\"download\\\\\\\",\\\\\\\"params\\\\\\\":{\\\\\\\"url\\\\\\\":\\\\\\\"https://alphafold.ebi.ac.uk/files/AF-Q99683-F1-model_v4.cif\\\\\\\"},\\\\\\\"children\\\\\\\":[{\\\\\\\"kind\\\\\\\":\\\\\\\"parse\\\\\\\",\\\\\\\"params\\\\\\\":{\\\\\\\"format\\\\\\\":\\\\\\\"mmcif\\\\\\\"},\\\\\\\"children\\\\\\\":[{\\\\\\\"kind\\\\\\\":\\\\\\\"structure\\\\\\\",\\\\\\\"params\\\\\\\":{\\\\\\\"type\\\\\\\":\\\\\\\"model\\\\\\\"},\\\\\\\"children\\\\\\\":[{\\\\\\\"kind\\\\\\\":\\\\\\\"component\\\\\\\",\\\\\\\"params\\\\\\\":{\\\\\\\"selector\\\\\\\":{\\\\\\\"beg_label_seq_id\\\\\\\":758,\\\\\\\"end_label_seq_id\\\\\\\":941}},\\\\\\\"children\\\\\\\":[{\\\\\\\"kind\\\\\\\":\\\\\\\"label\\\\\\\",\\\\\\\"params\\\\\\\":{\\\\\\\"text\\\\\\\":\\\\\\\"TED05\\\\\\\"}},{\\\\\\\"kind\\\\\\\":\\\\\\\"focus\\\\\\\",\\\\\\\"params\\\\\\\":{}},{\\\\\\\"kind\\\\\\\":\\\\\\\"representation\\\\\\\",\\\\\\\"params\\\\\\\":{\\\\\\\"type\\\\\\\":\\\\\\\"cartoon\\\\\\\"},\\\\\\\"children\\\\\\\":[{\\\\\\\"kind\\\\\\\":\\\\\\\"color\\\\\\\",\\\\\\\"params\\\\\\\":{\\\\\\\"color\\\\\\\":\\\\\\\"#59a14f\\\\\\\"}}]}]},{\\\\\\\"kind\\\\\\\":\\\\\\\"component\\\\\\\",\\\\\\\"params\\\\\\\":{\\\\\\\"selector\\\\\\\":{\\\\\\\"beg_label_seq_id\\\\\\\":0,\\\\\\\"end_label_seq_id\\\\\\\":758}},\\\\\\\"children\\\\\\\":[{\\\\\\\"kind\\\\\\\":\\\\\\\"representation\\\\\\\",\\\\\\\"params\\\\\\\":{\\\\\\\"type\\\\\\\":\\\\\\\"cartoon\\\\\\\"},\\\\\\\"children\\\\\\\":[{\\\\\\\"kind\\\\\\\":\\\\\\\"color\\\\\\\",\\\\\\\"params\\\\\\\":{\\\\\\\"color\\\\\\\":\\\\\\\"grey\\\\\\\"}}]}]},{\\\\\\\"kind\\\\\\\":\\\\\\\"component\\\\\\\",\\\\\\\"params\\\\\\\":{\\\\\\\"selector\\\\\\\":{\\\\\\\"beg_label_seq_id\\\\\\\":941,\\\\\\\"end_label_seq_id\\\\\\\":1374}},\\\\\\\"children\\\\\\\":[{\\\\\\\"kind\\\\\\\":\\\\\\\"representation\\\\\\\",\\\\\\\"params\\\\\\\":{\\\\\\\"type\\\\\\\":\\\\\\\"cartoon\\\\\\\"},\\\\\\\"children\\\\\\\":[{\\\\\\\"kind\\\\\\\":\\\\\\\"color\\\\\\\",\\\\\\\"params\\\\\\\":{\\\\\\\"color\\\\\\\":\\\\\\\"grey\\\\\\\"}}]}]}]}]}]}]},\\\\\\\"metadata\\\\\\\":{\\\\\\\"title\\\\\\\":\\\\\\\"Q99683_TED05\\\\\\\",\\\\\\\"description\\\\\\\":\\\\\\\"\\\\\\\\n#### Domain: [Q99683_TED05\\\\u2197](https://ted.cathdb.info/uniprot/Q99683)\\\\\\\\n\\\\\\\\n#### Properties:\\\\\\\\n- **Chopping:** 758-941\\\\\\\\n- **Residues:** 184\\\\\\\\n- **Average pLDDT:** 88.0657\\\\\\\\n- **Packing:** 12.062\\\\\\\\n- **Globularity:** 0.272\\\\\\\\n- **Taxonomy:** Homo_sapiens\\\\\\\\n- **CATH:** [1.10.510.10\\\\u2197](https://www.cathdb.info/version/latest/cathnode/1.10.510.10)\\\\\\\\n\\\\\\\",\\\\\\\"key\\\\\\\":\\\\\\\"40dd93c4-3c86-4953-8dc3-bfb6acd7bd92\\\\\\\",\\\\\\\"linger_duration_ms\\\\\\\":1000}},{\\\\\\\"root\\\\\\\":{\\\\\\\"kind\\\\\\\":\\\\\\\"root\\\\\\\",\\\\\\\"children\\\\\\\":[{\\\\\\\"kind\\\\\\\":\\\\\\\"download\\\\\\\",\\\\\\\"params\\\\\\\":{\\\\\\\"url\\\\\\\":\\\\\\\"https://alphafold.ebi.ac.uk/files/AF-Q99683-F1-model_v4.cif\\\\\\\"},\\\\\\\"children\\\\\\\":[{\\\\\\\"kind\\\\\\\":\\\\\\\"parse\\\\\\\",\\\\\\\"params\\\\\\\":{\\\\\\\"format\\\\\\\":\\\\\\\"mmcif\\\\\\\"},\\\\\\\"children\\\\\\\":[{\\\\\\\"kind\\\\\\\":\\\\\\\"structure\\\\\\\",\\\\\\\"params\\\\\\\":{\\\\\\\"type\\\\\\\":\\\\\\\"model\\\\\\\"},\\\\\\\"children\\\\\\\":[{\\\\\\\"kind\\\\\\\":\\\\\\\"component\\\\\\\",\\\\\\\"params\\\\\\\":{\\\\\\\"selector\\\\\\\":{\\\\\\\"beg_label_seq_id\\\\\\\":1043,\\\\\\\"end_label_seq_id\\\\\\\":1180}},\\\\\\\"children\\\\\\\":[{\\\\\\\"kind\\\\\\\":\\\\\\\"label\\\\\\\",\\\\\\\"params\\\\\\\":{\\\\\\\"text\\\\\\\":\\\\\\\"TED06\\\\\\\"}},{\\\\\\\"kind\\\\\\\":\\\\\\\"focus\\\\\\\",\\\\\\\"params\\\\\\\":{}},{\\\\\\\"kind\\\\\\\":\\\\\\\"representation\\\\\\\",\\\\\\\"params\\\\\\\":{\\\\\\\"type\\\\\\\":\\\\\\\"cartoon\\\\\\\"},\\\\\\\"children\\\\\\\":[{\\\\\\\"kind\\\\\\\":\\\\\\\"color\\\\\\\",\\\\\\\"params\\\\\\\":{\\\\\\\"color\\\\\\\":\\\\\\\"#edc949\\\\\\\"}}]}]},{\\\\\\\"kind\\\\\\\":\\\\\\\"component\\\\\\\",\\\\\\\"params\\\\\\\":{\\\\\\\"selector\\\\\\\":{\\\\\\\"beg_label_seq_id\\\\\\\":0,\\\\\\\"end_label_seq_id\\\\\\\":1043}},\\\\\\\"children\\\\\\\":[{\\\\\\\"kind\\\\\\\":\\\\\\\"representation\\\\\\\",\\\\\\\"params\\\\\\\":{\\\\\\\"type\\\\\\\":\\\\\\\"cartoon\\\\\\\"},\\\\\\\"children\\\\\\\":[{\\\\\\\"kind\\\\\\\":\\\\\\\"color\\\\\\\",\\\\\\\"params\\\\\\\":{\\\\\\\"color\\\\\\\":\\\\\\\"grey\\\\\\\"}}]}]},{\\\\\\\"kind\\\\\\\":\\\\\\\"component\\\\\\\",\\\\\\\"params\\\\\\\":{\\\\\\\"selector\\\\\\\":{\\\\\\\"beg_label_seq_id\\\\\\\":1180,\\\\\\\"end_label_seq_id\\\\\\\":1374}},\\\\\\\"children\\\\\\\":[{\\\\\\\"kind\\\\\\\":\\\\\\\"representation\\\\\\\",\\\\\\\"params\\\\\\\":{\\\\\\\"type\\\\\\\":\\\\\\\"cartoon\\\\\\\"},\\\\\\\"children\\\\\\\":[{\\\\\\\"kind\\\\\\\":\\\\\\\"color\\\\\\\",\\\\\\\"params\\\\\\\":{\\\\\\\"color\\\\\\\":\\\\\\\"grey\\\\\\\"}}]}]}]}]}]}]},\\\\\\\"metadata\\\\\\\":{\\\\\\\"title\\\\\\\":\\\\\\\"Q99683_TED06\\\\\\\",\\\\\\\"description\\\\\\\":\\\\\\\"\\\\\\\\n#### Domain: [Q99683_TED06\\\\u2197](https://ted.cathdb.info/uniprot/Q99683)\\\\\\\\n\\\\\\\\n#### Properties:\\\\\\\\n- **Chopping:** 1043-1180\\\\\\\\n- **Residues:** 138\\\\\\\\n- **Average pLDDT:** 81.1196\\\\\\\\n- **Packing:** 12.348\\\\\\\\n- **Globularity:** 0.285\\\\\\\\n- **Taxonomy:** Homo_sapiens\\\\\\\\n- **CATH:** [1.10.490.20\\\\u2197](https://www.cathdb.info/version/latest/cathnode/1.10.490.20)\\\\\\\\n\\\\\\\",\\\\\\\"key\\\\\\\":\\\\\\\"27a4fb8e-0992-4648-bae6-faa5ea433c30\\\\\\\",\\\\\\\"linger_duration_ms\\\\\\\":1000}},{\\\\\\\"root\\\\\\\":{\\\\\\\"kind\\\\\\\":\\\\\\\"root\\\\\\\",\\\\\\\"children\\\\\\\":[{\\\\\\\"kind\\\\\\\":\\\\\\\"download\\\\\\\",\\\\\\\"params\\\\\\\":{\\\\\\\"url\\\\\\\":\\\\\\\"https://alphafold.ebi.ac.uk/files/AF-Q99683-F1-model_v4.cif\\\\\\\"},\\\\\\\"children\\\\\\\":[{\\\\\\\"kind\\\\\\\":\\\\\\\"parse\\\\\\\",\\\\\\\"params\\\\\\\":{\\\\\\\"format\\\\\\\":\\\\\\\"mmcif\\\\\\\"},\\\\\\\"children\\\\\\\":[{\\\\\\\"kind\\\\\\\":\\\\\\\"structure\\\\\\\",\\\\\\\"params\\\\\\\":{\\\\\\\"type\\\\\\\":\\\\\\\"model\\\\\\\"},\\\\\\\"children\\\\\\\":[{\\\\\\\"kind\\\\\\\":\\\\\\\"component\\\\\\\",\\\\\\\"params\\\\\\\":{\\\\\\\"selector\\\\\\\":{\\\\\\\"beg_label_seq_id\\\\\\\":1312,\\\\\\\"end_label_seq_id\\\\\\\":1372}},\\\\\\\"children\\\\\\\":[{\\\\\\\"kind\\\\\\\":\\\\\\\"label\\\\\\\",\\\\\\\"params\\\\\\\":{\\\\\\\"text\\\\\\\":\\\\\\\"TED07\\\\\\\"}},{\\\\\\\"kind\\\\\\\":\\\\\\\"focus\\\\\\\",\\\\\\\"params\\\\\\\":{}},{\\\\\\\"kind\\\\\\\":\\\\\\\"representation\\\\\\\",\\\\\\\"params\\\\\\\":{\\\\\\\"type\\\\\\\":\\\\\\\"cartoon\\\\\\\"},\\\\\\\"children\\\\\\\":[{\\\\\\\"kind\\\\\\\":\\\\\\\"color\\\\\\\",\\\\\\\"params\\\\\\\":{\\\\\\\"color\\\\\\\":\\\\\\\"#af7aa1\\\\\\\"}}]}]},{\\\\\\\"kind\\\\\\\":\\\\\\\"component\\\\\\\",\\\\\\\"params\\\\\\\":{\\\\\\\"selector\\\\\\\":{\\\\\\\"beg_label_seq_id\\\\\\\":0,\\\\\\\"end_label_seq_id\\\\\\\":1312}},\\\\\\\"children\\\\\\\":[{\\\\\\\"kind\\\\\\\":\\\\\\\"representation\\\\\\\",\\\\\\\"params\\\\\\\":{\\\\\\\"type\\\\\\\":\\\\\\\"cartoon\\\\\\\"},\\\\\\\"children\\\\\\\":[{\\\\\\\"kind\\\\\\\":\\\\\\\"color\\\\\\\",\\\\\\\"params\\\\\\\":{\\\\\\\"color\\\\\\\":\\\\\\\"grey\\\\\\\"}}]}]},{\\\\\\\"kind\\\\\\\":\\\\\\\"component\\\\\\\",\\\\\\\"params\\\\\\\":{\\\\\\\"selector\\\\\\\":{\\\\\\\"beg_label_seq_id\\\\\\\":1372,\\\\\\\"end_label_seq_id\\\\\\\":1374}},\\\\\\\"children\\\\\\\":[{\\\\\\\"kind\\\\\\\":\\\\\\\"representation\\\\\\\",\\\\\\\"params\\\\\\\":{\\\\\\\"type\\\\\\\":\\\\\\\"cartoon\\\\\\\"},\\\\\\\"children\\\\\\\":[{\\\\\\\"kind\\\\\\\":\\\\\\\"color\\\\\\\",\\\\\\\"params\\\\\\\":{\\\\\\\"color\\\\\\\":\\\\\\\"grey\\\\\\\"}}]}]}]}]}]}]},\\\\\\\"metadata\\\\\\\":{\\\\\\\"title\\\\\\\":\\\\\\\"Q99683_TED07\\\\\\\",\\\\\\\"description\\\\\\\":\\\\\\\"\\\\\\\\n#### Domain: [Q99683_TED07\\\\u2197](https://ted.cathdb.info/uniprot/Q99683)\\\\\\\\n\\\\\\\\n#### Properties:\\\\\\\\n- **Chopping:** 1312-1372\\\\\\\\n- **Residues:** 61\\\\\\\\n- **Average pLDDT:** 87.439\\\\\\\\n- **Packing:** 12.214\\\\\\\\n- **Globularity:** 0.248\\\\\\\\n- **Taxonomy:** Homo_sapiens\\\\\\\\n- **CATH:** [1.10.150\\\\u2197](https://www.cathdb.info/version/latest/cathnode/1.10.150)\\\\\\\\n\\\\\\\",\\\\\\\"key\\\\\\\":\\\\\\\"fc009997-c0b2-4b08-b65b-d2838bf9b406\\\\\\\",\\\\\\\"linger_duration_ms\\\\\\\":1000}}]}\\\";\\n\\n        mvsStories.loadFromData(mvsData, { format: 'mvsj' });\\n    </\" + \"script\" + \">\\n</body>\\n</html>\\n\"], { type: 'text/html' });\n        var url = URL.createObjectURL(blob);\n\n        // Create the iframe\n        var iframe = document.createElement('iframe');\n        iframe.src = url;\n        iframe.style = \"border: 0; width: 100%; height: 550px\"\n        iframe.allow = \"fullscreen\";\n        iframe.allowFullscreen = true;\n        wrapper.appendChild(iframe);\n\n        // Create the download link\n        var link = document.createElement('a');\n        link.href = url;\n        link.download = \"molstar_download.html\";\n        link.innerText = \"Download HTML\";\n        link.style.display = \"block\";\n        link.style.marginTop = \"10px\";\n        wrapper.appendChild(link);\n    }, 100);\n    ",
      "text/plain": [
       "<IPython.core.display.Javascript object>"
      ]
     },
     "metadata": {},
     "output_type": "display_data"
    }
   ],
   "source": [
    "mvsj = mvs.MVSJ(\n",
    "    data=mvs.States(snapshots=snapshots, metadata=mvs.GlobalMetadata(description=\"TED Domain Visualization\"))\n",
    ")\n",
    "mvs.molstar_notebook(mvsj, ui=\"stories\", width=\"100%\", height=550)"
   ]
  }
 ],
 "metadata": {
  "kernelspec": {
   "display_name": "mol-view-spec-dev-dev",
   "language": "python",
   "name": "python3"
  },
  "language_info": {
   "codemirror_mode": {
    "name": "ipython",
    "version": 3
   },
   "file_extension": ".py",
   "mimetype": "text/x-python",
   "name": "python",
   "nbconvert_exporter": "python",
   "pygments_lexer": "ipython3",
   "version": "3.11.12"
  }
 },
 "nbformat": 4,
 "nbformat_minor": 2
}
