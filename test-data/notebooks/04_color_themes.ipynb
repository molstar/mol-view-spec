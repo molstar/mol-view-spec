{
 "cells": [
  {
   "cell_type": "code",
   "execution_count": null,
   "id": "b2e6fdc7-8b6c-4e23-8ac9-3cf8232576a2",
   "metadata": {},
   "outputs": [],
   "source": [
    "# Install molviewspec\n",
    "!pip install molviewspec"
   ]
  },
  {
   "cell_type": "code",
   "execution_count": 2,
   "id": "77e4ce4a-e467-4bc2-8fb1-85627bb4c923",
   "metadata": {},
   "outputs": [],
   "source": [
    "import molviewspec as mvs"
   ]
  },
  {
   "cell_type": "markdown",
   "id": "2f424e13-d0aa-4172-bda5-21240bd4dbad",
   "metadata": {},
   "source": [
    "## Examples for generic color themes"
   ]
  },
  {
   "cell_type": "markdown",
   "id": "1863c454",
   "metadata": {},
   "source": [
    "### Categorical color theme"
   ]
  },
  {
   "cell_type": "code",
   "execution_count": 3,
   "id": "e7e6dc56-4610-40b5-8181-247a5942eb94",
   "metadata": {},
   "outputs": [],
   "source": [
    "builder = mvs.create_builder()\n",
    "\n",
    "structure = builder.download(url='https://www.ebi.ac.uk/pdbe/entry-files/download/1hda.bcif').parse(format='bcif').model_structure()\n",
    "\n",
    "(\n",
    "    structure.component(selector=\"polymer\")\n",
    "    .representation(type=\"cartoon\")\n",
    "    .color_from_source(\n",
    "        schema=\"all_atomic\",\n",
    "        category_name=\"atom_site\",\n",
    "        field_name=\"auth_asym_id\",\n",
    "        # Set1 palette as named color list:\n",
    "        palette=mvs.CategoricalPalette(colors=\"Set1\"),\n",
    "    )\n",
    ")\n",
    "(\n",
    "    structure.component(selector=\"ligand\")\n",
    "    .representation(type=\"ball_and_stick\")\n",
    "    .color_from_source(\n",
    "        schema=\"all_atomic\",\n",
    "        category_name=\"atom_site\",\n",
    "        field_name=\"auth_asym_id\",\n",
    "        # Pastel1 palette as explicit color list:\n",
    "        palette=mvs.CategoricalPalette(\n",
    "            colors=[\n",
    "                \"#fbb4ae\",\n",
    "                \"#b3cde3\",\n",
    "                \"#ccebc5\",\n",
    "                \"#decbe4\",\n",
    "                \"#fed9a6\",\n",
    "                \"#ffffcc\",\n",
    "                \"#e5d8bd\",\n",
    "                \"#fddaec\",\n",
    "                \"#f2f2f2\",\n",
    "            ],\n",
    "            repeat_color_list=False,\n",
    "            sort=\"lexical\",\n",
    "            sort_direction=\"ascending\",\n",
    "            case_insensitive=False,\n",
    "            missing_color=\"magenta\",\n",
    "        ),\n",
    "        # Pastel1 palette as explicit color dict:\n",
    "        # palette=CategoricalPalette(colors={\"A\": \"#fbb4ae\", \"B\": \"#b3cde3\", \"C\": \"#ccebc5\", \"D\": \"#decbe4\", \"E\": \"#fed9a6\", \"F\": \"#ffffcc\", \"G\": \"#e5d8bd\", \"H\": \"#fddaec\", \"I\": \"#f2f2f2\"}),\n",
    "        # Pastel1 palette as named color list:\n",
    "        # palette=CategoricalPalette(colors=\"Pastel1\"),\n",
    "    )\n",
    "    .color_from_source(\n",
    "        schema=\"all_atomic\",\n",
    "        category_name=\"atom_site\",\n",
    "        field_name=\"type_symbol\",\n",
    "        # ElementSymbol palette as named color dict:\n",
    "        palette=mvs.CategoricalPalette(colors=\"ElementSymbol\"),\n",
    "    )\n",
    ")\n",
    "structure.component().tooltip(text=\"Chain:\")\n",
    "structure.tooltip_from_source(schema=\"all_atomic\", category_name=\"atom_site\", field_name=\"auth_asym_id\")\n",
    "\n",
    "builder"
   ]
  },
  {
   "cell_type": "markdown",
   "id": "53f4b1a6",
   "metadata": {},
   "source": [
    "### Discrete color theme"
   ]
  },
  {
   "cell_type": "code",
   "execution_count": 4,
   "id": "6e911e84-0f0c-49fa-85c4-23b5d440fa35",
   "metadata": {},
   "outputs": [],
   "source": [
    "builder = mvs.create_builder()\n",
    "\n",
    "structure = builder.download(url='https://alphafold.ebi.ac.uk/files/AF-Q8W3K0-F1-model_v4.bcif').parse(format='bcif').model_structure()\n",
    "\n",
    "(\n",
    "    structure.component(selector=\"polymer\")\n",
    "    .representation(type=\"cartoon\")\n",
    "    .color_from_source(\n",
    "        # Color by pLDDT:\n",
    "        schema=\"all_atomic\",\n",
    "        category_name=\"atom_site\",\n",
    "        field_name=\"B_iso_or_equiv\",\n",
    "        palette=mvs.DiscretePalette(\n",
    "            colors=[[\"#FF7D45\", 0], [\"#FFDB13\", 50], [\"#65CBF3\", 70], [\"#0053D6\", 90]],\n",
    "            mode=\"absolute\",\n",
    "        ),\n",
    "    )\n",
    ")\n",
    "structure.component().tooltip(text=\"pLDDT:\")\n",
    "structure.tooltip_from_source(schema=\"all_atomic\", category_name=\"atom_site\", field_name=\"B_iso_or_equiv\")\n",
    "\n",
    "builder"
   ]
  },
  {
   "cell_type": "markdown",
   "id": "83a5ba65",
   "metadata": {},
   "source": [
    "### Continuous color theme"
   ]
  },
  {
   "cell_type": "code",
   "execution_count": null,
   "id": "fa423f42",
   "metadata": {},
   "outputs": [],
   "source": [
    "builder = mvs.create_builder()\n",
    "\n",
    "structure = builder.download(url='https://www.ebi.ac.uk/pdbe/entry-files/download/1hda.bcif').parse(format='bcif').model_structure()\n",
    "\n",
    "(\n",
    "    structure.component(selector=\"polymer\")\n",
    "    .representation(type=\"cartoon\")\n",
    "    .color_from_source(\n",
    "        # Color by B-factor:\n",
    "        schema=\"all_atomic\",\n",
    "        category_name=\"atom_site\",\n",
    "        field_name=\"B_iso_or_equiv\",\n",
    "        palette=mvs.ContinuousPalette(\n",
    "            colors=\"OrRd\",\n",
    "            reverse=False,\n",
    "            mode=\"normalized\",\n",
    "            value_domain=[0, 100],\n",
    "            underflow_color=\"white\",\n",
    "            overflow_color=\"red\",\n",
    "        ),\n",
    "    )\n",
    ")\n",
    "structure.component().tooltip(text=\"B-factor:\")\n",
    "structure.tooltip_from_source(schema=\"all_atomic\", category_name=\"atom_site\", field_name=\"B_iso_or_equiv\")\n",
    "\n",
    "builder"
   ]
  }
 ],
 "metadata": {
  "kernelspec": {
   "display_name": "Python 3 (ipykernel)",
   "language": "python",
   "name": "python3"
  }
 },
 "nbformat": 4,
 "nbformat_minor": 5
}
