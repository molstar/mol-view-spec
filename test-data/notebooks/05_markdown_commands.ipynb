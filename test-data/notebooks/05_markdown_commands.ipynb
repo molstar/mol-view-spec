{
 "cells": [
  {
   "cell_type": "code",
   "execution_count": 1,
   "id": "66587411",
   "metadata": {},
   "outputs": [],
   "source": [
    "# !pip install molviewspec"
   ]
  },
  {
   "cell_type": "code",
   "execution_count": 1,
   "id": "f5f51956",
   "metadata": {},
   "outputs": [],
   "source": [
    "import molviewspec as mvs"
   ]
  },
  {
   "cell_type": "code",
   "execution_count": 11,
   "id": "f9dd67fe",
   "metadata": {},
   "outputs": [],
   "source": [
    "builder = mvs.create_builder()\n",
    "\n",
    "assets = {\n",
    "    \"1cbs.cif\": \"https://files.wwpdb.org/download/1cbs.cif\",\n",
    "    \"logo.png\": \"https://molstar.org/img/molstar-logo.png\",\n",
    "}\n",
    "\n",
    "model = (\n",
    "    builder.download(url=\"1cbs.cif\")\n",
    "        .parse(format=\"mmcif\")\n",
    "        .model_structure()\n",
    ")\n",
    "(\n",
    "    model.component(selector=\"polymer\")\n",
    "    .representation(ref=\"polymer\")\n",
    "    .color(color=\"blue\")\n",
    ")\n",
    "(\n",
    "    model.component(selector=\"ligand\")\n",
    "    .representation(ref=\"ligand\")\n",
    "    .color(color=\"red\")\n",
    ")\n",
    "\n",
    "mvsx = mvs.MVSX(\n",
    "    data=builder.get_state(description=\"\"\"\n",
    "# 1CBS\n",
    "\n",
    "### Highlight/Focus:\n",
    "- ![blue](!color-swatch=blue) [polymer](!highlight-refs=polymer&focus-refs=polymer)\n",
    "- ![blue](!color-swatch=red) [ligand](!highlight-refs=ligand&focus-refs=ligand)\n",
    "- [both](!highlight-refs=polymer,ligand&focus-refs=polymer,ligand)\n",
    "\n",
    "### Color Palette Table\n",
    "|name|visual|\n",
    "|---:|---|\n",
    "|viridis|![viridis](!color-palette-name=viridis)|\n",
    "|rainbow (discrete)|![simple-rainbow](!color-palette-name=simple-rainbow&color-palette-discrete)|\n",
    "|custom|![custom](!color-palette-colors=red,#00ff00,rgb(0,0,255))|\n",
    "\n",
    "### Camera controls\n",
    "- [center](!center-camera)\n",
    "\n",
    "![mvsx image](logo.png)\n",
    "\"\"\"),\n",
    "    assets=assets\n",
    ")\n",
    "\n",
    "# uncomment to save to a local file\n",
    "# mvsx.dump(\"./local/path/to/1cbs.mvsx\")\n",
    "\n",
    "# uncomment to view using Mol* Stories app\n",
    "# mvs.molstar_notebook(mvsx, ui=\"stories\")  # or mvsx.molstar_notebook(ui=\"stories\")\n",
    "\n",
    "# uncomment to show default view in Mol* viewer\n",
    "# mvsx"
   ]
  },
  {
   "cell_type": "code",
   "execution_count": null,
   "id": "a0b04630",
   "metadata": {},
   "outputs": [],
   "source": []
  }
 ],
 "metadata": {
  "kernelspec": {
   "display_name": "mol-view-spec-dev",
   "language": "python",
   "name": "python3"
  },
  "language_info": {
   "codemirror_mode": {
    "name": "ipython",
    "version": 3
   },
   "file_extension": ".py",
   "mimetype": "text/x-python",
   "name": "python",
   "nbconvert_exporter": "python",
   "pygments_lexer": "ipython3",
   "version": "3.11.13"
  }
 },
 "nbformat": 4,
 "nbformat_minor": 5
}
