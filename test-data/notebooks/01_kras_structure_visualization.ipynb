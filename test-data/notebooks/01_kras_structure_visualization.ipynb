{
 "cells": [
  {
   "cell_type": "code",
   "execution_count": null,
   "id": "b2e6fdc7-8b6c-4e23-8ac9-3cf8232576a2",
   "metadata": {},
   "outputs": [],
   "source": [
    "# Install molviewspec from local directory (use 'pip install molviewspec' to install stable version)\n",
    "!pip install ../../molviewspec"
   ]
  },
  {
   "cell_type": "code",
   "execution_count": 2,
   "id": "77e4ce4a-e467-4bc2-8fb1-85627bb4c923",
   "metadata": {},
   "outputs": [],
   "source": [
    "import molviewspec as mvs"
   ]
  },
  {
   "cell_type": "code",
   "execution_count": 3,
   "id": "e7e6dc56-4610-40b5-8181-247a5942eb94",
   "metadata": {},
   "outputs": [
    {
     "data": {
      "text/html": [
       "<div id=\"molstar_9100a9d0-eaf8-4d0e-934f-b3ba2d603a8b\"></div>"
      ],
      "text/plain": [
       "<IPython.core.display.HTML object>"
      ]
     },
     "metadata": {},
     "output_type": "display_data"
    },
    {
     "data": {
      "application/javascript": [
       "\n",
       "    setTimeout(function(){\n",
       "        var wrapper = document.getElementById(\"molstar_9100a9d0-eaf8-4d0e-934f-b3ba2d603a8b\")\n",
       "        if (wrapper === null) {\n",
       "            throw new Error(\"Wrapper element #molstar_9100a9d0-eaf8-4d0e-934f-b3ba2d603a8b not found anymore\")\n",
       "        }\n",
       "        var blob = new Blob([\"\\n    <!DOCTYPE html>\\n    <html lang=\\\"en\\\">\\n        <head>\\n            <!-- Replace \\\"latest\\\" by the specific version you want to use, e.g. \\\"4.0.0\\\" -->\\n            <script src=\\\"https://cdn.jsdelivr.net/npm/molstar@latest/build/viewer/molstar.js\\\"></\" + \"script\" + \">\\n            <!-- Replace \\\"latest\\\" by the specific version you want to use, e.g. \\\"4.0.0\\\" -->\\n            <link rel=\\\"stylesheet\\\" type=\\\"text/css\\\" href=\\\"https://cdn.jsdelivr.net/npm/molstar@latest/build/viewer/molstar.css\\\" />\\n        </head>\\n        <body>\\n            <div id=\\\"viewer1\\\"></div>\\n            <script>\\n                const mvsData = \\\"{\\\\n  \\\\\\\"kind\\\\\\\": \\\\\\\"single\\\\\\\",\\\\n  \\\\\\\"root\\\\\\\": {\\\\n    \\\\\\\"kind\\\\\\\": \\\\\\\"root\\\\\\\",\\\\n    \\\\\\\"children\\\\\\\": [\\\\n      {\\\\n        \\\\\\\"kind\\\\\\\": \\\\\\\"download\\\\\\\",\\\\n        \\\\\\\"params\\\\\\\": {\\\\n          \\\\\\\"url\\\\\\\": \\\\\\\"https://files.wwpdb.org/download/6vjj.cif\\\\\\\"\\\\n        },\\\\n        \\\\\\\"children\\\\\\\": [\\\\n          {\\\\n            \\\\\\\"kind\\\\\\\": \\\\\\\"parse\\\\\\\",\\\\n            \\\\\\\"params\\\\\\\": {\\\\n              \\\\\\\"format\\\\\\\": \\\\\\\"mmcif\\\\\\\"\\\\n            },\\\\n            \\\\\\\"children\\\\\\\": [\\\\n              {\\\\n                \\\\\\\"kind\\\\\\\": \\\\\\\"structure\\\\\\\",\\\\n                \\\\\\\"params\\\\\\\": {\\\\n                  \\\\\\\"type\\\\\\\": \\\\\\\"model\\\\\\\"\\\\n                },\\\\n                \\\\\\\"children\\\\\\\": [\\\\n                  {\\\\n                    \\\\\\\"kind\\\\\\\": \\\\\\\"component\\\\\\\",\\\\n                    \\\\\\\"params\\\\\\\": {\\\\n                      \\\\\\\"selector\\\\\\\": \\\\\\\"polymer\\\\\\\"\\\\n                    },\\\\n                    \\\\\\\"children\\\\\\\": [\\\\n                      {\\\\n                        \\\\\\\"kind\\\\\\\": \\\\\\\"representation\\\\\\\",\\\\n                        \\\\\\\"params\\\\\\\": {\\\\n                          \\\\\\\"type\\\\\\\": \\\\\\\"cartoon\\\\\\\"\\\\n                        },\\\\n                        \\\\\\\"children\\\\\\\": [\\\\n                          {\\\\n                            \\\\\\\"kind\\\\\\\": \\\\\\\"color\\\\\\\",\\\\n                            \\\\\\\"params\\\\\\\": {},\\\\n                            \\\\\\\"custom\\\\\\\": {\\\\n                              \\\\\\\"molstar_use_default_coloring\\\\\\\": true\\\\n                            }\\\\n                          }\\\\n                        ]\\\\n                      }\\\\n                    ]\\\\n                  },\\\\n                  {\\\\n                    \\\\\\\"kind\\\\\\\": \\\\\\\"component\\\\\\\",\\\\n                    \\\\\\\"params\\\\\\\": {\\\\n                      \\\\\\\"selector\\\\\\\": \\\\\\\"ligand\\\\\\\"\\\\n                    },\\\\n                    \\\\\\\"children\\\\\\\": [\\\\n                      {\\\\n                        \\\\\\\"kind\\\\\\\": \\\\\\\"representation\\\\\\\",\\\\n                        \\\\\\\"params\\\\\\\": {\\\\n                          \\\\\\\"type\\\\\\\": \\\\\\\"cartoon\\\\\\\"\\\\n                        },\\\\n                        \\\\\\\"children\\\\\\\": [\\\\n                          {\\\\n                            \\\\\\\"kind\\\\\\\": \\\\\\\"color\\\\\\\",\\\\n                            \\\\\\\"params\\\\\\\": {\\\\n                              \\\\\\\"color\\\\\\\": \\\\\\\"blue\\\\\\\"\\\\n                            }\\\\n                          }\\\\n                        ]\\\\n                      }\\\\n                    ]\\\\n                  }\\\\n                ]\\\\n              }\\\\n            ]\\\\n          }\\\\n        ]\\\\n      }\\\\n    ]\\\\n  },\\\\n  \\\\\\\"metadata\\\\\\\": {\\\\n    \\\\\\\"timestamp\\\\\\\": \\\\\\\"2025-04-29T19:23:20.427232+00:00\\\\\\\",\\\\n    \\\\\\\"version\\\\\\\": \\\\\\\"1.4\\\\\\\"\\\\n  }\\\\n}\\\";\\n                molstar.Viewer\\n                    .create('viewer1', { layoutIsExpanded: false, layoutShowControls: false })\\n                    .then(viewer => viewer.loadMvsData(mvsData, 'mvsj'));\\n            </\" + \"script\" + \">\\n        </body>\\n    </html>\\n    \"], { type: 'text/html' });\n",
       "        var url = URL.createObjectURL(blob);\n",
       "\n",
       "        // Create the iframe\n",
       "        var iframe = document.createElement('iframe');\n",
       "        iframe.src = url;\n",
       "        iframe.style = \"border: 0; width: 950px; height: 600px\"\n",
       "        iframe.allow = \"fullscreen\";\n",
       "        iframe.allowFullscreen = true;\n",
       "        wrapper.appendChild(iframe);\n",
       "\n",
       "        // Create the download link\n",
       "        var link = document.createElement('a');\n",
       "        link.href = url;\n",
       "        link.download = \"molstar_download.html\";\n",
       "        link.innerText = \"Download HTML\";\n",
       "        link.style.display = \"block\";\n",
       "        link.style.marginTop = \"10px\";\n",
       "        wrapper.appendChild(link);\n",
       "    }, 100);\n",
       "    "
      ],
      "text/plain": [
       "<IPython.core.display.Javascript object>"
      ]
     },
     "metadata": {},
     "output_type": "display_data"
    }
   ],
   "source": [
    "builder = mvs.create_builder()\n",
    "\n",
    "structure = builder.download(url='https://files.wwpdb.org/download/6vjj.cif').parse(format='mmcif').model_structure()\n",
    "\n",
    "structure.component(selector=\"polymer\").representation().color(custom=dict(molstar_use_default_coloring=True))\n",
    "\n",
    "structure.component(selector=\"ligand\").representation().color(color=\"blue\")\n",
    "\n",
    "builder.molstar_notebook()"
   ]
  },
  {
   "cell_type": "code",
   "execution_count": 4,
   "id": "6e911e84-0f0c-49fa-85c4-23b5d440fa35",
   "metadata": {},
   "outputs": [
    {
     "data": {
      "text/html": [
       "<div id=\"molstar_223a3760-b95b-450f-9c4d-b38c7ec78069\"></div>"
      ],
      "text/plain": [
       "<IPython.core.display.HTML object>"
      ]
     },
     "metadata": {},
     "output_type": "display_data"
    },
    {
     "data": {
      "application/javascript": [
       "\n",
       "    setTimeout(function(){\n",
       "        var wrapper = document.getElementById(\"molstar_223a3760-b95b-450f-9c4d-b38c7ec78069\")\n",
       "        if (wrapper === null) {\n",
       "            throw new Error(\"Wrapper element #molstar_223a3760-b95b-450f-9c4d-b38c7ec78069 not found anymore\")\n",
       "        }\n",
       "        var blob = new Blob([\"\\n    <!DOCTYPE html>\\n    <html lang=\\\"en\\\">\\n        <head>\\n            <!-- Replace \\\"latest\\\" by the specific version you want to use, e.g. \\\"4.0.0\\\" -->\\n            <script src=\\\"https://cdn.jsdelivr.net/npm/molstar@latest/build/viewer/molstar.js\\\"></\" + \"script\" + \">\\n            <!-- Replace \\\"latest\\\" by the specific version you want to use, e.g. \\\"4.0.0\\\" -->\\n            <link rel=\\\"stylesheet\\\" type=\\\"text/css\\\" href=\\\"https://cdn.jsdelivr.net/npm/molstar@latest/build/viewer/molstar.css\\\" />\\n        </head>\\n        <body>\\n            <div id=\\\"viewer1\\\"></div>\\n            <script>\\n                const mvsData = \\\"{\\\\n  \\\\\\\"kind\\\\\\\": \\\\\\\"single\\\\\\\",\\\\n  \\\\\\\"root\\\\\\\": {\\\\n    \\\\\\\"kind\\\\\\\": \\\\\\\"root\\\\\\\",\\\\n    \\\\\\\"children\\\\\\\": [\\\\n      {\\\\n        \\\\\\\"kind\\\\\\\": \\\\\\\"download\\\\\\\",\\\\n        \\\\\\\"params\\\\\\\": {\\\\n          \\\\\\\"url\\\\\\\": \\\\\\\"https://files.wwpdb.org/download/6vjj.cif\\\\\\\"\\\\n        },\\\\n        \\\\\\\"children\\\\\\\": [\\\\n          {\\\\n            \\\\\\\"kind\\\\\\\": \\\\\\\"parse\\\\\\\",\\\\n            \\\\\\\"params\\\\\\\": {\\\\n              \\\\\\\"format\\\\\\\": \\\\\\\"mmcif\\\\\\\"\\\\n            },\\\\n            \\\\\\\"children\\\\\\\": [\\\\n              {\\\\n                \\\\\\\"kind\\\\\\\": \\\\\\\"structure\\\\\\\",\\\\n                \\\\\\\"params\\\\\\\": {\\\\n                  \\\\\\\"type\\\\\\\": \\\\\\\"model\\\\\\\"\\\\n                },\\\\n                \\\\\\\"children\\\\\\\": [\\\\n                  {\\\\n                    \\\\\\\"kind\\\\\\\": \\\\\\\"component\\\\\\\",\\\\n                    \\\\\\\"params\\\\\\\": {\\\\n                      \\\\\\\"selector\\\\\\\": {\\\\n                        \\\\\\\"label_asym_id\\\\\\\": \\\\\\\"A\\\\\\\"\\\\n                      }\\\\n                    },\\\\n                    \\\\\\\"children\\\\\\\": [\\\\n                      {\\\\n                        \\\\\\\"kind\\\\\\\": \\\\\\\"representation\\\\\\\",\\\\n                        \\\\\\\"params\\\\\\\": {\\\\n                          \\\\\\\"type\\\\\\\": \\\\\\\"cartoon\\\\\\\"\\\\n                        },\\\\n                        \\\\\\\"children\\\\\\\": [\\\\n                          {\\\\n                            \\\\\\\"kind\\\\\\\": \\\\\\\"color\\\\\\\",\\\\n                            \\\\\\\"params\\\\\\\": {\\\\n                              \\\\\\\"color\\\\\\\": \\\\\\\"white\\\\\\\"\\\\n                            }\\\\n                          }\\\\n                        ]\\\\n                      }\\\\n                    ]\\\\n                  },\\\\n                  {\\\\n                    \\\\\\\"kind\\\\\\\": \\\\\\\"component\\\\\\\",\\\\n                    \\\\\\\"params\\\\\\\": {\\\\n                      \\\\\\\"selector\\\\\\\": {\\\\n                        \\\\\\\"label_asym_id\\\\\\\": \\\\\\\"D\\\\\\\"\\\\n                      }\\\\n                    },\\\\n                    \\\\\\\"children\\\\\\\": [\\\\n                      {\\\\n                        \\\\\\\"kind\\\\\\\": \\\\\\\"representation\\\\\\\",\\\\n                        \\\\\\\"params\\\\\\\": {\\\\n                          \\\\\\\"type\\\\\\\": \\\\\\\"ball_and_stick\\\\\\\"\\\\n                        },\\\\n                        \\\\\\\"children\\\\\\\": [\\\\n                          {\\\\n                            \\\\\\\"kind\\\\\\\": \\\\\\\"color\\\\\\\",\\\\n                            \\\\\\\"params\\\\\\\": {\\\\n                              \\\\\\\"color\\\\\\\": \\\\\\\"orange\\\\\\\"\\\\n                            }\\\\n                          }\\\\n                        ]\\\\n                      }\\\\n                    ]\\\\n                  },\\\\n                  {\\\\n                    \\\\\\\"kind\\\\\\\": \\\\\\\"component\\\\\\\",\\\\n                    \\\\\\\"params\\\\\\\": {\\\\n                      \\\\\\\"selector\\\\\\\": {\\\\n                        \\\\\\\"label_asym_id\\\\\\\": \\\\\\\"A\\\\\\\",\\\\n                        \\\\\\\"auth_seq_id\\\\\\\": 12\\\\n                      }\\\\n                    },\\\\n                    \\\\\\\"children\\\\\\\": [\\\\n                      {\\\\n                        \\\\\\\"kind\\\\\\\": \\\\\\\"representation\\\\\\\",\\\\n                        \\\\\\\"params\\\\\\\": {\\\\n                          \\\\\\\"type\\\\\\\": \\\\\\\"ball_and_stick\\\\\\\"\\\\n                        },\\\\n                        \\\\\\\"children\\\\\\\": [\\\\n                          {\\\\n                            \\\\\\\"kind\\\\\\\": \\\\\\\"color\\\\\\\",\\\\n                            \\\\\\\"params\\\\\\\": {\\\\n                              \\\\\\\"color\\\\\\\": \\\\\\\"green\\\\\\\"\\\\n                            }\\\\n                          }\\\\n                        ]\\\\n                      }\\\\n                    ]\\\\n                  },\\\\n                  {\\\\n                    \\\\\\\"kind\\\\\\\": \\\\\\\"component\\\\\\\",\\\\n                    \\\\\\\"params\\\\\\\": {\\\\n                      \\\\\\\"selector\\\\\\\": {\\\\n                        \\\\\\\"label_asym_id\\\\\\\": \\\\\\\"B\\\\\\\"\\\\n                      }\\\\n                    },\\\\n                    \\\\\\\"children\\\\\\\": [\\\\n                      {\\\\n                        \\\\\\\"kind\\\\\\\": \\\\\\\"representation\\\\\\\",\\\\n                        \\\\\\\"params\\\\\\\": {\\\\n                          \\\\\\\"type\\\\\\\": \\\\\\\"cartoon\\\\\\\"\\\\n                        },\\\\n                        \\\\\\\"children\\\\\\\": [\\\\n                          {\\\\n                            \\\\\\\"kind\\\\\\\": \\\\\\\"color\\\\\\\",\\\\n                            \\\\\\\"params\\\\\\\": {\\\\n                              \\\\\\\"color\\\\\\\": \\\\\\\"#bbccff\\\\\\\"\\\\n                            }\\\\n                          }\\\\n                        ]\\\\n                      }\\\\n                    ]\\\\n                  }\\\\n                ]\\\\n              }\\\\n            ]\\\\n          }\\\\n        ]\\\\n      }\\\\n    ]\\\\n  },\\\\n  \\\\\\\"metadata\\\\\\\": {\\\\n    \\\\\\\"timestamp\\\\\\\": \\\\\\\"2025-04-29T19:23:20.434928+00:00\\\\\\\",\\\\n    \\\\\\\"version\\\\\\\": \\\\\\\"1.4\\\\\\\"\\\\n  }\\\\n}\\\";\\n                molstar.Viewer\\n                    .create('viewer1', { layoutIsExpanded: false, layoutShowControls: false })\\n                    .then(viewer => viewer.loadMvsData(mvsData, 'mvsj'));\\n            </\" + \"script\" + \">\\n        </body>\\n    </html>\\n    \"], { type: 'text/html' });\n",
       "        var url = URL.createObjectURL(blob);\n",
       "\n",
       "        // Create the iframe\n",
       "        var iframe = document.createElement('iframe');\n",
       "        iframe.src = url;\n",
       "        iframe.style = \"border: 0; width: 950px; height: 600px\"\n",
       "        iframe.allow = \"fullscreen\";\n",
       "        iframe.allowFullscreen = true;\n",
       "        wrapper.appendChild(iframe);\n",
       "\n",
       "        // Create the download link\n",
       "        var link = document.createElement('a');\n",
       "        link.href = url;\n",
       "        link.download = \"molstar_download.html\";\n",
       "        link.innerText = \"Download HTML\";\n",
       "        link.style.display = \"block\";\n",
       "        link.style.marginTop = \"10px\";\n",
       "        wrapper.appendChild(link);\n",
       "    }, 100);\n",
       "    "
      ],
      "text/plain": [
       "<IPython.core.display.Javascript object>"
      ]
     },
     "metadata": {},
     "output_type": "display_data"
    }
   ],
   "source": [
    "builder = mvs.create_builder()\n",
    "\n",
    "model = (\n",
    "    builder.download(url='https://files.wwpdb.org/download/6vjj.cif')\n",
    "    .parse(format='mmcif')\n",
    "    .model_structure()\n",
    ")\n",
    "\n",
    "rep = model.component(selector=dict(label_asym_id='A')).representation()\n",
    "rep.color(color=\"white\")\n",
    "\n",
    "rep = model.component(selector=dict(label_asym_id='D')).representation(type=\"ball_and_stick\")\n",
    "rep.color(color=\"orange\")\n",
    "\n",
    "rep = model.component(selector=dict(label_asym_id='A', auth_seq_id=12)).representation(type=\"ball_and_stick\")\n",
    "rep.color(color=\"green\")\n",
    "\n",
    "rep = model.component(selector=dict(label_asym_id='B')).representation()\n",
    "rep.color(color=\"#bbccff\")\n",
    "\n",
    "builder.molstar_notebook()\n",
    "\n",
    "# white = KRAS\n",
    "# green = \"on switch\" (G12C)\n",
    "# orange = 5'-Guanylyl imidodiphosphate (GDPNP)\n",
    "# blue = RAF1"
   ]
  },
  {
   "cell_type": "code",
   "execution_count": null,
   "id": "2b66a483-f70a-4816-8580-1d71472b6d05",
   "metadata": {},
   "outputs": [],
   "source": []
  }
 ],
 "metadata": {
  "kernelspec": {
   "display_name": "Python 3 (ipykernel)",
   "language": "python",
   "name": "python3"
  },
  "language_info": {
   "codemirror_mode": {
    "name": "ipython",
    "version": 3
   },
   "file_extension": ".py",
   "mimetype": "text/x-python",
   "name": "python",
   "nbconvert_exporter": "python",
   "pygments_lexer": "ipython3",
   "version": "3.11.12"
  }
 },
 "nbformat": 4,
 "nbformat_minor": 5
}
