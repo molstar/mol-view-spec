{
 "cells": [
  {
   "cell_type": "code",
   "execution_count": 1,
   "id": "d794cf4d",
   "metadata": {},
   "outputs": [],
   "source": [
    "import molviewspec as mvs"
   ]
  },
  {
   "cell_type": "code",
   "execution_count": 7,
   "id": "44402fca",
   "metadata": {},
   "outputs": [],
   "source": [
    "builder = mvs.create_builder()\n",
    "\n",
    "(\n",
    "    builder.download(url=\"<placeholder>\", ref=\"download\")\n",
    "        .parse(format=\"mmcif\")\n",
    "        .model_structure()\n",
    "        .component()\n",
    "        .representation()\n",
    "        .color(color=\"blue\")\n",
    ")\n",
    "\n",
    "templ_json = builder.get_state().dumps()\n",
    "# or save to a file\n",
    "# mvs.MVSJ(data=builder.get_state()).dump(\"./path/to/template.mvsj\")"
   ]
  },
  {
   "cell_type": "code",
   "execution_count": 8,
   "id": "63784a0b",
   "metadata": {},
   "outputs": [
    {
     "data": {
      "text/html": [
       "<div id=\"molstar_4472e7fd-9627-4c1d-aa60-824d4602182a\"></div>"
      ],
      "text/plain": [
       "<IPython.core.display.HTML object>"
      ]
     },
     "metadata": {},
     "output_type": "display_data"
    },
    {
     "data": {
      "application/javascript": "\n    setTimeout(function(){\n        var wrapper = document.getElementById(\"molstar_4472e7fd-9627-4c1d-aa60-824d4602182a\")\n        if (wrapper === null) {\n            throw new Error(\"Wrapper element #molstar_4472e7fd-9627-4c1d-aa60-824d4602182a not found anymore\")\n        }\n        var blob = new Blob([\"<!DOCTYPE html>\\n<html lang=\\\"en\\\">\\n    <head>\\n        <script src=\\\"https://cdn.jsdelivr.net/npm/molstar@latest/build/viewer/molstar.js\\\"></\" + \"script\" + \">\\n        <link rel=\\\"stylesheet\\\" type=\\\"text/css\\\" href=\\\"https://cdn.jsdelivr.net/npm/molstar@latest/build/viewer/molstar.css\\\" />\\n    </head>\\n    <body>\\n        <div id=\\\"viewer1\\\"></div>\\n        <script>\\n            var mvsData = \\\"{\\\\\\\"kind\\\\\\\":\\\\\\\"single\\\\\\\",\\\\\\\"root\\\\\\\":{\\\\\\\"kind\\\\\\\":\\\\\\\"root\\\\\\\",\\\\\\\"children\\\\\\\":[{\\\\\\\"kind\\\\\\\":\\\\\\\"download\\\\\\\",\\\\\\\"params\\\\\\\":{\\\\\\\"url\\\\\\\":\\\\\\\"https://files.wwpdb.org/download/1cbs.cif\\\\\\\"},\\\\\\\"children\\\\\\\":[{\\\\\\\"kind\\\\\\\":\\\\\\\"parse\\\\\\\",\\\\\\\"params\\\\\\\":{\\\\\\\"format\\\\\\\":\\\\\\\"mmcif\\\\\\\"},\\\\\\\"children\\\\\\\":[{\\\\\\\"kind\\\\\\\":\\\\\\\"structure\\\\\\\",\\\\\\\"params\\\\\\\":{\\\\\\\"type\\\\\\\":\\\\\\\"model\\\\\\\"},\\\\\\\"children\\\\\\\":[{\\\\\\\"kind\\\\\\\":\\\\\\\"component\\\\\\\",\\\\\\\"params\\\\\\\":{\\\\\\\"selector\\\\\\\":\\\\\\\"all\\\\\\\"},\\\\\\\"children\\\\\\\":[{\\\\\\\"kind\\\\\\\":\\\\\\\"representation\\\\\\\",\\\\\\\"params\\\\\\\":{\\\\\\\"type\\\\\\\":\\\\\\\"cartoon\\\\\\\"},\\\\\\\"children\\\\\\\":[{\\\\\\\"kind\\\\\\\":\\\\\\\"color\\\\\\\",\\\\\\\"params\\\\\\\":{\\\\\\\"color\\\\\\\":\\\\\\\"blue\\\\\\\"}}]}]}]}]}],\\\\\\\"ref\\\\\\\":\\\\\\\"download\\\\\\\"}]},\\\\\\\"metadata\\\\\\\":{\\\\\\\"timestamp\\\\\\\":\\\\\\\"2025-05-22T12:12:26.506473+00:00\\\\\\\",\\\\\\\"version\\\\\\\":\\\\\\\"1.6\\\\\\\"}}\\\";\\n            molstar.Viewer\\n                .create('viewer1', { layoutIsExpanded: false, layoutShowControls: false })\\n                .then(viewer => viewer.loadMvsData(mvsData, 'mvsj'));\\n        </\" + \"script\" + \">\\n    </body>\\n</html>\\n\"], { type: 'text/html' });\n        var url = URL.createObjectURL(blob);\n\n        // Create the iframe\n        var iframe = document.createElement('iframe');\n        iframe.src = url;\n        iframe.style = \"border: 0; width: 950px; height: 600px\"\n        iframe.allow = \"fullscreen\";\n        iframe.allowFullscreen = true;\n        wrapper.appendChild(iframe);\n\n        // Create the download link\n        var link = document.createElement('a');\n        link.href = url;\n        link.download = \"molstar_download.html\";\n        link.innerText = \"Download HTML\";\n        link.style.display = \"block\";\n        link.style.marginTop = \"10px\";\n        wrapper.appendChild(link);\n    }, 100);\n    ",
      "text/plain": [
       "<IPython.core.display.Javascript object>"
      ]
     },
     "metadata": {},
     "output_type": "display_data"
    }
   ],
   "source": [
    "templ = mvs.MVSJ.loads(templ_json)\n",
    "# or load from a file\n",
    "# templ = mvs.MVSJ.load(\"./path/to/template.mvsj\")\n",
    "\n",
    "node = templ.find_ref(\"download\")\n",
    "node.params[\"url\"] = \"https://files.wwpdb.org/download/1cbs.cif\"\n",
    "\n",
    "templ"
   ]
  },
  {
   "cell_type": "code",
   "execution_count": null,
   "id": "0a77c63c",
   "metadata": {},
   "outputs": [],
   "source": []
  }
 ],
 "metadata": {
  "kernelspec": {
   "display_name": "mol-view-spec-dev",
   "language": "python",
   "name": "python3"
  },
  "language_info": {
   "codemirror_mode": {
    "name": "ipython",
    "version": 3
   },
   "file_extension": ".py",
   "mimetype": "text/x-python",
   "name": "python",
   "nbconvert_exporter": "python",
   "pygments_lexer": "ipython3",
   "version": "3.11.11"
  }
 },
 "nbformat": 4,
 "nbformat_minor": 5
}
