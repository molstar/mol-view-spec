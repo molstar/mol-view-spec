{
 "cells": [
  {
   "cell_type": "code",
   "execution_count": 1,
   "id": "66587411",
   "metadata": {},
   "outputs": [],
   "source": [
    "import molviewspec as mvs"
   ]
  },
  {
   "cell_type": "code",
   "execution_count": 4,
   "id": "f9dd67fe",
   "metadata": {},
   "outputs": [],
   "source": [
    "builder = mvs.create_builder()\n",
    "\n",
    "assets = {\n",
    "    \"1cbs.cif\": \"https://files.wwpdb.org/download/1cbs.cif\",\n",
    "    # \"1cbs.cif\": \"./local/path/to/1cbs.cif\",  # Uncomment to use a local file\n",
    "}\n",
    "\n",
    "(\n",
    "    builder.download(url=assets[\"1cbs.cif\"])\n",
    "        .parse(format=\"mmcif\")\n",
    "        .model_structure()\n",
    "        .component()\n",
    "        .representation()\n",
    "        .color(color=\"blue\")\n",
    ")\n",
    "\n",
    "mvsx = mvs.MVSX(\n",
    "    data=builder.get_state(serialize=False),\n",
    "    assets=assets\n",
    ")\n",
    "\n",
    "# uncomment to save to a local file\n",
    "# mvsx.dump(\"./local/path/to/1cbs.mvsx\")\n",
    "\n",
    "# uncomment to show in Mol* viewer\n",
    "# mvsx "
   ]
  },
  {
   "cell_type": "code",
   "execution_count": 4,
   "id": "aa47b0ae",
   "metadata": {},
   "outputs": [],
   "source": [
    "def load_pdb_snapshot(id: str, color: str) -> mvs.State:\n",
    "    builder = mvs.create_builder()\n",
    "    (\n",
    "        builder.download(url=f\"https://files.wwpdb.org/download/{id}.cif\")\n",
    "            .parse(format=\"mmcif\")\n",
    "            .model_structure()\n",
    "            .component()\n",
    "            .representation()\n",
    "            .color(color=color)\n",
    "    )\n",
    "    return builder.get_snapshot(title=id, description=f\"Simple view of PDB ID {id}\")\n",
    "\n",
    "mvsj = mvs.MVSJ(\n",
    "    data=mvs.States(\n",
    "        snapshots=[\n",
    "            load_pdb_snapshot(\"1cbs\", \"blue\"),\n",
    "            load_pdb_snapshot(\"1tqn\", \"red\"),\n",
    "        ],\n",
    "        metadata=mvs.GlobalMetadata(description=\"PDB Slideshow\")\n",
    "    )\n",
    ")\n",
    "\n",
    "# uncomment to save to a local file\n",
    "# mvsj.dump(\"./local/path/to/1cbs.mvsj\")\n",
    "\n",
    "# uncomment to show in default Mol* viewer\n",
    "# mvsj\n",
    "\n",
    "# uncomment to show in Mol* Stories viewer\n",
    "# mvs.molstar_widgets.molstar_notebook(mvsj, ui=\"stories\")"
   ]
  },
  {
   "cell_type": "code",
   "execution_count": null,
   "id": "42e7e11e",
   "metadata": {},
   "outputs": [],
   "source": []
  }
 ],
 "metadata": {
  "kernelspec": {
   "display_name": "mol-view-spec-dev",
   "language": "python",
   "name": "python3"
  },
  "language_info": {
   "codemirror_mode": {
    "name": "ipython",
    "version": 3
   },
   "file_extension": ".py",
   "mimetype": "text/x-python",
   "name": "python",
   "nbconvert_exporter": "python",
   "pygments_lexer": "ipython3",
   "version": "3.11.11"
  }
 },
 "nbformat": 4,
 "nbformat_minor": 5
}
