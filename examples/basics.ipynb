{
 "cells": [
  {
   "cell_type": "code",
   "execution_count": 1,
   "id": "66587411",
   "metadata": {},
   "outputs": [],
   "source": [
    "import molviewspec as mvs"
   ]
  },
  {
   "cell_type": "code",
   "execution_count": null,
   "id": "f9dd67fe",
   "metadata": {},
   "outputs": [],
   "source": [
    "builder = mvs.create_builder()\n",
    "\n",
    "assets = {\n",
    "    \"1cbs.cif\": \"https://files.wwpdb.org/download/1cbs.cif\",\n",
    "    # \"1cbs.cif\": \"./local/path/to/1cbs.cif\",  # Uncomment to use a local file\n",
    "}\n",
    "\n",
    "(\n",
    "    builder.download(url=assets[\"1cbs.cif\"])\n",
    "        .parse(format=\"mmcif\")\n",
    "        .model_structure()\n",
    "        .component()\n",
    "        .representation()\n",
    "        .color(color=\"blue\")\n",
    ")\n",
    "\n",
    "mvsx = mvs.MVSX(\n",
    "    data=builder.get_state(serialize=False),\n",
    "    assets=assets\n",
    ")\n",
    "\n",
    "# uncomment to save to a local file\n",
    "# mvsx.dump(\"./local/path/to/1cbs.mvsx\")\n",
    "\n",
    "# uncomment to show in Mol* viewer\n",
    "# mvsx "
   ]
  },
  {
   "cell_type": "code",
   "execution_count": 7,
   "id": "aa47b0ae",
   "metadata": {},
   "outputs": [],
   "source": [
    "builder = mvs.create_builder()\n",
    "\n",
    "(\n",
    "    builder.download(url=\"https://files.wwpdb.org/download/1cbs.cif\")\n",
    "        .parse(format=\"mmcif\")\n",
    "        .model_structure()\n",
    "        .component()\n",
    "        .representation()\n",
    "        .color(color=\"blue\")\n",
    ")\n",
    "\n",
    "mvsj = mvs.MVSJ(\n",
    "    data=builder.get_state(serialize=False)\n",
    ")\n",
    "\n",
    "# uncomment to save to a local file\n",
    "# mvsj.dump(\"./local/path/to/1cbs.mvsj\")\n",
    "\n",
    "# uncomment to show in Mol* viewer\n",
    "# mvsj"
   ]
  },
  {
   "cell_type": "code",
   "execution_count": null,
   "id": "42e7e11e",
   "metadata": {},
   "outputs": [],
   "source": []
  }
 ],
 "metadata": {
  "kernelspec": {
   "display_name": "mol-view-spec-dev",
   "language": "python",
   "name": "python3"
  },
  "language_info": {
   "codemirror_mode": {
    "name": "ipython",
    "version": 3
   },
   "file_extension": ".py",
   "mimetype": "text/x-python",
   "name": "python",
   "nbconvert_exporter": "python",
   "pygments_lexer": "ipython3",
   "version": "3.11.11"
  }
 },
 "nbformat": 4,
 "nbformat_minor": 5
}
